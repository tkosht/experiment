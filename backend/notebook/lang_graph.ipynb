{
 "cells": [
  {
   "cell_type": "markdown",
   "metadata": {},
   "source": [
    "\n",
    "\n",
    "- cf. [Google Colab で LangGraph を試す](https://note.com/npaka/n/n053a3cb78311?sub_rt=share_h)"
   ]
  },
  {
   "cell_type": "code",
   "execution_count": 1,
   "metadata": {},
   "outputs": [],
   "source": [
    "import os\n",
    "from dotenv import load_dotenv\n",
    "\n",
    "load_dotenv()\n",
    "\n",
    "assert \"OPENAI_API_KEY\" in os.environ\n",
    "assert \"TAVILY_API_KEY\" in os.environ"
   ]
  },
  {
   "cell_type": "code",
   "execution_count": 2,
   "metadata": {},
   "outputs": [],
   "source": [
    "from langchain_community.tools.tavily_search import TavilySearchResults\n",
    "\n",
    "tools = [TavilySearchResults(max_results=1)]"
   ]
  },
  {
   "cell_type": "code",
   "execution_count": 3,
   "metadata": {},
   "outputs": [],
   "source": [
    "from langgraph.prebuilt import ToolExecutor\n",
    "\n",
    "tool_executor = ToolExecutor(tools)"
   ]
  },
  {
   "cell_type": "code",
   "execution_count": 4,
   "metadata": {},
   "outputs": [],
   "source": [
    "from langchain_openai import ChatOpenAI\n",
    "\n",
    "model = ChatOpenAI(temperature=0, streaming=True)"
   ]
  },
  {
   "cell_type": "code",
   "execution_count": 5,
   "metadata": {},
   "outputs": [],
   "source": [
    "from langchain_core.utils.function_calling import convert_to_openai_function\n",
    "\n",
    "functions = [convert_to_openai_function(t) for t in tools]\n",
    "model = model.bind_functions(functions)"
   ]
  },
  {
   "cell_type": "code",
   "execution_count": 6,
   "metadata": {},
   "outputs": [],
   "source": [
    "from typing import TypedDict, Annotated, Sequence\n",
    "import operator\n",
    "from langchain_core.messages import BaseMessage\n",
    "from langgraph.graph import StateGraph\n",
    "\n",
    "\n",
    "class AgentState(TypedDict):\n",
    "    messages: Annotated[Sequence[BaseMessage], operator.add]\n",
    "\n",
    "\n",
    "workflow = StateGraph(AgentState)"
   ]
  },
  {
   "cell_type": "code",
   "execution_count": 7,
   "metadata": {},
   "outputs": [],
   "source": [
    "import json\n",
    "from langgraph.prebuilt import ToolInvocation\n",
    "from langchain_core.messages import FunctionMessage\n",
    "\n",
    "\n",
    "# agentノードの次に呼び出されるノードを決定する関数の準備\n",
    "def should_continue(state):\n",
    "    messages = state[\"messages\"]\n",
    "    last_message = messages[-1]\n",
    "\n",
    "    # function_call がない場合は終了\n",
    "    if \"function_call\" not in last_message.additional_kwargs:\n",
    "        return \"end\"\n",
    "    # そうでない場合は続行\n",
    "    else:\n",
    "        return \"continue\"\n",
    "\n",
    "\n",
    "# agentノードの処理を定義する関数の準備\n",
    "def call_model(state):\n",
    "    messages = state[\"messages\"]\n",
    "\n",
    "    # モデルの呼び出し\n",
    "    response = model.invoke(messages)\n",
    "\n",
    "    # メッセージリストに追加するメッセージを返す\n",
    "    return {\"messages\": [response]}\n",
    "\n",
    "\n",
    "# actionノードの処理を定義する関数の準備\n",
    "def call_tool(state):\n",
    "    messages = state[\"messages\"]\n",
    "    last_message = messages[-1]\n",
    "\n",
    "    # ツールの呼び出し\n",
    "    action = ToolInvocation(\n",
    "        tool=last_message.additional_kwargs[\"function_call\"][\"name\"],\n",
    "        tool_input=json.loads(\n",
    "            last_message.additional_kwargs[\"function_call\"][\"arguments\"]\n",
    "        ),\n",
    "    )\n",
    "    response = tool_executor.invoke(action)\n",
    "    function_message = FunctionMessage(content=str(response), name=action.tool)\n",
    "\n",
    "    # メッセージリストに追加するメッセージを返す\n",
    "    return {\"messages\": [function_message]}"
   ]
  },
  {
   "cell_type": "code",
   "execution_count": 8,
   "metadata": {},
   "outputs": [],
   "source": [
    "from langgraph.graph import END\n",
    "\n",
    "# グラフに2つのノードを追加\n",
    "workflow.add_node(\"agent\", call_model)\n",
    "workflow.add_node(\"action\", call_tool)\n",
    "\n",
    "# agentをエントリポイントとして指定\n",
    "workflow.set_entry_point(\"agent\")\n",
    "\n",
    "# agentノードに条件付きエッジを追加\n",
    "workflow.add_conditional_edges(\n",
    "    \"agent\",  # 開始ノード\n",
    "    should_continue,  # 呼び出されるノードを決定する関数\n",
    "    {\"continue\": \"action\", \"end\": END},  # actionノードに遷移  # 終了\n",
    ")\n",
    "\n",
    "# actionノードからagentノードへのノーマルエッジを追加\n",
    "workflow.add_edge(\"action\", \"agent\")\n",
    "\n",
    "# コンパイル\n",
    "app = workflow.compile()"
   ]
  },
  {
   "cell_type": "code",
   "execution_count": 9,
   "metadata": {},
   "outputs": [
    {
     "data": {
      "text/plain": [
       "{'messages': [HumanMessage(content='ぼっち・ざ・ろっくのぼっちちゃんの得意な楽器は？'),\n",
       "  AIMessage(content='ぼっち・ざ・ろっくのぼっちちゃんの得意な楽器はギターです。')]}"
      ]
     },
     "execution_count": 9,
     "metadata": {},
     "output_type": "execute_result"
    }
   ],
   "source": [
    "from langchain_core.messages import HumanMessage\n",
    "\n",
    "# 質問応答\n",
    "inputs = {\"messages\": [HumanMessage(content=\"ぼっち・ざ・ろっくのぼっちちゃんの得意な楽器は？\")]}\n",
    "app.invoke(inputs)"
   ]
  },
  {
   "cell_type": "code",
   "execution_count": 10,
   "metadata": {},
   "outputs": [
    {
     "data": {
      "text/plain": [
       "{'messages': [HumanMessage(content='バーンブレイバーンの主人公の名前は？'),\n",
       "  AIMessage(content='', additional_kwargs={'function_call': {'arguments': '{\\n  \"query\": \"バーンブレイバーン 主人公 名前\"\\n}', 'name': 'tavily_search_results_json'}}),\n",
       "  FunctionMessage(content='[{\\'url\\': \\'https://support.apple.com/en-us/103679\\', \\'content\\': \"20:25:42 May 14, 2029 Not EV  04 04 80 28 BF 1F 28 64 D4 8F 9A D4 D8 32 94 36 6A 82 88 56 55 3F 3B 14 30 3F 90 14 7F 5D 40 EF  15:04:56 Mar 16, 2029 Not EV  00:00:00 Jan 17, 2038 2.23.140.1.1The watchOS Trust Store contains three categories of certificates: Trusted root certificates are used to establish a chain of trust that\\'s used to verify other\\\\xa0...\"}]', name='tavily_search_results_json'),\n",
       "  AIMessage(content='申し訳ありませんが、バーンブレイバーンの主人公の名前に関する情報は見つかりませんでした。')]}"
      ]
     },
     "execution_count": 10,
     "metadata": {},
     "output_type": "execute_result"
    }
   ],
   "source": [
    "from langchain_core.messages import HumanMessage\n",
    "\n",
    "# 質問応答\n",
    "inputs = {\"messages\": [HumanMessage(content=\"バーンブレイバーンの主人公の名前は？\")]}\n",
    "app.invoke(inputs)"
   ]
  },
  {
   "cell_type": "code",
   "execution_count": 11,
   "metadata": {},
   "outputs": [
    {
     "name": "stdout",
     "output_type": "stream",
     "text": [
      "Output from node 'agent':\n",
      "---\n",
      "{'messages': [AIMessage(content='', additional_kwargs={'function_call': {'arguments': '{\\n  \"query\": \"バーンブレイバーン 主人公 名前\"\\n}', 'name': 'tavily_search_results_json'}})]}\n",
      "\n",
      "---\n",
      "\n",
      "Output from node 'action':\n",
      "---\n",
      "{'messages': [FunctionMessage(content=\"[{'url': 'https://game.watch.impress.co.jp/docs/kikaku/1562690.html', 'content': '【冬アニメ2024】大張正己氏によるロボットアニメ！ 「勇気爆発バーンブレイバーン」が2024年1月11日放送開始  TVアニメ「勇気爆発バーンブレイバーン」第3話あらすじ、先行カット、予告映像が公開 2024年1月22日 【冬アニメ2024】大張正己氏によるロボットアニメ！ 「勇気爆発バーンブレイバーン」が2024年1月11日放送開始  2024年1月22日 19:23 1月11日より毎週木曜23：56からTBS系で放映されている「勇気爆発バーンブレイバーン(以下、バーンブレイバーン)」が話題を集めている。  「バーンブレイバーン」は注目するところが多いアニメではあるが、話題を集めているのは本作が「ちょっと変」だからである。王道のロボットアニメのように見せかけ、大張氏と、主役ロボ・ブレイバーンを演じる鈴村健一さんによって「王道を突き進むからこそ7 days ago — 7 days agoイサミは陸上自衛隊の最新兵器のパイロット、コテコテの軍人であり、生真面目な性格、「リアルロボットアニメの主人公」タイプのキャラクターだ。その彼が\\\\xa0...'}]\", name='tavily_search_results_json')]}\n",
      "\n",
      "---\n",
      "\n",
      "Output from node 'agent':\n",
      "---\n",
      "{'messages': [AIMessage(content='バーンブレイバーンの主人公の名前はイサミです。')]}\n",
      "\n",
      "---\n",
      "\n",
      "Output from node '__end__':\n",
      "---\n",
      "{'messages': [HumanMessage(content='バーンブレイバーンの主人公の名前は？'), AIMessage(content='', additional_kwargs={'function_call': {'arguments': '{\\n  \"query\": \"バーンブレイバーン 主人公 名前\"\\n}', 'name': 'tavily_search_results_json'}}), FunctionMessage(content=\"[{'url': 'https://game.watch.impress.co.jp/docs/kikaku/1562690.html', 'content': '【冬アニメ2024】大張正己氏によるロボットアニメ！ 「勇気爆発バーンブレイバーン」が2024年1月11日放送開始  TVアニメ「勇気爆発バーンブレイバーン」第3話あらすじ、先行カット、予告映像が公開 2024年1月22日 【冬アニメ2024】大張正己氏によるロボットアニメ！ 「勇気爆発バーンブレイバーン」が2024年1月11日放送開始  2024年1月22日 19:23 1月11日より毎週木曜23：56からTBS系で放映されている「勇気爆発バーンブレイバーン(以下、バーンブレイバーン)」が話題を集めている。  「バーンブレイバーン」は注目するところが多いアニメではあるが、話題を集めているのは本作が「ちょっと変」だからである。王道のロボットアニメのように見せかけ、大張氏と、主役ロボ・ブレイバーンを演じる鈴村健一さんによって「王道を突き進むからこそ7 days ago — 7 days agoイサミは陸上自衛隊の最新兵器のパイロット、コテコテの軍人であり、生真面目な性格、「リアルロボットアニメの主人公」タイプのキャラクターだ。その彼が\\\\xa0...'}]\", name='tavily_search_results_json'), AIMessage(content='バーンブレイバーンの主人公の名前はイサミです。')]}\n",
      "\n",
      "---\n",
      "\n"
     ]
    }
   ],
   "source": [
    "# ストリーミング\n",
    "inputs = {\"messages\": [HumanMessage(content=\"バーンブレイバーンの主人公の名前は？\")]}\n",
    "for output in app.stream(inputs):\n",
    "    for key, value in output.items():\n",
    "        print(f\"Output from node '{key}':\")\n",
    "        print(\"---\")\n",
    "        print(value)\n",
    "    print(\"\\n---\\n\")"
   ]
  },
  {
   "cell_type": "code",
   "execution_count": null,
   "metadata": {},
   "outputs": [],
   "source": []
  },
  {
   "cell_type": "code",
   "execution_count": null,
   "metadata": {},
   "outputs": [],
   "source": []
  },
  {
   "cell_type": "code",
   "execution_count": null,
   "metadata": {},
   "outputs": [],
   "source": []
  },
  {
   "cell_type": "code",
   "execution_count": null,
   "metadata": {},
   "outputs": [],
   "source": []
  },
  {
   "cell_type": "code",
   "execution_count": null,
   "metadata": {},
   "outputs": [],
   "source": []
  }
 ],
 "metadata": {
  "kernelspec": {
   "display_name": ".venv",
   "language": "python",
   "name": "python3"
  },
  "language_info": {
   "codemirror_mode": {
    "name": "ipython",
    "version": 3
   },
   "file_extension": ".py",
   "mimetype": "text/x-python",
   "name": "python",
   "nbconvert_exporter": "python",
   "pygments_lexer": "ipython3",
   "version": "3.10.12"
  }
 },
 "nbformat": 4,
 "nbformat_minor": 2
}
