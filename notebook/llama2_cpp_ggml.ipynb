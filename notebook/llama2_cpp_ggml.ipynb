{
 "cells": [
  {
   "cell_type": "markdown",
   "metadata": {},
   "source": [
    "# Llama2 cpp\n",
    "\n",
    "- ポイント\n",
    "    - cmake のインストール\n",
    "    - export CMAKE_ARGS=\"-DLLAMA_CUBLAS=ON\"　を設定\n",
    "- cf. [Llama.cpp で Llama 2 を試す](https://note.com/npaka/n/n0ad63134fbe2)\n",
    "- cf. [llama-cpp-python 0.1.77](https://pypi.org/project/llama-cpp-python/)\n"
   ]
  },
  {
   "cell_type": "code",
   "execution_count": null,
   "metadata": {},
   "outputs": [],
   "source": [
    "import pathlib\n",
    "\n",
    "# llama2_model_file = \"../backend/data/llama-2-7b-chat.ggmlv3.q5_K_M.bin\"\n",
    "# llama2_model_file = \"../backend/data/llama-2-13b-chat.ggmlv3.q4_K_M.bin\"\n",
    "llama2_model_file = \"../backend/data/llama-2-70b-chat.ggmlv3.q4_K_M.bin\"\n",
    "# llama2_model_file = \"../backend/data/llama-2-70b-chat.ggmlv3.q5_K_M.bin\"\n",
    "pathlib.Path(llama2_model_file).exists()\n"
   ]
  },
  {
   "cell_type": "code",
   "execution_count": null,
   "metadata": {},
   "outputs": [],
   "source": [
    "from llama_cpp import Llama\n",
    "\n",
    "n_gqa = 8 if \"70b\" in llama2_model_file else 1\n",
    "llm = Llama(model_path=llama2_model_file, n_gqa=n_gqa, n_gpu_layers=16)\n"
   ]
  },
  {
   "cell_type": "code",
   "execution_count": null,
   "metadata": {},
   "outputs": [],
   "source": [
    "prompt = \"\"\"### Instruction: What is the height of Mount Fuji?\n",
    "### Response:\"\"\"\n",
    "\n",
    "prompt_formatted = f\"\"\"[INST] <<SYS>>\n",
    "You are a helpful, respectful and honest assistant. Always answer as helpfully as possible, while being safe.  Your answers should not include any harmful, unethical, racist, sexist, toxic, dangerous, or illegal content. Please ensure that your responses are socially unbiased and positive in nature.\n",
    "\n",
    "If a question does not make any sense, or is not factually coherent, explain why instead of answering something not correct. If you don't know the answer to a question, please don't share false information.\n",
    "<</SYS>>\n",
    "\n",
    "{prompt} [/INST]\n",
    "\"\"\"\n",
    "\n",
    "\n",
    "# 推論の実行\n",
    "output = llm(\n",
    "    prompt_formatted,\n",
    "    temperature=0.1,\n",
    "    stop=[\"Instruction:\", \"Input:\", \"Response:\", \"\\n\"],\n",
    "    echo=True,\n",
    ")\n"
   ]
  },
  {
   "cell_type": "code",
   "execution_count": null,
   "metadata": {},
   "outputs": [],
   "source": [
    "print(output[\"choices\"][0][\"text\"])\n"
   ]
  },
  {
   "cell_type": "markdown",
   "metadata": {},
   "source": [
    "# LangChain"
   ]
  },
  {
   "cell_type": "code",
   "execution_count": null,
   "metadata": {},
   "outputs": [],
   "source": []
  },
  {
   "cell_type": "code",
   "execution_count": null,
   "metadata": {},
   "outputs": [],
   "source": [
    "import pathlib\n",
    "\n",
    "# llama2_model_file = \"../backend/data/llama-2-7b-chat.ggmlv3.q5_K_M.bin\"\n",
    "# llama2_model_file = \"../backend/data/llama-2-13b-chat.ggmlv3.q4_K_M.bin\"\n",
    "llama2_model_file = \"../backend/data/llama-2-70b-chat.ggmlv3.q4_K_M.bin\"\n",
    "# llama2_model_file = \"../backend/data/llama-2-70b-chat.ggmlv3.q5_K_M.bin\"\n",
    "pathlib.Path(llama2_model_file).exists()\n"
   ]
  },
  {
   "cell_type": "code",
   "execution_count": null,
   "metadata": {},
   "outputs": [],
   "source": [
    "from app.llama2cpp.component.llama2cpp import LlamaCppCustom\n",
    "\n",
    "\n",
    "n_gqa = 8 if \"70b\" in llama2_model_file else 1\n",
    "llm = LlamaCppCustom(\n",
    "    model_path=llama2_model_file,\n",
    "    n_ctx=512,\n",
    "    temperature=0,\n",
    "    max_tokens=128,\n",
    "    n_gqa=n_gqa,\n",
    "    n_gpu_layers=16,\n",
    "    verbose=True,\n",
    "    streaming=True\n",
    ")\n"
   ]
  },
  {
   "cell_type": "code",
   "execution_count": null,
   "metadata": {},
   "outputs": [],
   "source": [
    "_prompt = \"富士山の高さは？\"\n",
    "\n",
    "prompt = f\"\"\"[INST] <<SYS>>\n",
    "You are a helpful, respectful and honest assistant. Always answer as helpfully as possible, while being safe.  Your answers should not include any harmful, unethical, racist, sexist, toxic, dangerous, or illegal content. Please ensure that your responses are socially unbiased and positive in nature.\n",
    "\n",
    "If a question does not make any sense, or is not factually coherent, explain why instead of answering something not correct. If you don't know the answer to a question, please don't share false information.\n",
    "you have to answer in Japanese.\n",
    "<</SYS>>\n",
    "\n",
    "{_prompt} [/INST]\n",
    "\n",
    "\"\"\"\n",
    "\n",
    "# response = llm(prompt=prompt)"
   ]
  },
  {
   "cell_type": "code",
   "execution_count": null,
   "metadata": {},
   "outputs": [],
   "source": [
    "# print(response)"
   ]
  },
  {
   "cell_type": "code",
   "execution_count": null,
   "metadata": {},
   "outputs": [],
   "source": [
    "for token in llm.stream(prompt=prompt, stop=None, run_manager=None):\n",
    "    tkn = token[\"choices\"][0][\"text\"]\n",
    "    print(tkn, sep=\"\", end=\"\")\n",
    "print(\"\")"
   ]
  },
  {
   "cell_type": "code",
   "execution_count": null,
   "metadata": {},
   "outputs": [],
   "source": []
  },
  {
   "cell_type": "code",
   "execution_count": null,
   "metadata": {},
   "outputs": [],
   "source": []
  },
  {
   "cell_type": "code",
   "execution_count": null,
   "metadata": {},
   "outputs": [],
   "source": []
  },
  {
   "cell_type": "code",
   "execution_count": null,
   "metadata": {},
   "outputs": [],
   "source": []
  }
 ],
 "metadata": {
  "kernelspec": {
   "display_name": ".venv",
   "language": "python",
   "name": "python3"
  },
  "language_info": {
   "codemirror_mode": {
    "name": "ipython",
    "version": 3
   },
   "file_extension": ".py",
   "mimetype": "text/x-python",
   "name": "python",
   "nbconvert_exporter": "python",
   "pygments_lexer": "ipython3",
   "version": "3.10.6"
  },
  "orig_nbformat": 4
 },
 "nbformat": 4,
 "nbformat_minor": 2
}
