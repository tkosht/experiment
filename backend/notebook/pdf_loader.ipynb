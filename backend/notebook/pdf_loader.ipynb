{
 "cells": [
  {
   "cell_type": "code",
   "execution_count": 12,
   "metadata": {},
   "outputs": [],
   "source": [
    "import logging\n",
    "import requests\n",
    "from io import BytesIO\n",
    "from pdfminer.high_level import extract_text\n",
    "\n",
    "\n",
    "def download_pdf(url: str) -> BytesIO:\n",
    "    \"\"\"\n",
    "    指定された URL から PDF をダウンロードし、BytesIO オブジェクトとして返す。\n",
    "    \"\"\"\n",
    "    try:\n",
    "        response = requests.get(url)\n",
    "        response.raise_for_status()  # HTTP エラーがあれば例外を発生させる\n",
    "        return BytesIO(response.content)\n",
    "    except requests.exceptions.RequestException as e:\n",
    "        logging.error(\"PDF のダウンロード中にエラーが発生しました: %s\", e)\n",
    "        raise\n",
    "\n",
    "\n",
    "def extract_text_from_pdf(pdf_file: BytesIO) -> str:\n",
    "    \"\"\"\n",
    "    BytesIO 形式の PDF ファイルからテキストを抽出する。\n",
    "    \"\"\"\n",
    "    try:\n",
    "        text = extract_text(pdf_file)\n",
    "        return text\n",
    "    except Exception as e:\n",
    "        logging.error(\"PDF からのテキスト抽出中にエラーが発生しました: %s\", e)\n",
    "        raise"
   ]
  },
  {
   "cell_type": "code",
   "execution_count": null,
   "metadata": {},
   "outputs": [],
   "source": [
    "url = \"https://www.fastretailing.com/jp/ir/library/pdf/20250109_results.pdf\"\n",
    "\n",
    "# PDF をダウンロード\n",
    "pdf_file = download_pdf(url)\n",
    "\n",
    "# PDF からテキストを抽出\n",
    "text = extract_text_from_pdf(pdf_file)\n",
    "\n",
    "# 結果を標準出力に表示\n",
    "print(text)"
   ]
  },
  {
   "cell_type": "code",
   "execution_count": null,
   "metadata": {},
   "outputs": [],
   "source": [
    "import os\n",
    "from dotenv import load_dotenv\n",
    "\n",
    "load_dotenv(\"../../.env\")"
   ]
  },
  {
   "cell_type": "code",
   "execution_count": 4,
   "metadata": {},
   "outputs": [],
   "source": [
    "import anthropic\n",
    "\n",
    "client = anthropic.Anthropic(\n",
    "    # デフォルトはos.environ.get(\"ANTHROPIC_API_KEY\")\n",
    "    api_key=os.environ.get(\"ANTHROPIC_API_KEY\"),\n",
    ")\n",
    "\n",
    "model_name = \"claude-3-5-sonnet-latest\"\n",
    "# model_name = \"claude-3-5-sonnet-20241022\"\n",
    "message = client.messages.create(\n",
    "    model=model_name, max_tokens=1024, messages=[{\"role\": \"user\", \"content\": \"Hello, Claude\"}]\n",
    ")\n",
    "print(message.content)"
   ]
  },
  {
   "cell_type": "code",
   "execution_count": 10,
   "metadata": {},
   "outputs": [],
   "source": [
    "import anthropic\n",
    "import logging\n",
    "import os\n",
    "import requests\n",
    "import tempfile\n",
    "from markitdown import MarkItDown\n",
    "\n",
    "\n",
    "def download_pdf(url: str, dest_path: str) -> None:\n",
    "    \"\"\"\n",
    "    指定された URL から PDF をダウンロードし、dest_path に保存する。\n",
    "    \"\"\"\n",
    "    try:\n",
    "        response = requests.get(url)\n",
    "        response.raise_for_status()  # HTTP エラーがあれば例外を発生させる\n",
    "        with open(dest_path, \"wb\") as f:\n",
    "            f.write(response.content)\n",
    "    except requests.exceptions.RequestException as e:\n",
    "        logging.error(\"PDF のダウンロード中にエラーが発生しました: %s\", e)\n",
    "        raise\n",
    "\n",
    "\n",
    "def convert_pdf_to_markdown(pdf_path: str) -> str:\n",
    "    \"\"\"\n",
    "    markitdown を使用して、指定された PDF ファイルから Markdown 形式のテキストを抽出する。\n",
    "    \"\"\"\n",
    "    try:\n",
    "        client = anthropic.Anthropic(\n",
    "            # デフォルトはos.environ.get(\"ANTHROPIC_API_KEY\")\n",
    "            api_key=os.environ.get(\"ANTHROPIC_API_KEY\"),\n",
    "        )\n",
    "        md = MarkItDown(llm_client=client, llm_model=\"claude-3-5-sonnet-latest\")\n",
    "\n",
    "        result = md.convert(pdf_path)\n",
    "        return result.text_content\n",
    "    except Exception as e:\n",
    "        logging.error(\"PDF からの Markdown 変換中にエラーが発生しました: %s\", e)\n",
    "        raise"
   ]
  },
  {
   "cell_type": "code",
   "execution_count": null,
   "metadata": {},
   "outputs": [],
   "source": [
    "# 例: URL から PDF をダウンロードし、Markdown に変換する\n",
    "url = \"https://www.fastretailing.com/jp/ir/library/pdf/20250109_results.pdf\"\n",
    "with tempfile.NamedTemporaryFile(suffix=\".pdf\", delete=False) as tmp:\n",
    "    temp_pdf_path = tmp.name\n",
    "\n",
    "try:\n",
    "    download_pdf(url, temp_pdf_path)\n",
    "    markdown_text = convert_pdf_to_markdown(temp_pdf_path)\n",
    "    print(markdown_text)\n",
    "finally:\n",
    "    if os.path.exists(temp_pdf_path):\n",
    "        os.remove(temp_pdf_path)"
   ]
  },
  {
   "cell_type": "code",
   "execution_count": null,
   "metadata": {},
   "outputs": [],
   "source": []
  }
 ],
 "metadata": {
  "kernelspec": {
   "display_name": ".venv",
   "language": "python",
   "name": "python3"
  },
  "language_info": {
   "codemirror_mode": {
    "name": "ipython",
    "version": 3
   },
   "file_extension": ".py",
   "mimetype": "text/x-python",
   "name": "python",
   "nbconvert_exporter": "python",
   "pygments_lexer": "ipython3",
   "version": "3.10.12"
  }
 },
 "nbformat": 4,
 "nbformat_minor": 2
}
