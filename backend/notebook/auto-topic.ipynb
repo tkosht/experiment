{
 "cells": [
  {
   "attachments": {},
   "cell_type": "markdown",
   "metadata": {},
   "source": [
    "# トピックへの自動ラベリング\n"
   ]
  },
  {
   "attachments": {},
   "cell_type": "markdown",
   "metadata": {},
   "source": [
    "## コンテンツを取得"
   ]
  },
  {
   "cell_type": "code",
   "execution_count": 1,
   "metadata": {},
   "outputs": [
    {
     "data": {
      "text/plain": [
       "'\\n\\n \\n\\n\\n\\n \\n\\n\\n脱クラウドの理由「クラウド高過ぎ」問題の“残念な真相”：「脱クラウド」これだけの理由【第3回】 - TechTargetジャパン クラウド\\n\\n\\n\\n\\n\\n\\n\\n\\n\\n\\n\\n\\n\\n\\n\\n\\n\\n\\n\\n\\n\\n\\n\\n\\n\\n\\n\\n\\n\\n\\n\\n\\n\\n\\n\\n\\n\\n\\n\\n\\n\\n\\n\\n\\n\\n\\n\\n\\n\\n\\n\\n\\n\\n\\n\\n\\n\\n\\n\\n\\n\\n\\n\\n\\n\\n\\n\\n\\n\\n\\n\\n\\n\\n\\n\\n\\n\\n\\n\\n\\n\\n\\n\\nメディア\\n\\n\\n\\n\\n\\n\\nITインフラ\\n\\nクラウド\\n仮想化\\nサーバ＆ストレー'"
      ]
     },
     "execution_count": 1,
     "metadata": {},
     "output_type": "execute_result"
    }
   ],
   "source": [
    "import requests\n",
    "from bs4 import BeautifulSoup\n",
    "\n",
    "# url = \"https://ledge.ai/authorinterview-book-bert-int/\"\n",
    "url = \"https://techtarget.itmedia.co.jp/tt/news/2302/07/news02.html\"\n",
    "# url = \"https://ainow.ai/2023/01/10/271486/\"\n",
    "# url = \"https://ja.stateofaiguides.com/20230105-cramming-bert/\"\n",
    "# url = \"https://www.nowhere.co.jp/blog/archives/20160524-14722.html\"\n",
    "# url = \"https://www.yomiuri.co.jp/world/20230104-OYT1T50056/\"\n",
    "# url = \"https://www3.nhk.or.jp/kansai-news/20230104/2000069636.html\"\n",
    "# url = \"https://news.yahoo.co.jp/articles/fad0c4f41d46b686e0566bf10e4c016a641a9dab\"\n",
    "# url = \"https://news.yahoo.co.jp/articles/4d2d14fd1ca1dc9b134c5f493896a7e30fc1e781\"\n",
    "res = requests.get(url)\n",
    "\n",
    "soup = BeautifulSoup(res.content, \"lxml\")\n",
    "for tg in [\"script\", \"noscript\", \"meta\"]:\n",
    "    try:\n",
    "        soup.find(tg).replace_with(\" \")\n",
    "    except:\n",
    "        pass\n",
    "soup.get_text()[:200]"
   ]
  },
  {
   "attachments": {},
   "cell_type": "markdown",
   "metadata": {},
   "source": [
    "### 簡易クレンジング"
   ]
  },
  {
   "cell_type": "code",
   "execution_count": 2,
   "metadata": {},
   "outputs": [
    {
     "data": {
      "text/plain": [
       "['脱クラウドの理由「クラウド高過ぎ」問題の“残念な真相”：「脱クラウド」これだけの理由【第3回】 - TechTargetジャパン クラウド',\n",
       " 'メディア',\n",
       " 'ITインフラ',\n",
       " 'クラウド',\n",
       " '仮想化']"
      ]
     },
     "execution_count": 2,
     "metadata": {},
     "output_type": "execute_result"
    }
   ],
   "source": [
    "import re\n",
    "\n",
    "def clean_text(text: str):\n",
    "    contents = []\n",
    "    for txt in re.split(r\"(。|\\n)\", text):\n",
    "        txt = txt.strip().replace(\"\\u200b\", \"\").replace(\"\\u3000\", \" \")\n",
    "        txt = re.sub(r\"\\n+\", \"\\n\", txt)\n",
    "        txt = re.sub(r\"([\\W])\\1+\", \" \", txt)\n",
    "        if not txt:\n",
    "            continue\n",
    "        if txt == \"。\":\n",
    "            continue\n",
    "        # contents.append(txt)\n",
    "        # contents.append(txt.split(\"\\n\")[-1])\n",
    "        contents.extend(txt.split(\"\\n\"))\n",
    "    return contents\n",
    "\n",
    "text = soup.get_text()\n",
    "contents = clean_text(text)\n",
    "contents[:5]"
   ]
  },
  {
   "cell_type": "code",
   "execution_count": 3,
   "metadata": {},
   "outputs": [],
   "source": [
    "# # pickup wiki data to analyze topic\n",
    "# wdb = WikiDb(mode=\"train\")\n",
    "# records = wdb.select_by_document_id(document_ids=[\n",
    "#     \"Doc01GN7P2K02Y2FC8BXHMZ5V1A34\",    # 南部煎餅\n",
    "#     \"Doc01GN7P3C1ZPVGB8AXJC75M9ZQ9\",    # 龍が如く OF THE END\n",
    "#     \"Doc01GN7P3C0YPAWH4KT16P7NNQBK\",    # 自動運転車\n",
    "#     \"Doc01GN7P3BS2JNYS3HYV0RM1TT7T\",    # デュケイン大学\n",
    "#     \"Doc01GN7P3BK88YCXKS64H6G2HK0Y\",    # 深蒸し茶\n",
    "#     ])\n",
    "# X: TextSequences = [WikiRecord(*rec).paragraph.splitlines() for rec in records]\n",
    "# pipe_topic.fit(X)"
   ]
  },
  {
   "attachments": {},
   "cell_type": "markdown",
   "metadata": {},
   "source": [
    "## トピックモデルのパイプラインを構築"
   ]
  },
  {
   "cell_type": "code",
   "execution_count": 4,
   "metadata": {},
   "outputs": [],
   "source": [
    "import joblib\n",
    "\n",
    "from app.auto_topic.component.models.model import TextSequences\n",
    "from app.auto_topic.component.models.pipeline import Pipeline\n",
    "from app.auto_topic.component.models.vectorizer import VectorizerBoW, VectorizerWord2vec\n",
    "from app.auto_topic.domain.models.tokenizer import TokenizerWord\n",
    "from app.auto_topic.domain.models.topic_model import TopicModel\n",
    "from app.auto_topic.infra.wikidb import WikiDb, WikiRecord"
   ]
  },
  {
   "cell_type": "code",
   "execution_count": 5,
   "metadata": {},
   "outputs": [],
   "source": [
    "pipe_topic = Pipeline(\n",
    "    steps=[\n",
    "        (TokenizerWord(use_stoppoes=True), None),\n",
    "        (VectorizerBoW(), None),\n",
    "        (TopicModel(n_topics=10, n_epoch=2000), None),\n",
    "    ],\n",
    "    name=\"pipe_topic_sample\",\n",
    "    do_print=True,\n",
    ")\n"
   ]
  },
  {
   "cell_type": "code",
   "execution_count": 6,
   "metadata": {},
   "outputs": [
    {
     "name": "stdout",
     "output_type": "stream",
     "text": [
      "2023/02/13 23:42:58 INFO Start to fit n_step=0 model=JpTokenizerMeCab(use_stoppoes=True, filterpos=[], use_orgform=False)\n",
      "2023/02/13 23:42:58 INFO End to fit n_step=0 model=JpTokenizerMeCab(use_stoppoes=True, filterpos=[], use_orgform=False)\n",
      "2023/02/13 23:42:58 INFO Start to transform n_step=0 model=JpTokenizerMeCab(use_stoppoes=True, filterpos=[], use_orgform=False)\n",
      "2023/02/13 23:42:58 INFO End to transform n_step=0 model=JpTokenizerMeCab(use_stoppoes=True, filterpos=[], use_orgform=False)\n",
      "2023/02/13 23:42:58 INFO Start to fit n_step=1 model=VectorizerBoW()\n",
      "2023/02/13 23:42:58 INFO End to fit n_step=1 model=VectorizerBoW()\n",
      "2023/02/13 23:42:58 INFO Start to transform n_step=1 model=VectorizerBoW()\n",
      "2023/02/13 23:42:58 INFO End to transform n_step=1 model=VectorizerBoW()\n",
      "2023/02/13 23:42:58 INFO Start to fit n_step=2 model=TopicModel(n_topics=10, n_epoch=2000, random_state=RandomState(MT19937))\n",
      "2023/02/13 23:42:58 INFO End to fit n_step=2 model=TopicModel(n_topics=10, n_epoch=2000, random_state=RandomState(MT19937))\n",
      "2023/02/13 23:42:58 INFO Start to transform n_step=2 model=TopicModel(n_topics=10, n_epoch=2000, random_state=RandomState(MT19937))\n",
      "2023/02/13 23:42:58 INFO End to transform n_step=2 model=TopicModel(n_topics=10, n_epoch=2000, random_state=RandomState(MT19937))\n"
     ]
    },
    {
     "data": {
      "text/plain": [
       "Pipeline(steps=[(JpTokenizerMeCab(use_stoppoes=True, filterpos=[], use_orgform=False), None), (VectorizerBoW(), None), (TopicModel(n_topics=10, n_epoch=2000, random_state=RandomState(MT19937)), None)], name=pipe_topic_sample, do_print=True, args=(), kwargs={})"
      ]
     },
     "execution_count": 6,
     "metadata": {},
     "output_type": "execute_result"
    }
   ],
   "source": [
    "# X: TextSequences = [[snt] for snt in contents]\n",
    "X: TextSequences = [contents]\n",
    "# pipe_topic[:1].fit(X).transform(X)        # for debugging\n",
    "pipe_topic.fit(X)"
   ]
  },
  {
   "cell_type": "code",
   "execution_count": 7,
   "metadata": {},
   "outputs": [
    {
     "data": {
      "text/plain": [
       "(VectorizerBoW(),\n",
       " TopicModel(n_topics=10, n_epoch=2000, random_state=RandomState(MT19937)))"
      ]
     },
     "execution_count": 7,
     "metadata": {},
     "output_type": "execute_result"
    }
   ],
   "source": [
    "model_bow: VectorizerBoW = pipe_topic.get_model(1)\n",
    "model_topic: TopicModel = pipe_topic.get_model(-1)\n",
    "model_bow, model_topic\n"
   ]
  },
  {
   "attachments": {},
   "cell_type": "markdown",
   "metadata": {},
   "source": [
    "## Word2Vec モデルをロード"
   ]
  },
  {
   "cell_type": "code",
   "execution_count": 8,
   "metadata": {},
   "outputs": [],
   "source": [
    "# use original pretrained wikivec model (with only noun and verb tokens)\n",
    "# pipe_wikivec = joblib.load(\"data/pipe_wikivec.gz\")        # Wikipedia trainset\n",
    "pipe_wikivec = joblib.load(\"data/pipe_wikivec.retrained.gz\")    # Wikipedia trainset + recent news\n",
    "pipe_wikivec\n",
    "model_vectorizer: VectorizerWord2vec = pipe_wikivec.get_model(-1)\n",
    "model_vectorizer\n",
    "w2v = model_vectorizer.model"
   ]
  },
  {
   "cell_type": "code",
   "execution_count": 9,
   "metadata": {},
   "outputs": [],
   "source": [
    "# # use shiroyagi's word2vec pretrained model\n",
    "# from gensim.models.word2vec import Word2Vec\n",
    "# w2v = Word2Vec.load(\"data/word2vec.gensim.model\")\n",
    "# w2v"
   ]
  },
  {
   "cell_type": "code",
   "execution_count": 10,
   "metadata": {},
   "outputs": [
    {
     "data": {
      "text/plain": [
       "2455730"
      ]
     },
     "execution_count": 10,
     "metadata": {},
     "output_type": "execute_result"
    }
   ],
   "source": [
    "len(w2v.wv.key_to_index)"
   ]
  },
  {
   "cell_type": "code",
   "execution_count": 11,
   "metadata": {},
   "outputs": [
    {
     "data": {
      "text/plain": [
       "array([0.99999994, 0.99999994, 1.0000001 , 1.        , 1.0000001 ,\n",
       "       1.0000001 , 0.99999994, 0.99999994, 1.        , 1.        ],\n",
       "      dtype=float32)"
      ]
     },
     "execution_count": 11,
     "metadata": {},
     "output_type": "execute_result"
    }
   ],
   "source": [
    "# 各トピックの確率の合計が 1 になることを確認しておく\n",
    "model_topic.get_topic_probabilities().sum(-1)"
   ]
  },
  {
   "cell_type": "code",
   "execution_count": 12,
   "metadata": {},
   "outputs": [],
   "source": [
    "def pickup_topic_words(model_topic: TopicModel, model_bow: VectorizerBoW, topn: int = -1):\n",
    "    # topn: 各トピックの上位の単語の数\n",
    "    topics = []\n",
    "    for topic_probs in model_topic.get_topic_probabilities():\n",
    "        indices = topic_probs.argsort()[::-1][:topn]\n",
    "        topic = [(model_bow.vocab[idx], topic_probs[idx]) for idx in indices]\n",
    "        topics.append(topic)\n",
    "    return topics\n"
   ]
  },
  {
   "cell_type": "code",
   "execution_count": 13,
   "metadata": {},
   "outputs": [
    {
     "data": {
      "text/plain": [
       "[('クラウド', 0.0028332046),\n",
       " ('脱', 0.0028330265),\n",
       " ('IT', 0.0028330102),\n",
       " ('理由', 0.002832991),\n",
       " ('サービス', 0.0028329748)]"
      ]
     },
     "execution_count": 13,
     "metadata": {},
     "output_type": "execute_result"
    }
   ],
   "source": [
    "pickup_topic_words(model_topic, model_bow, topn=30)[0][:5]\n"
   ]
  },
  {
   "cell_type": "code",
   "execution_count": 14,
   "metadata": {},
   "outputs": [],
   "source": [
    "def parse_topic(topics: list):\n",
    "    words = []\n",
    "    numbs = []\n",
    "    for w, p in topics:\n",
    "        do_skip: bool = False\n",
    "        do_skip |= bool(re.search(r\"^[あ-ん]\", w))    # です、ます などは、スキップ\n",
    "        do_skip |= bool(re.search(r\"[あ-ん]$\", w))    # 動名詞 などは、スキップ\n",
    "        do_skip |= w[0].isnumeric()                  # 数字から始まるラベルはスキップ\n",
    "        if do_skip:\n",
    "            continue\n",
    "        words.append(w)\n",
    "        numbs.append(p)\n",
    "    return words, numbs\n"
   ]
  },
  {
   "cell_type": "code",
   "execution_count": 15,
   "metadata": {},
   "outputs": [],
   "source": [
    "import numpy\n",
    "import re\n",
    "\n",
    "\n",
    "def estimate_topic_label(w2v, topics: list):\n",
    "    proper_topics = {}\n",
    "    topic_labels = []\n",
    "\n",
    "    for idx_tpc, tpc in enumerate(topics):\n",
    "        # トピック情報を、単語リストとその確率リストに分解する\n",
    "        _words, _probs = parse_topic(tpc)\n",
    "\n",
    "        # word2vec モデルに含まれる単語のみに絞る\n",
    "        words = [w for w in _words if w in w2v.wv]\n",
    "        probs = [p for w, p in zip(_words, _probs) if w in w2v.wv]\n",
    "\n",
    "        # 単語リストからベクトルに変換し、期待値ベクトルを算出\n",
    "        vectors = w2v.wv[words]\n",
    "        probs = numpy.array(probs).reshape(-1, 1)\n",
    "        topic_vector = (vectors * probs).sum(axis=0)    # 期待値ベクトル\n",
    "\n",
    "        # トピックに対する期待値ベクトルに類似するベクトルを十分な数(topn=100) を取得しておく\n",
    "        estimated_topic_labels = w2v.wv.similar_by_vector(topic_vector, topn=100)\n",
    "\n",
    "        # ラベルと類似度を取得し、最も類似度が高い最初のインデックスの要素を保持\n",
    "        labels, similarities = parse_topic(estimated_topic_labels)\n",
    "        topic_label = labels[0]\n",
    "        similarity = similarities[0]\n",
    "\n",
    "        # 重複しないトピックラベル集合(proper_topics)として記録しておく\n",
    "        if topic_label not in proper_topics:\n",
    "            proper_topics[topic_label] = (idx_tpc, similarity, words, probs)\n",
    "\n",
    "        # 重複を許すトピックラベル(topic_labels)として記録しておく\n",
    "        topic_labels.append((topic_label, similarity))\n",
    "\n",
    "    return topic_labels, proper_topics\n"
   ]
  },
  {
   "cell_type": "code",
   "execution_count": 16,
   "metadata": {},
   "outputs": [],
   "source": [
    "# トピック数を自動で特定するサンプル\n",
    "# # トピック数が proper_topics と一致するまで、減らしていくことで、トピック数を特定する\n",
    "\n",
    "# w2v : is already loaded\n",
    "topic_label_counter = {}\n",
    "\n",
    "n_topic_words = 7       # to calculate the average over\n",
    "n_topics = 15           # default topic numbers\n",
    "\n",
    "\n",
    "rs = numpy.random.RandomState(12345)\n",
    "\n",
    "while True:\n",
    "    # トピックモデルのパイプラインを構築\n",
    "    pipe_topic = Pipeline(\n",
    "        steps=[\n",
    "            (TokenizerWord(use_stoppoes=True, use_orgform=True), None),\n",
    "            (VectorizerBoW(), None),\n",
    "            (TopicModel(n_topics=n_topics, n_epoch=2000, random_state=rs), None),\n",
    "        ],\n",
    "        name=\"pipe_topic\",\n",
    "        do_print=False,\n",
    "    )\n",
    "\n",
    "    # トピックモデルを学習\n",
    "    X: TextSequences = [contents]\n",
    "    pipe_topic.fit(X)\n",
    "\n",
    "    model_bow: VectorizerBoW = pipe_topic.get_model(1)\n",
    "    model_topic: TopicModel = pipe_topic.get_model(-1)\n",
    "    topics = pickup_topic_words(model_topic, model_bow, topn=n_topic_words)\n",
    "    try:\n",
    "        topic_labels, proper_topics = estimate_topic_label(w2v, topics)\n",
    "    except:\n",
    "        print(\"Failed to estimate topic label, possibly needs to train the word2vec model additionally.\")\n",
    "        break\n",
    "\n",
    "    # トピックラベルをカウント\n",
    "    for tpc in proper_topics:\n",
    "        cnt = topic_label_counter.get(tpc, 0) + 1\n",
    "        topic_label_counter[tpc] = cnt\n",
    "    \n",
    "    # ループの終了条件\n",
    "    if len(proper_topics) >= n_topics:\n",
    "        break\n",
    "\n",
    "    # 状態/処理文脈としてトピック数を更新・保持\n",
    "    n_topics = len(proper_topics)"
   ]
  },
  {
   "cell_type": "code",
   "execution_count": 17,
   "metadata": {},
   "outputs": [
    {
     "name": "stdout",
     "output_type": "stream",
     "text": [
      "----------------------------------------------------------------------------------------------------\n",
      "topic[0]: CROWD : 2 (0.868)\n",
      "     ... ['CROWD', '脱', 'する', 'IT', '理由', 'サービス', '読者']\n",
      "----------------------------------------------------------------------------------------------------\n",
      "topic[1]: ソフトウエア・アズ・ア・サービス : 2 (0.874)\n",
      "     ... ['CROWD', '脱', 'する', '理由', 'IT', 'サービス', '調査']\n",
      "----------------------------------------------------------------------------------------------------\n",
      "topic[2]: ＳＩ : 1 (0.866)\n",
      "     ... ['CROWD', '脱', 'IT', 'する', 'サービス', '理由', 'コスト']\n"
     ]
    }
   ],
   "source": [
    "# トピックの出力\n",
    "# # 自動付与したラベルと、各トピックの上位単語の表示\n",
    "# # 理想的には、この出力結果に違和感がないこと\n",
    "\n",
    "for idx_tpc, (lbl, sim) in enumerate(topic_labels):\n",
    "    print(\"-\" * 100)\n",
    "    print(f\"topic[{idx_tpc}]: {lbl} : {topic_label_counter[lbl]} ({sim:0.3f})\")\n",
    "    print(\" \" * 4 + f\" ... {[_t for _t, _s in topics[idx_tpc][:20]]}\")\n"
   ]
  },
  {
   "cell_type": "code",
   "execution_count": 18,
   "metadata": {},
   "outputs": [
    {
     "name": "stdout",
     "output_type": "stream",
     "text": [
      "estimated n_topic: 3\n",
      "[00]: CROWD: ['CROWD', '脱', 'IT', '理由', 'サービス', '読者']\n",
      "[01]: ソフトウエア・アズ・ア・サービス: ['CROWD', '脱', '理由', 'IT', 'サービス', '調査']\n",
      "[02]: ＳＩ: ['CROWD', '脱', 'IT', 'サービス', '理由', 'コスト']\n"
     ]
    }
   ],
   "source": [
    "# 実際に期待値ベクトルを算出するときに使った単語を表示\n",
    "# # 上記の自動付与ラベルと上位単語の関係性に違和感があるときに確認すると良いだろう\n",
    "print(\"estimated n_topic:\", len(proper_topics))\n",
    "\n",
    "for lbl, v in proper_topics.items():\n",
    "    tpc_idx, sim, words, probs = v\n",
    "    print(f\"[{tpc_idx:02d}]: {lbl}: {words}\")\n"
   ]
  },
  {
   "cell_type": "code",
   "execution_count": 19,
   "metadata": {},
   "outputs": [
    {
     "name": "stdout",
     "output_type": "stream",
     "text": [
      "CiscoMeraki : 1\n",
      "ソフトウエア・アズ・ア・サービス : 2\n",
      "CROWD : 2\n",
      "ＳＩ : 1\n"
     ]
    }
   ],
   "source": [
    "for lbl, cnt in topic_label_counter.items():\n",
    "    print(f\"{lbl} : {cnt}\")"
   ]
  },
  {
   "cell_type": "code",
   "execution_count": 20,
   "metadata": {},
   "outputs": [
    {
     "name": "stdout",
     "output_type": "stream",
     "text": [
      "脱クラウドの理由「クラウド高過ぎ」問題の“残念な真相”：「脱クラウド」これだけの理由【第3回】 - TechTargetジャパン クラウド メディア ITインフラ クラウド 仮想化 サーバ＆ストレージ スマートモバイル ネットワーク システム運用管理 セキュリティ 業務アプリ ERP データ分析 CX 情報系システム システム開発 IT経営 経営とIT 中堅・中小企業とIT 医療・教育 医療IT \n"
     ]
    }
   ],
   "source": [
    "print(\" \".join(contents)[:200])"
   ]
  },
  {
   "attachments": {},
   "cell_type": "markdown",
   "metadata": {},
   "source": [
    "## LDA の可視化"
   ]
  },
  {
   "cell_type": "code",
   "execution_count": null,
   "metadata": {},
   "outputs": [],
   "source": []
  },
  {
   "cell_type": "code",
   "execution_count": 21,
   "metadata": {},
   "outputs": [
    {
     "name": "stderr",
     "output_type": "stream",
     "text": [
      "/usr/local/lib/python3.10/dist-packages/past/builtins/misc.py:45: DeprecationWarning: the imp module is deprecated in favour of importlib and slated for removal in Python 3.12; see the module's documentation for alternative uses\n",
      "  from imp import reload\n"
     ]
    }
   ],
   "source": [
    "import pyLDAvis\n",
    "import pyLDAvis.gensim_models\n",
    "\n",
    "pyLDAvis.enable_notebook()\n"
   ]
  },
  {
   "cell_type": "code",
   "execution_count": 22,
   "metadata": {},
   "outputs": [
    {
     "name": "stderr",
     "output_type": "stream",
     "text": [
      "/usr/local/lib/python3.10/dist-packages/pyLDAvis/_prepare.py:247: FutureWarning: In a future version of pandas all arguments of DataFrame.drop except for the argument 'labels' will be keyword-only\n",
      "  by='saliency', ascending=False).head(R).drop('saliency', 1)\n",
      "/usr/local/lib/python3.10/dist-packages/past/builtins/misc.py:45: DeprecationWarning: the imp module is deprecated in favour of importlib and slated for removal in Python 3.12; see the module's documentation for alternative uses\n",
      "  from imp import reload\n",
      "/usr/local/lib/python3.10/dist-packages/past/builtins/misc.py:45: DeprecationWarning: the imp module is deprecated in favour of importlib and slated for removal in Python 3.12; see the module's documentation for alternative uses\n",
      "  from imp import reload\n",
      "/usr/local/lib/python3.10/dist-packages/past/builtins/misc.py:45: DeprecationWarning: the imp module is deprecated in favour of importlib and slated for removal in Python 3.12; see the module's documentation for alternative uses\n",
      "  from imp import reload\n",
      "/usr/local/lib/python3.10/dist-packages/past/builtins/misc.py:45: DeprecationWarning: the imp module is deprecated in favour of importlib and slated for removal in Python 3.12; see the module's documentation for alternative uses\n",
      "  from imp import reload\n",
      "/usr/local/lib/python3.10/dist-packages/past/builtins/misc.py:45: DeprecationWarning: the imp module is deprecated in favour of importlib and slated for removal in Python 3.12; see the module's documentation for alternative uses\n",
      "  from imp import reload\n",
      "/usr/local/lib/python3.10/dist-packages/past/builtins/misc.py:45: DeprecationWarning: the imp module is deprecated in favour of importlib and slated for removal in Python 3.12; see the module's documentation for alternative uses\n",
      "  from imp import reload\n",
      "/usr/local/lib/python3.10/dist-packages/past/builtins/misc.py:45: DeprecationWarning: the imp module is deprecated in favour of importlib and slated for removal in Python 3.12; see the module's documentation for alternative uses\n",
      "  from imp import reload\n",
      "/usr/local/lib/python3.10/dist-packages/past/builtins/misc.py:45: DeprecationWarning: the imp module is deprecated in favour of importlib and slated for removal in Python 3.12; see the module's documentation for alternative uses\n",
      "  from imp import reload\n"
     ]
    },
    {
     "data": {
      "text/html": [
       "\n",
       "<link rel=\"stylesheet\" type=\"text/css\" href=\"https://cdn.jsdelivr.net/gh/bmabey/pyLDAvis@3.3.1/pyLDAvis/js/ldavis.v1.0.0.css\">\n",
       "\n",
       "\n",
       "<div id=\"ldavis_el7981421398763074226725249921108\"></div>\n",
       "<script type=\"text/javascript\">\n",
       "\n",
       "var ldavis_el7981421398763074226725249921108_data = {\"mdsDat\": {\"x\": [0.01660462815324035, 0.013190189633552573, -0.029794817786792917], \"y\": [0.00017802775057135017, -0.0001921690720602853, 1.4141321488559802e-05], \"topics\": [1, 2, 3], \"cluster\": [1, 1, 1], \"Freq\": [50.31558200246719, 41.24292371805126, 8.441494279481555]}, \"tinfo\": {\"Term\": [\"Deep learning\", \"\\u53b3\\u9078\", \"\\u6c7a\\u5b9a\", \"\\u7279\\u96c6\", \"\\u904b\\u55b6\", \"\\u30af\\u30e9\\u30a6\\u30c9\\u30d9\\u30f3\\u30c0\\u30fc\", \"\\u5f8c\", \"\\u5e83\\u544a\\u696d\\u754c\", \"Twitter\", \"\\u5909\\u3048\\u308b\", \"\\u30e1\\u30cb\\u30e5\\u30fc\", \"PDF\", \"\\u65e5\\u672c\", \"\\u3044\\u3063\\u305f\\u3093\", \"\\u30b8\\u30a7\\u30d5\", \"Facebook\", \"\\u30c1\\u30e7\\u30b3\\u30ec\\u30fc\\u30c8\", \"\\u30d7\\u30ec\\u30df\\u30a2\\u30e0\\u30b3\\u30f3\\u30c6\\u30f3\\u30c4\\u30e9\\u30a4\\u30d6\\u30e9\\u30ea\", \"IT\\u6d3b\\u7528\", \"\\u304b\\u306d\\u308b\", \"Github\", \"\\u671f\\u5f85\", \"\\u4e8b\\u614b\", \"vendor\", \"\\u5168\", \"\\u30b9\\u30c8\\u30ec\\u30fc\\u30b8\\u30d9\\u30f3\\u30c0\\u30fc\", \"\\u7537\\u6027\", \"\\u5171\\u540c\", \"\\u3068\\u304d\", \"\\u96fb\\u5b50\\u66f8\\u7c4d\", \"\\u554f\\u984c\", \"\\u533b\\u7642\", \"\\u7406\\u7531\", \"\\u7d4c\\u55b6\", \"IT\", \"\\u30c9\\u30b3\\u30e2\", \"\\u9ad8\\u3044\", \"\\u65e5\", \"\\u306a\\u305c\", \"\\u904e\\u304e\", \"\\u30a4\\u30f3\\u30d5\\u30e9\", \"\\u79fb\\u884c\", \"\\u4ee5\\u4e0a\", \"RSS\", \"\\u30bb\\u30ad\\u30e5\\u30ea\\u30c6\\u30a3\", \"\\u305d\\u306e\", \"\\u60c5\\u5831\\u7cfb\", \"\\u56de\\u5e30\", \"\\u6a5f\\u68b0\\u5b66\\u7fd2\", \"CROWD\", \"\\u5909\\u3048\\u308b\", \"\\u6559\\u80b2\", \"Facebook\", \"\\u3042\\u308b\", \"\\u30d7\\u30ec\\u30df\\u30a2\\u30e0\\u30b3\\u30f3\\u30c6\\u30f3\\u30c4\\u30e9\\u30a4\\u30d6\\u30e9\\u30ea\", \"\\u99c4\\u76ee\", \"\\u8abf\\u67fb\", \"\\u4eee\\u60f3\\u5316\", \"\\u304a\", \"IT\\u6226\\u7565\", \"\\u30a2\\u30d7\\u30ea\\u30b1\\u30fc\\u30b7\\u30e7\\u30f3\", \"\\u7ba1\\u7406\", \"\\u30aa\\u30f3\\u30d7\\u30ec\\u30df\\u30b9\", \"\\u3059\\u308b\", \"\\u9ad8\", \"\\u306a\\u308b\", \"\\u8131\", \"\\u30b5\\u30fc\\u30d3\\u30b9\", \"\\u4f01\\u696d\", \"\\u30cd\\u30c3\\u30c8\\u30ef\\u30fc\\u30af\", \"\\u8aad\\u8005\", \"\\u30b3\\u30b9\\u30c8\", \"\\u7b2c\", \"\\u3053\\u3068\", \"CLOUD\", \"\\u8a18\\u4e8b\", \"\\u5e83\\u544a\", \"\\u30b3\\u30b9\\u30c8\", \"Computer\", \"\\u8aad\\u8005\", \"\\u771f\\u76f8\", \"\\u5c64\", \"\\u8131\", \"\\u7b2c\", \"Weekly\", \"Deep learning\", \"\\u306e\", \"\\u53b3\\u9078\", \"\\u30db\\u30ef\\u30a4\\u30c8\\u30da\\u30fc\\u30d1\\u30fc\", \"\\u6c7a\\u5b9a\", \"\\u30b5\\u30fc\\u30d3\\u30b9\", \"\\u7279\\u96c6\", \"\\u904b\\u55b6\", \"\\u30af\\u30e9\\u30a6\\u30c9\\u30d9\\u30f3\\u30c0\\u30fc\", \"ChatGPT\", \"\\u30b7\\u30b9\\u30c6\\u30e0\\u958b\\u767a\", \"\\u5e83\\u544a\", \"\\u5f8c\", \"AI\", \"\\u5e83\\u544a\\u696d\\u754c\", \"Twitter\", \"\\u30e1\\u30cb\\u30e5\\u30fc\", \"PDF\", \"\\u8a18\\u4e8b\", \"\\u65e5\\u672c\", \"CLOUD\", \"\\u3044\\u3063\\u305f\\u3093\", \"\\u3053\\u3068\", \"\\u3059\\u308b\", \"\\u88fd\\u54c1\", \"CROWD\", \"\\u30cd\\u30c3\\u30c8\\u30ef\\u30fc\\u30af\", \"\\u30b7\\u30b9\\u30c6\\u30e0\", \"\\u4f01\\u696d\", \"\\u8abf\\u67fb\", \"\\u3053\\u308c\\u3060\\u3051\", \"\\u4e2d\\u5c0f\\u4f01\\u696d\", \"Target\", \"\\u30e1\\u30c7\\u30a3\\u30a2\", \"\\u30aa\\u30f3\\u30d7\\u30ec\\u30df\\u30b9\", \"\\u30a2\\u30d7\\u30ea\\u30b1\\u30fc\\u30b7\\u30e7\\u30f3\", \"IT\", \"\\u306a\\u308b\", \"\\u30bb\\u30ad\\u30e5\\u30ea\\u30c6\\u30a3\", \"\\u7406\\u7531\", \"\\u7ba1\\u7406\", \"\\u79fb\\u884c\", \"\\u9ad8\", \"\\u3042\\u308b\", \"\\u305d\\u306e\", \"\\u30a4\\u30f3\\u30d5\\u30e9\", \"Deep learning\", \"\\u6c7a\\u5b9a\", \"\\u53b3\\u9078\", \"\\u7279\\u96c6\", \"\\u30af\\u30e9\\u30a6\\u30c9\\u30d9\\u30f3\\u30c0\\u30fc\", \"\\u904b\\u55b6\", \"\\u5f8c\", \"\\u5e83\\u544a\\u696d\\u754c\", \"Twitter\", \"PDF\", \"\\u30e1\\u30cb\\u30e5\\u30fc\", \"\\u65e5\\u672c\", \"\\u30b8\\u30a7\\u30d5\", \"\\u3044\\u3063\\u305f\\u3093\", \"\\u30c1\\u30e7\\u30b3\\u30ec\\u30fc\\u30c8\", \"IT\\u6d3b\\u7528\", \"\\u304b\\u306d\\u308b\", \"Github\", \"\\u30b9\\u30c8\\u30ec\\u30fc\\u30b8\\u30d9\\u30f3\\u30c0\\u30fc\", \"\\u5168\", \"\\u7537\\u6027\", \"\\u4e8b\\u614b\", \"vendor\", \"\\u671f\\u5f85\", \"\\u3068\\u304d\", \"\\u4f7f\\u3046\", \"\\u5171\\u540c\", \"\\u5ba3\\u4f1d\", \"Python\", \"\\u62db\\u304f\", \"\\u7a3c\\u50cd\", \"\\u63a1\\u7528\\u60c5\\u5831\", \"2023\\u5e74\", \"\\u30d4\\u30c3\\u30af\\u30a2\\u30c3\\u30d7\\u30af\\u30e9\\u30a6\\u30c9\\u30d0\\u30c3\\u30af\\u30a2\\u30c3\\u30d7\", \"\\u751f\\u3058\\u308b\", \"\\u304b\\u3089\\u3060\", \"ITTechTarget\", \"\\u7c73\\u56fd\", \"Cookie\", \"\\u88fd\\u9020\", \"\\u6c11\\u6cd5\", \"\\u3069\\u306e\", \"\\u524a\\u308b\", \"\\u5225\", \"\\u30c8\\u30ec\\u30f3\\u30c9\", \"\\u751f\\u6210\", \"\\u554f\\u3044\\u5408\\u308f\\u305b\", \"\\u9078\\u3079\\u308b\", \"\\u30a2\\u30a4\\u30c6\\u30a3\\u30e1\\u30c7\\u30a3\\u30a2\", \"IDC\", \"\\u5e83\\u5831\", \"\\u5229\\u7528\", \"\\u9078\", \"\\u7fa9\\u7406\\u30c1\\u30e7\\u30b3\", \"CROWD\", \"\\u8131\", \"IT\", \"\\u3059\\u308b\", \"\\u30b5\\u30fc\\u30d3\\u30b9\", \"\\u7406\\u7531\", \"\\u30b3\\u30b9\\u30c8\", \"\\u8abf\\u67fb\", \"\\u30bb\\u30ad\\u30e5\\u30ea\\u30c6\\u30a3\", \"\\u79fb\\u884c\", \"\\u30a2\\u30d7\\u30ea\\u30b1\\u30fc\\u30b7\\u30e7\\u30f3\", \"\\u306a\\u308b\", \"\\u30cd\\u30c3\\u30c8\\u30ef\\u30fc\\u30af\", \"\\u30aa\\u30f3\\u30d7\\u30ec\\u30df\\u30b9\", \"\\u8aad\\u8005\", \"\\u4f01\\u696d\", \"CLOUD\", \"\\u3053\\u3068\", \"\\u7ba1\\u7406\", \"\\u7b2c\", \"\\u4e00\\u89a7\", \"\\u8a18\\u4e8b\", \"\\u9ad8\", \"\\u7d4c\\u55b6\", \"Computer\", \"\\u30a4\\u30f3\\u30d5\\u30e9\", \"\\u904e\\u304e\", \"\\u306a\\u305c\", \"\\u30db\\u30ef\\u30a4\\u30c8\\u30da\\u30fc\\u30d1\\u30fc\", \"\\u771f\\u76f8\"], \"Freq\": [1.0, 1.0, 1.0, 1.0, 1.0, 1.0, 1.0, 1.0, 1.0, 1.0, 1.0, 1.0, 1.0, 1.0, 1.0, 1.0, 1.0, 1.0, 1.0, 1.0, 1.0, 1.0, 1.0, 1.0, 1.0, 1.0, 1.0, 1.0, 1.0, 1.0, 2.1235352597012516, 1.611765252597865, 5.30531164296467, 1.9827715787834612, 5.215012195898842, 1.5732128319890202, 1.1620642349267831, 1.153470947190748, 1.533028979623296, 1.5211347670104793, 1.8917243982737264, 2.65919064216884, 1.4938826844137498, 1.487894363298056, 3.009244591357789, 1.864991534270843, 1.0995240619541586, 1.0942408660898535, 1.093885333357796, 13.141373328484846, 0.7165313398545499, 1.083576790863079, 0.7093221950196809, 1.8247099984069548, 0.706777510558117, 1.0766836506780522, 3.2985188706198594, 1.071880365333257, 1.4384519927069213, 1.0685584663720342, 2.529079742740049, 2.1646201176664097, 2.520882249177882, 5.352159240633846, 1.7990064779327757, 2.1330013186922816, 5.951711804670179, 3.348505834046856, 2.073934336765499, 2.0384061444579302, 2.467157205219031, 2.0681318489713876, 1.8590872561648308, 1.6349040678935138, 1.6229118784386944, 1.618626124960675, 1.5939824557743867, 2.369705281561513, 1.3065619361820406, 2.642688824010463, 1.3017777120800533, 0.9450587062693578, 5.840418816909419, 1.9200675643163425, 1.253708847387459, 0.6066592488353165, 0.9256220294221887, 0.5994749177357912, 1.5469537484252376, 0.5970885163609005, 3.1097798101236465, 0.5933972555526552, 0.5919437983158613, 0.5911611351278445, 0.9020130725017581, 0.9005802338113151, 1.5225136176261045, 0.5874964439915733, 1.2093620210416864, 0.5859468670591081, 0.5832111526438516, 0.579793823951412, 0.5795926879278249, 1.4994145940254853, 0.5784740566478093, 1.4953322420727517, 0.5757335933545301, 1.4841382348879515, 4.465024478623168, 1.178373968910427, 10.095340428440878, 1.752483265644112, 1.1691731680227277, 1.7194558409078866, 2.5116385456512456, 1.1595727400325762, 0.8791059877305811, 1.1563281142079684, 1.15584228595255, 1.9473636342907965, 1.9396371496357625, 3.3028348062382786, 1.6642540412006943, 2.136480548164772, 3.2188373731243543, 1.634844179494795, 1.8181518329624775, 1.3310446265462366, 1.3071658251518423, 1.2695309067109235, 1.244549644266742, 0.15311717015002546, 0.15314241723055944, 0.1531004371921667, 0.15311576753444026, 0.153126201025811, 0.15310852068724995, 0.15311504161935668, 0.15311638271671446, 0.1530919476767825, 0.15312078742179788, 0.15311796988698195, 0.15311466020634668, 0.15312530285969064, 0.1531000434755112, 0.15311929868069427, 0.15309909609480893, 0.1531028240993907, 0.1531299167267473, 0.15313422300266682, 0.15313033505069376, 0.15313608085313496, 0.15310968953357096, 0.15310129844735063, 0.1530906065794247, 0.15313174996992446, 0.15313600703126207, 0.15310484189725013, 0.15313147928972382, 0.15313384158965682, 0.1531227437014299, 0.15314898737724808, 0.15315590202601032, 0.15313457980838588, 0.15312295286340313, 0.15312286673788475, 0.15312951070644631, 0.15313724969945597, 0.1531461329314957, 0.15314389366801756, 0.15314824915851902, 0.1531427494289875, 0.1531376188088205, 0.1531362777114627, 0.15313167614805157, 0.15314422586644563, 0.1531378525780847, 0.15313423530631232, 0.15313067955276732, 0.1531382585983857, 0.15314127299152938, 0.15314618214607764, 0.15313497352504138, 0.1531341614844394, 0.1531389722098238, 0.15515219311314182, 0.15402584358362884, 0.15385354333226559, 0.15384157188520928, 0.15373291839193673, 0.1536368392243492, 0.15356898461950286, 0.1535372043032167, 0.15350982869201396, 0.1534689928926513, 0.15346583085576182, 0.15345323192278582, 0.15345314579726743, 0.15344057147158238, 0.15341529978375748, 0.15339319013282204, 0.15337979146288955, 0.1533696655626559, 0.15336471949717118, 0.15335704202238892, 0.1533308475611527, 0.15332702112740704, 0.15332237034941396, 0.15332227192025008, 0.15331518502045108, 0.15330609262643813, 0.15330401331035126, 0.15329430573406408, 0.15328686202854602, 0.1532844505140311], \"Total\": [1.0, 1.0, 1.0, 1.0, 1.0, 1.0, 1.0, 1.0, 1.0, 1.0, 1.0, 1.0, 1.0, 1.0, 1.0, 1.0, 1.0, 1.0, 1.0, 1.0, 1.0, 1.0, 1.0, 1.0, 1.0, 1.0, 1.0, 1.0, 1.0, 1.0, 3.3050493457298393, 2.625871124788046, 8.677785855313372, 3.2956176592589412, 8.671700545469387, 2.6232998580009155, 1.9507404046355072, 1.9501483768893046, 2.6205404834384254, 2.619731504085653, 3.2895801351669065, 4.6308114680239685, 2.6180053416567217, 2.6175669547456044, 5.299234968214575, 3.287805968722386, 1.9466013442444412, 1.9462468162695286, 1.9462333426815632, 23.391865950038866, 1.2759959732106125, 1.9455091560683113, 1.2755049931929126, 3.2851449929451366, 1.2753510410787594, 1.9450918502160577, 5.963694620574322, 1.9447289275162887, 2.6142984481212315, 1.9445383005564343, 4.622182723231573, 3.9528290166583755, 4.621686454940262, 9.971025291142222, 3.283373474828426, 3.9507085918157614, 11.946156465163227, 6.612018562562438, 3.9467833678062076, 3.9443425558993095, 5.263261329013252, 4.591406115152403, 3.932511862503562, 3.272411968344121, 3.2716239119743356, 3.271367740113567, 3.2697549200282694, 4.591406115152403, 2.593921226027834, 5.263261329013252, 2.5942753525306217, 1.9286645825007538, 11.946156465163227, 3.932511862503562, 2.5977767979457833, 1.2616824461810023, 1.9300469779539688, 1.2622064454341522, 3.2679616057734853, 1.2623489564910466, 6.612018562562438, 1.2626287724834404, 1.2627307476942262, 1.2627801973439174, 1.9317081331564228, 1.9318291848460871, 3.2697549200282694, 1.2630507747942217, 2.600894210473167, 1.2631649551589175, 1.263364975044309, 1.263601195134853, 1.2636184476992753, 3.271367740113567, 1.2637020824778342, 3.2716239119743356, 1.263903468328341, 3.272411968344121, 9.971025291142222, 2.603165875659024, 23.391865950038866, 3.9443425558993095, 2.603745780748831, 3.9467833678062076, 5.963694620574322, 2.6044518464125126, 1.933371563663162, 2.6047086510116086, 2.6047300501548216, 4.621686454940262, 4.622182723231573, 8.671700545469387, 3.9507085918157614, 5.299234968214575, 8.677785855313372, 3.9528290166583755, 4.6308114680239685, 3.283373474828426, 3.2851449929451366, 3.287805968722386, 3.2895801351669065, 1.2616824461810023, 1.2623489564910466, 1.2622064454341522, 1.2626287724834404, 1.2627801973439174, 1.2627307476942262, 1.2630507747942217, 1.2631649551589175, 1.263364975044309, 1.2636184476992753, 1.263601195134853, 1.2637020824778342, 1.2639690167029387, 1.263903468328341, 1.2641800038476445, 1.2642540540173555, 1.2645502547599894, 1.2648349196265196, 1.2649689618493463, 1.2649586959287893, 1.2650270553732061, 1.2648648884323141, 1.2648735252897885, 1.2648217156522932, 1.265263540350992, 1.2653070251373304, 1.2650730277832523, 1.265350927799988, 1.2654213110305916, 1.2653399848012168, 1.2655998857529316, 1.2659462953870118, 1.2656229314283993, 1.265413467646416, 1.2656134458619352, 1.266317529839983, 1.2670110242658583, 1.2677658140985901, 1.2676178856461686, 1.2683130576087893, 1.2681767810611018, 1.267556131580779, 1.2674609129993297, 1.2667251434005022, 1.2695981165221184, 1.2682071873180836, 1.267798314149882, 1.2668441682551816, 1.269259212397602, 1.2708189926764384, 1.2730859608103027, 1.2692219590034888, 1.2689934823864173, 1.2734771469082249, 23.391865950038866, 11.946156465163227, 8.671700545469387, 9.971025291142222, 6.612018562562438, 8.677785855313372, 4.591406115152403, 5.963694620574322, 5.299234968214575, 4.6308114680239685, 4.622182723231573, 3.9507085918157614, 3.9443425558993095, 4.621686454940262, 5.263261329013252, 3.9467833678062076, 3.2716239119743356, 3.272411968344121, 3.9528290166583755, 3.932511862503562, 2.6056938308485473, 3.271367740113567, 3.283373474828426, 3.2956176592589412, 2.593921226027834, 3.2895801351669065, 2.619731504085653, 2.6205404834384254, 3.2679616057734853, 2.5942753525306217], \"Category\": [\"Default\", \"Default\", \"Default\", \"Default\", \"Default\", \"Default\", \"Default\", \"Default\", \"Default\", \"Default\", \"Default\", \"Default\", \"Default\", \"Default\", \"Default\", \"Default\", \"Default\", \"Default\", \"Default\", \"Default\", \"Default\", \"Default\", \"Default\", \"Default\", \"Default\", \"Default\", \"Default\", \"Default\", \"Default\", \"Default\", \"Topic1\", \"Topic1\", \"Topic1\", \"Topic1\", \"Topic1\", \"Topic1\", \"Topic1\", \"Topic1\", \"Topic1\", \"Topic1\", \"Topic1\", \"Topic1\", \"Topic1\", \"Topic1\", \"Topic1\", \"Topic1\", \"Topic1\", \"Topic1\", \"Topic1\", \"Topic1\", \"Topic1\", \"Topic1\", \"Topic1\", \"Topic1\", \"Topic1\", \"Topic1\", \"Topic1\", \"Topic1\", \"Topic1\", \"Topic1\", \"Topic1\", \"Topic1\", \"Topic1\", \"Topic1\", \"Topic1\", \"Topic1\", \"Topic1\", \"Topic1\", \"Topic1\", \"Topic1\", \"Topic1\", \"Topic1\", \"Topic1\", \"Topic1\", \"Topic1\", \"Topic1\", \"Topic1\", \"Topic2\", \"Topic2\", \"Topic2\", \"Topic2\", \"Topic2\", \"Topic2\", \"Topic2\", \"Topic2\", \"Topic2\", \"Topic2\", \"Topic2\", \"Topic2\", \"Topic2\", \"Topic2\", \"Topic2\", \"Topic2\", \"Topic2\", \"Topic2\", \"Topic2\", \"Topic2\", \"Topic2\", \"Topic2\", \"Topic2\", \"Topic2\", \"Topic2\", \"Topic2\", \"Topic2\", \"Topic2\", \"Topic2\", \"Topic2\", \"Topic2\", \"Topic2\", \"Topic2\", \"Topic2\", \"Topic2\", \"Topic2\", \"Topic2\", \"Topic2\", \"Topic2\", \"Topic2\", \"Topic2\", \"Topic2\", \"Topic2\", \"Topic2\", \"Topic2\", \"Topic2\", \"Topic2\", \"Topic2\", \"Topic2\", \"Topic2\", \"Topic2\", \"Topic2\", \"Topic2\", \"Topic2\", \"Topic3\", \"Topic3\", \"Topic3\", \"Topic3\", \"Topic3\", \"Topic3\", \"Topic3\", \"Topic3\", \"Topic3\", \"Topic3\", \"Topic3\", \"Topic3\", \"Topic3\", \"Topic3\", \"Topic3\", \"Topic3\", \"Topic3\", \"Topic3\", \"Topic3\", \"Topic3\", \"Topic3\", \"Topic3\", \"Topic3\", \"Topic3\", \"Topic3\", \"Topic3\", \"Topic3\", \"Topic3\", \"Topic3\", \"Topic3\", \"Topic3\", \"Topic3\", \"Topic3\", \"Topic3\", \"Topic3\", \"Topic3\", \"Topic3\", \"Topic3\", \"Topic3\", \"Topic3\", \"Topic3\", \"Topic3\", \"Topic3\", \"Topic3\", \"Topic3\", \"Topic3\", \"Topic3\", \"Topic3\", \"Topic3\", \"Topic3\", \"Topic3\", \"Topic3\", \"Topic3\", \"Topic3\", \"Topic3\", \"Topic3\", \"Topic3\", \"Topic3\", \"Topic3\", \"Topic3\", \"Topic3\", \"Topic3\", \"Topic3\", \"Topic3\", \"Topic3\", \"Topic3\", \"Topic3\", \"Topic3\", \"Topic3\", \"Topic3\", \"Topic3\", \"Topic3\", \"Topic3\", \"Topic3\", \"Topic3\", \"Topic3\", \"Topic3\", \"Topic3\", \"Topic3\", \"Topic3\", \"Topic3\", \"Topic3\", \"Topic3\", \"Topic3\"], \"logprob\": [30.0, 29.0, 28.0, 27.0, 26.0, 25.0, 24.0, 23.0, 22.0, 21.0, 20.0, 19.0, 18.0, 17.0, 16.0, 15.0, 14.0, 13.0, 12.0, 11.0, 10.0, 9.0, 8.0, 7.0, 6.0, 5.0, 4.0, 3.0, 2.0, 1.0, -4.9994, -5.2752, -4.0838, -5.068, -4.101, -5.2994, -5.6023, -5.6097, -5.3252, -5.333, -5.115, -4.7745, -5.3511, -5.3551, -4.6508, -5.1292, -5.6576, -5.6624, -5.6628, -3.1767, -6.0858, -5.6722, -6.0959, -5.1511, -6.0995, -5.6786, -4.559, -5.6831, -5.3889, -5.6862, -4.8246, -4.9803, -4.8279, -4.075, -5.1653, -4.995, -3.9688, -4.544, -5.023, -5.0403, -4.8494, -5.0258, -5.1324, -5.2609, -5.2683, -5.2709, -5.2863, -4.6909, -5.2863, -4.5819, -5.2899, -5.6102, -3.7889, -4.9013, -5.3276, -6.0534, -5.6309, -6.0654, -5.1174, -6.0693, -4.4191, -6.0756, -6.078, -6.0793, -5.6568, -5.6584, -5.1333, -6.0855, -5.3636, -6.0882, -6.0929, -6.0987, -6.0991, -5.1486, -6.101, -5.1513, -6.1058, -5.1588, -4.0574, -5.3895, -3.2416, -4.9926, -5.3974, -5.0117, -4.6327, -5.4056, -5.6825, -5.4084, -5.4088, -4.8872, -4.8912, -4.3589, -5.0443, -4.7945, -4.3846, -5.0621, -4.9558, -5.2677, -5.2858, -5.315, -5.3349, -5.8439, -5.8437, -5.844, -5.8439, -5.8438, -5.8439, -5.8439, -5.8439, -5.8441, -5.8439, -5.8439, -5.8439, -5.8438, -5.844, -5.8439, -5.844, -5.844, -5.8438, -5.8438, -5.8438, -5.8438, -5.8439, -5.844, -5.8441, -5.8438, -5.8438, -5.844, -5.8438, -5.8438, -5.8439, -5.8437, -5.8436, -5.8438, -5.8439, -5.8439, -5.8438, -5.8438, -5.8437, -5.8437, -5.8437, -5.8437, -5.8438, -5.8438, -5.8438, -5.8437, -5.8438, -5.8438, -5.8438, -5.8438, -5.8437, -5.8437, -5.8438, -5.8438, -5.8437, -5.8307, -5.838, -5.8391, -5.8392, -5.8399, -5.8405, -5.8409, -5.8412, -5.8413, -5.8416, -5.8416, -5.8417, -5.8417, -5.8418, -5.8419, -5.8421, -5.8422, -5.8422, -5.8423, -5.8423, -5.8425, -5.8425, -5.8426, -5.8426, -5.8426, -5.8427, -5.8427, -5.8427, -5.8428, -5.8428], \"loglift\": [30.0, 29.0, 28.0, 27.0, 26.0, 25.0, 24.0, 23.0, 22.0, 21.0, 20.0, 19.0, 18.0, 17.0, 16.0, 15.0, 14.0, 13.0, 12.0, 11.0, 10.0, 9.0, 8.0, 7.0, 6.0, 5.0, 4.0, 3.0, 2.0, 1.0, 0.2445, 0.1988, 0.1948, 0.1788, 0.1783, 0.1755, 0.1688, 0.1617, 0.1507, 0.1432, 0.1336, 0.1321, 0.1258, 0.122, 0.121, 0.1199, 0.1156, 0.111, 0.1107, 0.1102, 0.1098, 0.1016, 0.1001, 0.0989, 0.0966, 0.0954, 0.0946, 0.0911, 0.0894, 0.0881, 0.0838, 0.0847, 0.0807, 0.0647, 0.0852, 0.0705, -0.0099, 0.0065, 0.0434, 0.0267, -0.0708, -0.1107, -0.0623, -0.0071, -0.0142, -0.0168, -0.0316, 0.2243, 0.1999, 0.1967, 0.1961, 0.1724, 0.1701, 0.1688, 0.1571, 0.1535, 0.1509, 0.1411, 0.1378, 0.137, 0.1314, 0.1306, 0.1281, 0.1267, 0.1242, 0.1225, 0.1213, 0.1203, 0.1199, 0.1175, 0.1127, 0.1066, 0.1063, 0.1056, 0.1043, 0.1028, 0.0994, 0.095, 0.0823, 0.0931, 0.0454, 0.0744, 0.085, 0.0548, 0.0209, 0.0765, 0.0976, 0.0736, 0.0732, 0.0214, 0.0173, -0.0796, 0.0212, -0.0227, -0.1061, 0.0028, -0.0492, -0.0172, -0.0359, -0.0659, -0.0863, 0.363, 0.3626, 0.3625, 0.3623, 0.3622, 0.3621, 0.3619, 0.3618, 0.3615, 0.3615, 0.3615, 0.3614, 0.3613, 0.3611, 0.361, 0.3609, 0.3606, 0.3606, 0.3605, 0.3605, 0.3605, 0.3604, 0.3604, 0.3604, 0.3603, 0.3603, 0.3602, 0.3602, 0.3602, 0.3602, 0.3601, 0.3599, 0.36, 0.3601, 0.3599, 0.3594, 0.3589, 0.3584, 0.3585, 0.358, 0.358, 0.3585, 0.3586, 0.3591, 0.3569, 0.358, 0.3583, 0.359, 0.3572, 0.356, 0.3542, 0.3572, 0.3573, 0.3539, -2.5437, -1.879, -1.5598, -1.6995, -1.2894, -1.5619, -0.9258, -1.1875, -1.0695, -0.935, -0.9331, -0.7762, -0.7746, -0.9332, -1.0633, -0.7756, -0.5881, -0.5884, -0.7774, -0.7723, -0.3608, -0.5884, -0.5921, -0.5958, -0.3564, -0.5941, -0.3664, -0.3668, -0.5876, -0.3568]}, \"token.table\": {\"Topic\": [1, 2, 1, 2, 1, 2, 1, 2, 1, 2, 1, 2, 1, 2, 1, 2, 1, 1, 2, 1, 1, 2, 1, 2, 1, 2, 1, 2, 1, 2, 1, 2, 1, 2, 1, 2, 1, 2, 1, 2, 1, 2, 1, 2, 1, 2, 1, 2, 1, 2, 1, 2, 1, 2, 1, 2, 1, 2, 1, 2, 1, 2, 1, 2, 1, 2, 1, 2, 1, 2, 1, 2, 1, 2, 1, 2, 1, 2, 1, 2, 1, 2, 1, 2, 1, 2, 1, 2, 1, 2, 1, 2, 1, 2, 1, 2, 1, 1, 2, 1, 2, 1, 2, 1, 1, 2, 1, 2, 1, 2, 1, 2, 1, 2, 1, 2, 1, 2, 1, 2, 1, 2, 1, 2, 1, 2, 1, 2, 1, 2, 1, 2, 1, 2, 1, 2, 1, 2, 1, 2, 1, 2, 1, 2, 1, 1, 2, 1, 2, 1, 2, 1, 2, 1, 1, 2, 1, 2, 1, 2, 1, 2, 1, 2, 1, 2, 1, 2, 1, 2, 1, 2, 1, 2, 1, 2, 1, 2, 1, 2, 1, 2, 1, 2, 1, 2, 1, 2, 1, 2, 1, 2, 1, 2, 1, 2, 1, 2, 1, 2, 1, 1, 2, 1, 2, 1, 2, 1, 2, 1, 2, 1, 2, 1, 2, 1, 2, 1, 2, 1, 2, 1, 2, 1, 2, 1, 2, 1, 2], \"Freq\": [0.7901247481913009, 0.7901247481913009, 0.3844831504385083, 0.3844831504385083, 0.61131720937724, 0.30565860468862, 0.5557487388037293, 0.42749902984902255, 0.517676548975333, 0.517676548975333, 0.3855167188447493, 0.3855167188447493, 0.7888812640808154, 0.7888812640808154, 0.7925924649478232, 0.7925924649478232, 0.7840032029171021, 0.7906170081826014, 0.7906170081826014, 0.786894125570099, 0.5765881759618993, 0.34595290557713954, 0.7892591152310044, 0.7892591152310044, 0.5142608914999759, 0.5142608914999759, 0.7909802597210198, 0.7909802597210198, 0.7913781266969814, 0.7913781266969814, 0.7902506392796359, 0.7902506392796359, 0.3820341627506479, 0.3820341627506479, 0.3839200977858399, 0.3839200977858399, 0.7915369032333097, 0.7915369032333097, 0.3849445421141491, 0.3849445421141491, 0.7905928774743667, 0.7905928774743667, 0.6088011348951139, 0.30440056744755695, 0.7911996644194798, 0.7911996644194798, 0.382511798038457, 0.382511798038457, 0.7907949852019122, 0.7907949852019122, 0.7896913502621764, 0.7896913502621764, 0.6111699930653974, 0.3055849965326987, 0.3839579531399071, 0.3839579531399071, 0.5014529453096221, 0.4011623562476977, 0.6083084035452321, 0.30415420177261604, 0.7903491787352015, 0.7903491787352015, 0.7889196975860093, 0.7889196975860093, 0.7632013367623267, 0.38160066838116335, 0.5062382996668433, 0.5062382996668433, 0.5181221034630431, 0.5181221034630431, 0.787861132093753, 0.787861132093753, 0.6490440079146346, 0.43269600527642305, 0.6079803250935317, 0.30399016254676586, 0.649113701080524, 0.43274246738701605, 0.7919034540637879, 0.7919034540637879, 0.43559640551064904, 0.43559640551064904, 0.4537192343932822, 0.4537192343932822, 0.38406207218601907, 0.38406207218601907, 0.5176441104857167, 0.5176441104857167, 0.7911586334675342, 0.7911586334675342, 0.790533230584591, 0.790533230584591, 0.566119452712391, 0.37741296847492734, 0.7910265919065409, 0.7910265919065409, 0.7876508219304518, 0.7623985469675202, 0.3811992734837601, 0.5070553512165731, 0.5070553512165731, 0.7902555374726119, 0.7902555374726119, 0.7840978427038778, 0.6120022941721879, 0.6120022941721879, 0.3839169436927106, 0.3839169436927106, 0.7913889317691559, 0.7913889317691559, 0.3837749424591257, 0.3837749424591257, 0.5172311514219742, 0.5172311514219742, 0.790598275867559, 0.790598275867559, 0.38197019085040584, 0.38197019085040584, 0.5142104824229413, 0.5142104824229413, 0.5067417726328582, 0.5067417726328582, 0.79032201681759, 0.79032201681759, 0.7905396462496788, 0.7905396462496788, 0.7904682006795043, 0.7904682006795043, 0.7894372391752775, 0.7894372391752775, 0.7878842568916279, 0.7878842568916279, 0.7889789655395305, 0.7889789655395305, 0.7616520023089233, 0.38082600115446164, 0.7922634237983447, 0.7922634237983447, 0.7887689933319928, 0.7887689933319928, 0.6051346865922055, 0.30256734329610274, 0.5138094467980949, 0.5138094467980949, 0.7837015327594162, 0.7902945957756222, 0.7902945957756222, 0.5184934742273203, 0.5184934742273203, 0.6116666383004352, 0.6116666383004352, 0.7916622416699258, 0.7916622416699258, 0.7854929131128844, 0.791733808296758, 0.791733808296758, 0.5137158684066061, 0.5137158684066061, 0.7903014304547553, 0.7903014304547553, 0.7899229245694743, 0.7899229245694743, 0.5140042630387331, 0.5140042630387331, 0.5127814949112267, 0.5127814949112267, 0.7913257514296613, 0.7913257514296613, 0.7906252617463012, 0.7906252617463012, 0.5138130038519317, 0.5138130038519317, 0.7885335979446695, 0.7885335979446695, 0.7921739823667313, 0.7921739823667313, 0.7919984256600767, 0.7919984256600767, 0.5761838426720937, 0.3457103056032562, 0.7901306700474872, 0.7901306700474872, 0.788514692236314, 0.788514692236314, 0.7904969271230184, 0.7904969271230184, 0.3854640946361134, 0.3854640946361134, 0.6478346226606676, 0.4318897484404451, 0.7901391358020543, 0.7901391358020543, 0.5085807926150123, 0.5085807926150123, 0.5059667371321694, 0.5059667371321694, 0.7887892139693184, 0.7887892139693184, 0.6068665138933999, 0.3034332569466999, 0.785251625777362, 0.50225359239994, 0.50225359239994, 0.3841476293733443, 0.3841476293733443, 0.7884488723039306, 0.7884488723039306, 0.611365079955997, 0.3056825399779985, 0.3799925321920044, 0.5699887982880065, 0.5030438664062733, 0.5030438664062733, 0.7919344657014346, 0.7919344657014346, 0.7634370151600884, 0.3817185075800442, 0.7880261119382905, 0.7880261119382905, 0.7893630685274379, 0.7893630685274379, 0.7903679521656843, 0.7903679521656843, 0.5141145390583595, 0.5141145390583595, 0.6091296087188226, 0.3045648043594113, 0.512625871501774, 0.512625871501774], \"Term\": [\"2023\\u5e74\", \"2023\\u5e74\", \"AI\", \"AI\", \"CLOUD\", \"CLOUD\", \"CROWD\", \"CROWD\", \"ChatGPT\", \"ChatGPT\", \"Computer\", \"Computer\", \"Cookie\", \"Cookie\", \"Deep learning\", \"Deep learning\", \"Facebook\", \"Github\", \"Github\", \"IDC\", \"IT\", \"IT\", \"ITTechTarget\", \"ITTechTarget\", \"IT\\u6226\\u7565\", \"IT\\u6226\\u7565\", \"IT\\u6d3b\\u7528\", \"IT\\u6d3b\\u7528\", \"PDF\", \"PDF\", \"Python\", \"Python\", \"RSS\", \"RSS\", \"Target\", \"Target\", \"Twitter\", \"Twitter\", \"Weekly\", \"Weekly\", \"vendor\", \"vendor\", \"\\u3042\\u308b\", \"\\u3042\\u308b\", \"\\u3044\\u3063\\u305f\\u3093\", \"\\u3044\\u3063\\u305f\\u3093\", \"\\u304a\", \"\\u304a\", \"\\u304b\\u306d\\u308b\", \"\\u304b\\u306d\\u308b\", \"\\u304b\\u3089\\u3060\", \"\\u304b\\u3089\\u3060\", \"\\u3053\\u3068\", \"\\u3053\\u3068\", \"\\u3053\\u308c\\u3060\\u3051\", \"\\u3053\\u308c\\u3060\\u3051\", \"\\u3059\\u308b\", \"\\u3059\\u308b\", \"\\u305d\\u306e\", \"\\u305d\\u306e\", \"\\u3068\\u304d\", \"\\u3068\\u304d\", \"\\u3069\\u306e\", \"\\u3069\\u306e\", \"\\u306a\\u305c\", \"\\u306a\\u305c\", \"\\u306a\\u308b\", \"\\u306a\\u308b\", \"\\u306e\", \"\\u306e\", \"\\u30a2\\u30a4\\u30c6\\u30a3\\u30e1\\u30c7\\u30a3\\u30a2\", \"\\u30a2\\u30a4\\u30c6\\u30a3\\u30e1\\u30c7\\u30a3\\u30a2\", \"\\u30a2\\u30d7\\u30ea\\u30b1\\u30fc\\u30b7\\u30e7\\u30f3\", \"\\u30a2\\u30d7\\u30ea\\u30b1\\u30fc\\u30b7\\u30e7\\u30f3\", \"\\u30a4\\u30f3\\u30d5\\u30e9\", \"\\u30a4\\u30f3\\u30d5\\u30e9\", \"\\u30aa\\u30f3\\u30d7\\u30ec\\u30df\\u30b9\", \"\\u30aa\\u30f3\\u30d7\\u30ec\\u30df\\u30b9\", \"\\u30af\\u30e9\\u30a6\\u30c9\\u30d9\\u30f3\\u30c0\\u30fc\", \"\\u30af\\u30e9\\u30a6\\u30c9\\u30d9\\u30f3\\u30c0\\u30fc\", \"\\u30b3\\u30b9\\u30c8\", \"\\u30b3\\u30b9\\u30c8\", \"\\u30b5\\u30fc\\u30d3\\u30b9\", \"\\u30b5\\u30fc\\u30d3\\u30b9\", \"\\u30b7\\u30b9\\u30c6\\u30e0\", \"\\u30b7\\u30b9\\u30c6\\u30e0\", \"\\u30b7\\u30b9\\u30c6\\u30e0\\u958b\\u767a\", \"\\u30b7\\u30b9\\u30c6\\u30e0\\u958b\\u767a\", \"\\u30b8\\u30a7\\u30d5\", \"\\u30b8\\u30a7\\u30d5\", \"\\u30b9\\u30c8\\u30ec\\u30fc\\u30b8\\u30d9\\u30f3\\u30c0\\u30fc\", \"\\u30b9\\u30c8\\u30ec\\u30fc\\u30b8\\u30d9\\u30f3\\u30c0\\u30fc\", \"\\u30bb\\u30ad\\u30e5\\u30ea\\u30c6\\u30a3\", \"\\u30bb\\u30ad\\u30e5\\u30ea\\u30c6\\u30a3\", \"\\u30c1\\u30e7\\u30b3\\u30ec\\u30fc\\u30c8\", \"\\u30c1\\u30e7\\u30b3\\u30ec\\u30fc\\u30c8\", \"\\u30c8\\u30ec\\u30f3\\u30c9\", \"\\u30c9\\u30b3\\u30e2\", \"\\u30c9\\u30b3\\u30e2\", \"\\u30cd\\u30c3\\u30c8\\u30ef\\u30fc\\u30af\", \"\\u30cd\\u30c3\\u30c8\\u30ef\\u30fc\\u30af\", \"\\u30d4\\u30c3\\u30af\\u30a2\\u30c3\\u30d7\\u30af\\u30e9\\u30a6\\u30c9\\u30d0\\u30c3\\u30af\\u30a2\\u30c3\\u30d7\", \"\\u30d4\\u30c3\\u30af\\u30a2\\u30c3\\u30d7\\u30af\\u30e9\\u30a6\\u30c9\\u30d0\\u30c3\\u30af\\u30a2\\u30c3\\u30d7\", \"\\u30d7\\u30ec\\u30df\\u30a2\\u30e0\\u30b3\\u30f3\\u30c6\\u30f3\\u30c4\\u30e9\\u30a4\\u30d6\\u30e9\\u30ea\", \"\\u30db\\u30ef\\u30a4\\u30c8\\u30da\\u30fc\\u30d1\\u30fc\", \"\\u30db\\u30ef\\u30a4\\u30c8\\u30da\\u30fc\\u30d1\\u30fc\", \"\\u30e1\\u30c7\\u30a3\\u30a2\", \"\\u30e1\\u30c7\\u30a3\\u30a2\", \"\\u30e1\\u30cb\\u30e5\\u30fc\", \"\\u30e1\\u30cb\\u30e5\\u30fc\", \"\\u4e00\\u89a7\", \"\\u4e00\\u89a7\", \"\\u4e2d\\u5c0f\\u4f01\\u696d\", \"\\u4e2d\\u5c0f\\u4f01\\u696d\", \"\\u4e8b\\u614b\", \"\\u4e8b\\u614b\", \"\\u4ee5\\u4e0a\", \"\\u4ee5\\u4e0a\", \"\\u4eee\\u60f3\\u5316\", \"\\u4eee\\u60f3\\u5316\", \"\\u4f01\\u696d\", \"\\u4f01\\u696d\", \"\\u4f7f\\u3046\", \"\\u4f7f\\u3046\", \"\\u5168\", \"\\u5168\", \"\\u5171\\u540c\", \"\\u5171\\u540c\", \"\\u5225\", \"\\u5225\", \"\\u5229\\u7528\", \"\\u5229\\u7528\", \"\\u524a\\u308b\", \"\\u524a\\u308b\", \"\\u533b\\u7642\", \"\\u533b\\u7642\", \"\\u53b3\\u9078\", \"\\u53b3\\u9078\", \"\\u554f\\u3044\\u5408\\u308f\\u305b\", \"\\u554f\\u3044\\u5408\\u308f\\u305b\", \"\\u554f\\u984c\", \"\\u554f\\u984c\", \"\\u56de\\u5e30\", \"\\u56de\\u5e30\", \"\\u5909\\u3048\\u308b\", \"\\u5ba3\\u4f1d\", \"\\u5ba3\\u4f1d\", \"\\u5c64\", \"\\u5c64\", \"\\u5e83\\u544a\", \"\\u5e83\\u544a\", \"\\u5e83\\u544a\\u696d\\u754c\", \"\\u5e83\\u544a\\u696d\\u754c\", \"\\u5e83\\u5831\", \"\\u5f8c\", \"\\u5f8c\", \"\\u60c5\\u5831\\u7cfb\", \"\\u60c5\\u5831\\u7cfb\", \"\\u62db\\u304f\", \"\\u62db\\u304f\", \"\\u63a1\\u7528\\u60c5\\u5831\", \"\\u63a1\\u7528\\u60c5\\u5831\", \"\\u6559\\u80b2\", \"\\u6559\\u80b2\", \"\\u65e5\", \"\\u65e5\", \"\\u65e5\\u672c\", \"\\u65e5\\u672c\", \"\\u671f\\u5f85\", \"\\u671f\\u5f85\", \"\\u6a5f\\u68b0\\u5b66\\u7fd2\", \"\\u6a5f\\u68b0\\u5b66\\u7fd2\", \"\\u6c11\\u6cd5\", \"\\u6c11\\u6cd5\", \"\\u6c7a\\u5b9a\", \"\\u6c7a\\u5b9a\", \"\\u7279\\u96c6\", \"\\u7279\\u96c6\", \"\\u7406\\u7531\", \"\\u7406\\u7531\", \"\\u751f\\u3058\\u308b\", \"\\u751f\\u3058\\u308b\", \"\\u751f\\u6210\", \"\\u751f\\u6210\", \"\\u7537\\u6027\", \"\\u7537\\u6027\", \"\\u771f\\u76f8\", \"\\u771f\\u76f8\", \"\\u79fb\\u884c\", \"\\u79fb\\u884c\", \"\\u7a3c\\u50cd\", \"\\u7a3c\\u50cd\", \"\\u7b2c\", \"\\u7b2c\", \"\\u7ba1\\u7406\", \"\\u7ba1\\u7406\", \"\\u7c73\\u56fd\", \"\\u7c73\\u56fd\", \"\\u7d4c\\u55b6\", \"\\u7d4c\\u55b6\", \"\\u7fa9\\u7406\\u30c1\\u30e7\\u30b3\", \"\\u8131\", \"\\u8131\", \"\\u88fd\\u54c1\", \"\\u88fd\\u54c1\", \"\\u88fd\\u9020\", \"\\u88fd\\u9020\", \"\\u8a18\\u4e8b\", \"\\u8a18\\u4e8b\", \"\\u8aad\\u8005\", \"\\u8aad\\u8005\", \"\\u8abf\\u67fb\", \"\\u8abf\\u67fb\", \"\\u904b\\u55b6\", \"\\u904b\\u55b6\", \"\\u904e\\u304e\", \"\\u904e\\u304e\", \"\\u9078\", \"\\u9078\", \"\\u9078\\u3079\\u308b\", \"\\u9078\\u3079\\u308b\", \"\\u96fb\\u5b50\\u66f8\\u7c4d\", \"\\u96fb\\u5b50\\u66f8\\u7c4d\", \"\\u99c4\\u76ee\", \"\\u99c4\\u76ee\", \"\\u9ad8\", \"\\u9ad8\", \"\\u9ad8\\u3044\", \"\\u9ad8\\u3044\"]}, \"R\": 30, \"lambda.step\": 0.01, \"plot.opts\": {\"xlab\": \"PC1\", \"ylab\": \"PC2\"}, \"topic.order\": [2, 1, 3]};\n",
       "\n",
       "function LDAvis_load_lib(url, callback){\n",
       "  var s = document.createElement('script');\n",
       "  s.src = url;\n",
       "  s.async = true;\n",
       "  s.onreadystatechange = s.onload = callback;\n",
       "  s.onerror = function(){console.warn(\"failed to load library \" + url);};\n",
       "  document.getElementsByTagName(\"head\")[0].appendChild(s);\n",
       "}\n",
       "\n",
       "if(typeof(LDAvis) !== \"undefined\"){\n",
       "   // already loaded: just create the visualization\n",
       "   !function(LDAvis){\n",
       "       new LDAvis(\"#\" + \"ldavis_el7981421398763074226725249921108\", ldavis_el7981421398763074226725249921108_data);\n",
       "   }(LDAvis);\n",
       "}else if(typeof define === \"function\" && define.amd){\n",
       "   // require.js is available: use it to load d3/LDAvis\n",
       "   require.config({paths: {d3: \"https://d3js.org/d3.v5\"}});\n",
       "   require([\"d3\"], function(d3){\n",
       "      window.d3 = d3;\n",
       "      LDAvis_load_lib(\"https://cdn.jsdelivr.net/gh/bmabey/pyLDAvis@3.3.1/pyLDAvis/js/ldavis.v3.0.0.js\", function(){\n",
       "        new LDAvis(\"#\" + \"ldavis_el7981421398763074226725249921108\", ldavis_el7981421398763074226725249921108_data);\n",
       "      });\n",
       "    });\n",
       "}else{\n",
       "    // require.js not available: dynamically load d3 & LDAvis\n",
       "    LDAvis_load_lib(\"https://d3js.org/d3.v5.js\", function(){\n",
       "         LDAvis_load_lib(\"https://cdn.jsdelivr.net/gh/bmabey/pyLDAvis@3.3.1/pyLDAvis/js/ldavis.v3.0.0.js\", function(){\n",
       "                 new LDAvis(\"#\" + \"ldavis_el7981421398763074226725249921108\", ldavis_el7981421398763074226725249921108_data);\n",
       "            })\n",
       "         });\n",
       "}\n",
       "</script>"
      ],
      "text/plain": [
       "<IPython.core.display.HTML object>"
      ]
     },
     "execution_count": 22,
     "metadata": {},
     "output_type": "execute_result"
    }
   ],
   "source": [
    "model_bow: VectorizerBoW = pipe_topic.get_model(1)\n",
    "model_topic: TopicModel = pipe_topic.get_model(-1)\n",
    "\n",
    "lda = model_topic.model\n",
    "bow = pipe_topic[:-1](X)\n",
    "\n",
    "vis = pyLDAvis.gensim_models.prepare(lda, corpus=bow, dictionary=model_bow.vocab)\n",
    "pyLDAvis.display(vis)\n"
   ]
  },
  {
   "cell_type": "code",
   "execution_count": 23,
   "metadata": {},
   "outputs": [
    {
     "data": {
      "text/plain": [
       "345"
      ]
     },
     "execution_count": 23,
     "metadata": {},
     "output_type": "execute_result"
    }
   ],
   "source": [
    "len(model_bow.vocab)"
   ]
  },
  {
   "cell_type": "code",
   "execution_count": 24,
   "metadata": {},
   "outputs": [
    {
     "data": {
      "text/plain": [
       "(1, 345, 2)"
      ]
     },
     "execution_count": 24,
     "metadata": {},
     "output_type": "execute_result"
    }
   ],
   "source": [
    "numpy.array(bow).shape"
   ]
  },
  {
   "cell_type": "code",
   "execution_count": null,
   "metadata": {},
   "outputs": [],
   "source": []
  }
 ],
 "metadata": {
  "kernelspec": {
   "display_name": "Python 3",
   "language": "python",
   "name": "python3"
  },
  "language_info": {
   "codemirror_mode": {
    "name": "ipython",
    "version": 3
   },
   "file_extension": ".py",
   "mimetype": "text/x-python",
   "name": "python",
   "nbconvert_exporter": "python",
   "pygments_lexer": "ipython3",
   "version": "3.10.6"
  },
  "orig_nbformat": 4,
  "vscode": {
   "interpreter": {
    "hash": "767d51c1340bd893661ea55ea3124f6de3c7a262a8b4abca0554b478b1e2ff90"
   }
  }
 },
 "nbformat": 4,
 "nbformat_minor": 2
}
