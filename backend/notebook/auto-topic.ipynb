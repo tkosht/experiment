{
 "cells": [
  {
   "attachments": {},
   "cell_type": "markdown",
   "metadata": {},
   "source": [
    "# トピックへの自動ラベリング\n"
   ]
  },
  {
   "attachments": {},
   "cell_type": "markdown",
   "metadata": {},
   "source": [
    "## コンテンツを取得"
   ]
  },
  {
   "cell_type": "code",
   "execution_count": 1,
   "metadata": {},
   "outputs": [
    {
     "data": {
      "text/plain": [
       "'                             日本語でBERTが動くイメージを知ってほしい。『BERTによる自然言語処理入門』の著者に聞く | Ledge.ai                  AI（人工知能）関連メディア           メールマガジン登録 情報提供はこちら About Contact        Hot Topics 注目のキーワード    Fore- 見え'"
      ]
     },
     "execution_count": 1,
     "metadata": {},
     "output_type": "execute_result"
    }
   ],
   "source": [
    "import requests\n",
    "from bs4 import BeautifulSoup\n",
    "\n",
    "url = \"https://ledge.ai/authorinterview-book-bert-int/\"\n",
    "# url = \"https://www.yomiuri.co.jp/world/20230104-OYT1T50056/\"\n",
    "# url = \"https://www3.nhk.or.jp/kansai-news/20230104/2000069636.html\"\n",
    "# url = \"https://news.yahoo.co.jp/articles/fad0c4f41d46b686e0566bf10e4c016a641a9dab\"\n",
    "# url = \"https://news.yahoo.co.jp/articles/4d2d14fd1ca1dc9b134c5f493896a7e30fc1e781\"\n",
    "res = requests.get(url)\n",
    "\n",
    "soup = BeautifulSoup(res.content, \"lxml\")\n",
    "for tg in [\"script\", \"noscript\", \"meta\"]:\n",
    "    try:\n",
    "        soup.find(tg).replace_with(\" \")\n",
    "    except:\n",
    "        pass\n",
    "soup.get_text()[:200]"
   ]
  },
  {
   "cell_type": "code",
   "execution_count": null,
   "metadata": {},
   "outputs": [],
   "source": []
  },
  {
   "cell_type": "code",
   "execution_count": null,
   "metadata": {},
   "outputs": [],
   "source": []
  },
  {
   "attachments": {},
   "cell_type": "markdown",
   "metadata": {},
   "source": [
    "### 簡易クレンジング"
   ]
  },
  {
   "cell_type": "code",
   "execution_count": 2,
   "metadata": {},
   "outputs": [
    {
     "data": {
      "text/plain": [
       "['日本語でBERTが動くイメージを知ってほしい',\n",
       " '。',\n",
       " '『BERTによる自然言語処理入門』の著者に聞く | Ledge.ai AI（人工知能）関連メディア メールマガジン登録 情報提供はこちら About Contact Hot Topics 注目のキーワード Fore- 見えない変化を可視化する',\n",
       " '。',\n",
       " '見えている世界が動き出す']"
      ]
     },
     "execution_count": 2,
     "metadata": {},
     "output_type": "execute_result"
    }
   ],
   "source": [
    "import re\n",
    "\n",
    "def clean_text(text: str):\n",
    "    contents = []\n",
    "    for txt in re.split(r\"(。|\\n)\", text):\n",
    "        txt = txt.strip().replace(\"\\u200b\", \"\").replace(\"\\u3000\", \" \")\n",
    "        txt = re.sub(r\"\\n+\", \"\\n\", txt)\n",
    "        txt = re.sub(r\"([\\W])\\1+\", \" \", txt)\n",
    "        if not txt:\n",
    "            continue\n",
    "        # contents.append(txt)\n",
    "        # contents.append(txt.split(\"\\n\")[-1])\n",
    "        contents.extend(txt.split(\"\\n\"))\n",
    "    return contents\n",
    "\n",
    "text = soup.get_text()\n",
    "contents = clean_text(text)\n",
    "contents[:5]"
   ]
  },
  {
   "cell_type": "code",
   "execution_count": 3,
   "metadata": {},
   "outputs": [],
   "source": [
    "# # pickup wiki data to analyze topic\n",
    "# wdb = WikiDb(mode=\"train\")\n",
    "# records = wdb.select_by_document_id(document_ids=[\n",
    "#     \"Doc01GN7P2K02Y2FC8BXHMZ5V1A34\",    # 南部煎餅\n",
    "#     \"Doc01GN7P3C1ZPVGB8AXJC75M9ZQ9\",    # 龍が如く OF THE END\n",
    "#     \"Doc01GN7P3C0YPAWH4KT16P7NNQBK\",    # 自動運転車\n",
    "#     \"Doc01GN7P3BS2JNYS3HYV0RM1TT7T\",    # デュケイン大学\n",
    "#     \"Doc01GN7P3BK88YCXKS64H6G2HK0Y\",    # 深蒸し茶\n",
    "#     ])\n",
    "# X: TextSequences = [WikiRecord(*rec).paragraph.splitlines() for rec in records]\n",
    "# pipe_topic.fit(X)"
   ]
  },
  {
   "attachments": {},
   "cell_type": "markdown",
   "metadata": {},
   "source": [
    "## トピックモデルのパイプラインを構築"
   ]
  },
  {
   "cell_type": "code",
   "execution_count": 4,
   "metadata": {},
   "outputs": [],
   "source": [
    "import joblib\n",
    "\n",
    "from app.component.models.model import TextSequences\n",
    "from app.component.models.pipeline import Pipeline\n",
    "from app.component.models.vectorizer import VectorizerBoW, VectorizerWord2vec\n",
    "from app.domain.models.tokenizer import TokenizerWord\n",
    "from app.domain.models.topic_model import TopicModel\n",
    "from app.infra.wikidb import WikiDb, WikiRecord"
   ]
  },
  {
   "cell_type": "code",
   "execution_count": 5,
   "metadata": {},
   "outputs": [],
   "source": [
    "pipe_topic = Pipeline(\n",
    "    steps=[\n",
    "        (TokenizerWord(use_stoppoes=True), None),\n",
    "        (VectorizerBoW(), None),\n",
    "        (TopicModel(n_topic=10, n_epoch=2000), None),\n",
    "    ],\n",
    "    name=\"pipe_topic_sample\",\n",
    "    do_print=True,\n",
    ")\n"
   ]
  },
  {
   "cell_type": "code",
   "execution_count": 6,
   "metadata": {},
   "outputs": [
    {
     "name": "stdout",
     "output_type": "stream",
     "text": [
      "2023/01/09 14:37:11 INFO Start to fit n_step=0 model=JpTokenizerMeCab(use_stoppoes=True, filterpos=[], use_orgform=False)\n",
      "2023/01/09 14:37:11 INFO End to fit n_step=0 model=JpTokenizerMeCab(use_stoppoes=True, filterpos=[], use_orgform=False)\n",
      "2023/01/09 14:37:11 INFO Start to transform n_step=0 model=JpTokenizerMeCab(use_stoppoes=True, filterpos=[], use_orgform=False)\n",
      "2023/01/09 14:37:11 INFO End to transform n_step=0 model=JpTokenizerMeCab(use_stoppoes=True, filterpos=[], use_orgform=False)\n",
      "2023/01/09 14:37:11 INFO Start to fit n_step=1 model=VectorizerBoW()\n",
      "2023/01/09 14:37:11 INFO End to fit n_step=1 model=VectorizerBoW()\n",
      "2023/01/09 14:37:11 INFO Start to transform n_step=1 model=VectorizerBoW()\n",
      "2023/01/09 14:37:11 INFO End to transform n_step=1 model=VectorizerBoW()\n",
      "2023/01/09 14:37:11 INFO Start to fit n_step=2 model=TopicModel(n_topic=10, n_epoch=2000)\n",
      "2023/01/09 14:37:12 INFO End to fit n_step=2 model=TopicModel(n_topic=10, n_epoch=2000)\n",
      "2023/01/09 14:37:12 INFO Start to transform n_step=2 model=TopicModel(n_topic=10, n_epoch=2000)\n",
      "2023/01/09 14:37:12 INFO End to transform n_step=2 model=TopicModel(n_topic=10, n_epoch=2000)\n"
     ]
    },
    {
     "data": {
      "text/plain": [
       "Pipeline(steps=[(JpTokenizerMeCab(use_stoppoes=True, filterpos=[], use_orgform=False), None), (VectorizerBoW(), None), (TopicModel(n_topic=10, n_epoch=2000), None)], name=pipe_topic_sample, do_print=True, args=(), kwargs={})"
      ]
     },
     "execution_count": 6,
     "metadata": {},
     "output_type": "execute_result"
    }
   ],
   "source": [
    "# X: TextSequences = [[snt] for snt in contents]\n",
    "X: TextSequences = [contents]\n",
    "# pipe_topic[:1].fit(X).transform(X)        # for debugging\n",
    "pipe_topic.fit(X)"
   ]
  },
  {
   "cell_type": "code",
   "execution_count": 7,
   "metadata": {},
   "outputs": [
    {
     "data": {
      "text/plain": [
       "(VectorizerBoW(), TopicModel(n_topic=10, n_epoch=2000))"
      ]
     },
     "execution_count": 7,
     "metadata": {},
     "output_type": "execute_result"
    }
   ],
   "source": [
    "model_bow: VectorizerBoW = pipe_topic.get_model(1)\n",
    "model_topic: TopicModel = pipe_topic.get_model(-1)\n",
    "model_bow, model_topic\n"
   ]
  },
  {
   "attachments": {},
   "cell_type": "markdown",
   "metadata": {},
   "source": [
    "## Word2Vec モデルをロード"
   ]
  },
  {
   "cell_type": "code",
   "execution_count": 8,
   "metadata": {},
   "outputs": [],
   "source": [
    "# # # use original pretrained newsvec model (with only noun and verb tokens)\n",
    "# pipe_newsvec = joblib.load(\"data/pipe_newsvec.gz\")\n",
    "# pipe_newsvec\n",
    "# model_vectorizer: VectorizerWord2vec = pipe_newsvec.get_model(-1)\n",
    "# model_vectorizer\n",
    "# w2v = model_vectorizer.model"
   ]
  },
  {
   "cell_type": "code",
   "execution_count": 9,
   "metadata": {},
   "outputs": [],
   "source": [
    "# # use original pretrained wikivec model (with only noun and verb tokens)\n",
    "# pipe_wikivec = joblib.load(\"data/pipe_wikivec.noun-verb.gz\")\n",
    "# pipe_wikivec\n",
    "# model_vectorizer: VectorizerWord2vec = pipe_wikivec.get_model(-1)\n",
    "# model_vectorizer\n",
    "# w2v = model_vectorizer.model"
   ]
  },
  {
   "cell_type": "code",
   "execution_count": 10,
   "metadata": {},
   "outputs": [
    {
     "data": {
      "text/plain": [
       "<gensim.models.word2vec.Word2Vec at 0x7f77ba4b0760>"
      ]
     },
     "execution_count": 10,
     "metadata": {},
     "output_type": "execute_result"
    }
   ],
   "source": [
    "# use shiroyagi's word2vec pretrained model\n",
    "from gensim.models.word2vec import Word2Vec\n",
    "w2v = Word2Vec.load(\"data/word2vec.gensim.model\")\n",
    "w2v"
   ]
  },
  {
   "cell_type": "code",
   "execution_count": 11,
   "metadata": {},
   "outputs": [
    {
     "data": {
      "text/plain": [
       "335476"
      ]
     },
     "execution_count": 11,
     "metadata": {},
     "output_type": "execute_result"
    }
   ],
   "source": [
    "len(w2v.wv.key_to_index)"
   ]
  },
  {
   "cell_type": "code",
   "execution_count": 12,
   "metadata": {},
   "outputs": [
    {
     "data": {
      "text/plain": [
       "array([1.        , 1.0000001 , 1.0000002 , 0.99999994, 1.0000002 ,\n",
       "       1.0000002 , 1.        , 1.        , 1.0000001 , 1.0000001 ],\n",
       "      dtype=float32)"
      ]
     },
     "execution_count": 12,
     "metadata": {},
     "output_type": "execute_result"
    }
   ],
   "source": [
    "# 各トピックの確率の合計が 1 になることを確認しておく\n",
    "model_topic.get_topic_probabilities().sum(-1)"
   ]
  },
  {
   "cell_type": "code",
   "execution_count": 13,
   "metadata": {},
   "outputs": [],
   "source": [
    "def pickup_topic_words(model_topic: TopicModel, topn: int = -1):\n",
    "    # topn: 各トピックの上位の単語の数\n",
    "    topics = []\n",
    "    for topic_probs in model_topic.get_topic_probabilities():\n",
    "        indices = topic_probs.argsort()[::-1][:topn]\n",
    "        topic = [(model_bow.vocab[idx], topic_probs[idx]) for idx in indices]\n",
    "        topics.append(topic)\n",
    "    return topics\n"
   ]
  },
  {
   "cell_type": "code",
   "execution_count": 14,
   "metadata": {},
   "outputs": [
    {
     "data": {
      "text/plain": [
       "[('BERT', 0.03809557),\n",
       " ('し', 0.025257168),\n",
       " ('AI', 0.025203139),\n",
       " ('自然言語処理', 0.024133159),\n",
       " ('できる', 0.01698819)]"
      ]
     },
     "execution_count": 14,
     "metadata": {},
     "output_type": "execute_result"
    }
   ],
   "source": [
    "pickup_topic_words(model_topic, topn=30)[0][:5]\n"
   ]
  },
  {
   "cell_type": "code",
   "execution_count": 15,
   "metadata": {},
   "outputs": [],
   "source": [
    "def parse_topic(topics: list):\n",
    "    words = []\n",
    "    numbs = []\n",
    "    for w, p in topics:\n",
    "        do_skip: bool = False\n",
    "        do_skip |= bool(re.search(r\"^[あ-ん]\", w))    # です、ます などは、スキップ\n",
    "        do_skip |= bool(re.search(r\"[あ-ん]$\", w))    # 動名詞 などは、スキップ\n",
    "        do_skip |= w[0].isnumeric()                  # 数字から始まるラベルはスキップ\n",
    "        if do_skip:\n",
    "            continue\n",
    "        words.append(w)\n",
    "        numbs.append(p)\n",
    "    return words, numbs\n"
   ]
  },
  {
   "cell_type": "code",
   "execution_count": 16,
   "metadata": {},
   "outputs": [],
   "source": [
    "import numpy\n",
    "import re\n",
    "\n",
    "\n",
    "def estimate_topic_label(w2v, topics: list):\n",
    "    proper_topics = {}\n",
    "    topic_labels = []\n",
    "\n",
    "    for idx_tpc, tpc in enumerate(topics):\n",
    "        # トピック情報を、単語リストとその確率リストに分解する\n",
    "        _words, _probs = parse_topic(tpc)\n",
    "\n",
    "        # word2vec モデルに含まれる単語のみに絞る\n",
    "        words = [w for w in _words if w in w2v.wv]\n",
    "        probs = [p for w, p in zip(_words, _probs) if w in w2v.wv]\n",
    "\n",
    "        # 単語リストからベクトルに変換し、期待値ベクトルを算出\n",
    "        vectors = w2v.wv[words]\n",
    "        probs = numpy.array(probs).reshape(-1, 1)\n",
    "        topic_vector = (vectors * probs).sum(axis=0)    # 期待値ベクトル\n",
    "\n",
    "        # トピックに対する期待値ベクトルに類似するベクトルを十分な数(topn=100) を取得しておく\n",
    "        estimated_topic_labels = w2v.wv.similar_by_vector(topic_vector, topn=100)\n",
    "\n",
    "        # ラベルと類似度を取得し、最も類似度が高い最初のインデックスの要素を保持\n",
    "        labels, similarities = parse_topic(estimated_topic_labels)\n",
    "        topic_label = labels[0]\n",
    "        similarity = similarities[0]\n",
    "\n",
    "        # 重複しないトピックラベル集合(proper_topics)として記録しておく\n",
    "        if topic_label not in proper_topics:\n",
    "            proper_topics[topic_label] = (idx_tpc, similarity, words, probs)\n",
    "\n",
    "        # 重複を許すトピックラベル(topic_labels)として記録しておく\n",
    "        topic_labels.append((topic_label, similarity))\n",
    "\n",
    "    return topic_labels, proper_topics\n"
   ]
  },
  {
   "cell_type": "code",
   "execution_count": 17,
   "metadata": {},
   "outputs": [],
   "source": [
    "# トピック数を自動で特定するサンプル\n",
    "# # トピック数が proper_topics と一致するまで、減らしていくことで、トピック数を特定する\n",
    "\n",
    "# w2v : is already loaded\n",
    "n_topic_words = 17      # to calculate the average over\n",
    "n_topic = 10            # default topic numbers\n",
    "topic_label_counter = {}\n",
    "\n",
    "while True:\n",
    "    # トピックモデルのパイプラインを構築\n",
    "    pipe_topic = Pipeline(\n",
    "        steps=[\n",
    "            (TokenizerWord(use_stoppoes=True, use_orgform=True), None),\n",
    "            (VectorizerBoW(), None),\n",
    "            (TopicModel(n_topic=n_topic, n_epoch=2000), None),\n",
    "        ],\n",
    "        name=\"pipe_topic\",\n",
    "        do_print=False,\n",
    "    )\n",
    "\n",
    "    # トピックモデルを学習\n",
    "    X: TextSequences = [contents]\n",
    "    pipe_topic.fit(X)\n",
    "\n",
    "    model_topic: TopicModel = pipe_topic.get_model(-1)\n",
    "    topics = pickup_topic_words(model_topic, topn=n_topic_words)\n",
    "    topic_labels, proper_topics = estimate_topic_label(w2v, topics)\n",
    "\n",
    "    # トピックラベルをカウント\n",
    "    for tpc in proper_topics:\n",
    "        cnt = topic_label_counter.get(tpc, 0) + 1\n",
    "        topic_label_counter[tpc] = cnt\n",
    "    \n",
    "    # ループの終了条件\n",
    "    if len(proper_topics) >= n_topic:\n",
    "        break\n",
    "\n",
    "    # 状態/処理文脈としてトピック数を更新・保持\n",
    "    n_topic = len(proper_topics)"
   ]
  },
  {
   "cell_type": "code",
   "execution_count": 18,
   "metadata": {},
   "outputs": [
    {
     "name": "stdout",
     "output_type": "stream",
     "text": [
      "----------------------------------------------------------------------------------------------------\n",
      "topic[0]: 自分自身 : 6 (0.800)\n",
      "     ... ['さらに', 'BERT', 'AI', '私', 'いき', 'どんどん', 'たくらみ', 'コンパクト', '手探り', 'ありません', '絵', '文章', 'きっかけ', '解く', '人々', '用い', '感']\n",
      "----------------------------------------------------------------------------------------------------\n",
      "topic[1]: 固定観念 : 4 (0.814)\n",
      "     ... ['さらに', 'BERT', '私', 'いき', 'AI', 'たくらみ', 'コンパクト', 'どんどん', '文章', '解く', '感', 'きっかけ', 'ありません', '手探り', '伝え', '人々', '特徴']\n"
     ]
    }
   ],
   "source": [
    "# トピックの出力\n",
    "# # 自動付与したラベルと、各トピックの上位単語の表示\n",
    "# # 理想的には、この出力結果に違和感がないこと\n",
    "\n",
    "for idx_tpc, (lbl, sim) in enumerate(topic_labels):\n",
    "    print(\"-\" * 100)\n",
    "    print(f\"topic[{idx_tpc}]: {lbl} : {topic_label_counter[lbl]} ({sim:0.3f})\")\n",
    "    print(\" \" * 4 + f\" ... {[_t for _t, _s in topics[idx_tpc][:20]]}\")\n"
   ]
  },
  {
   "cell_type": "code",
   "execution_count": 19,
   "metadata": {},
   "outputs": [
    {
     "name": "stdout",
     "output_type": "stream",
     "text": [
      "estimated n_topic: 2\n",
      "[00]: 自分自身: ['AI', '私', 'コンパクト', '絵', '文章', '人々', '感']\n",
      "[01]: 固定観念: ['私', 'AI', 'コンパクト', '文章', '感', '人々', '特徴']\n"
     ]
    }
   ],
   "source": [
    "# 実際に期待値ベクトルを算出するときに使った単語を表示\n",
    "# # 上記の自動付与ラベルと上位単語の関係性に違和感があるときに確認すると良いだろう\n",
    "print(\"estimated n_topic:\", len(proper_topics))\n",
    "\n",
    "for lbl, v in proper_topics.items():\n",
    "    tpc_idx, sim, words, probs = v\n",
    "    print(f\"[{tpc_idx:02d}]: {lbl}: {words}\")\n"
   ]
  },
  {
   "cell_type": "code",
   "execution_count": 20,
   "metadata": {},
   "outputs": [
    {
     "name": "stdout",
     "output_type": "stream",
     "text": [
      "日本語でBERTが動くイメージを知ってほしい\n",
      "。\n",
      "『BERTによる自然言語処理入門』の著者に聞く | Ledge.ai AI（人工知能）関連メディア メールマガジン登録 情報提供はこちら About Contact Hot Topics 注目のキーワード Fore- 見えない変化を可視化する\n",
      "。\n",
      "見えている世界が動き出す\n",
      "。\n",
      "Dataiku DATAFLUCT キカガク AI開発の現場 DataRobot JDLA DL for DX 沖電気工業 Gravio 簡単IoTとAI実装 ビジネス 学習 開発 エンタメ ラジオ Podcast 特集：新型コロナとデータ分析 特集：それ私が作りました！ Article Theme テーマ別カテゴリ プレスリリース イベント レッジのAI開発・コンサルティング AI・データ活用研修 AI（人工知能）ニュース インタビュー イベントレポート AI活用事例 やってみた 文系大学生がAI講座受けてみた ナレッジ AI本書評 ツール紹介 サービス紹介 マーケティング マーケティングオートメーション（MA） PR TIMES イベント告知 AI TALK NIGHT Ledge.ai Webinar 海外AIニュース速報 AI（人工知能）ニュースまとめ Technology 技術別カテゴリ ノーコード データサイエンス DX プログラミング エッジAI 自動運転 AI（人工知能） 注目テクノロジー 自然言語処理 画像認識・生成 チャットボット 音声認識・合成 予測 About Contact TOP > Article Theme > インタビュー > 日本語でBERTが動くイメージを知ってほしい\n",
      "。\n",
      "『BERTによる自然言語処理入門』の著者に聞く 2021 08 25 Wed インタビュー 日本語でBERTが動くイメージを知ってほしい\n",
      "。\n",
      "『BERTによる自然言語処理入門』の著者に聞く Tweet 6月に販売開始した、ストックマーク株式会社の機械学習エンジニアによる共著『BERTによる自然言語処理入門：Transformersを使った実践プログラミング』（オーム社）\n",
      "。\n",
      "売れ行きも好調で、発売日の前から重版が決定していた\n",
      "。\n",
      "本書はデータセットの処理から、BERTのファインチューニング（BERTを特定の言語タスクに特化させるための学習）、性能の評価までの一連の流れを、文章分類・固有表現抽出・文章校正・類似文章検索といった言語タスクごとに体験できる\n",
      "。\n",
      " BERTによる自然言語処理入門 Transformersを使った実践プログラミング | Ohmsha「入門」と銘打っているが、はじめて自然言語処理を体験する人や、非エンジニアでも読めるのか？本書の魅力をさらにフカボリすべく、執筆をリードした、ストックマーク株式会社 R&D マネージャーの近江 崇宏氏に話を聞いた\n",
      "。\n",
      "近江 崇宏氏 プロフィールストックマーク株式会社にて自然言語処理の研究開発に従事\n",
      "。\n",
      "2012年に京都大学大学院理学研究科博士課程修了\n",
      "。\n",
      "博士（理学）\n",
      "。\n",
      "その後は、2020年まで東京大学生産技術研究所（最終職位：特任准教授）にて時系列解析を中心とする統計学・機械学習の研究に従事\n",
      "。\n",
      "2020年4月より現職\n",
      "。\n",
      "本のコンセプトは「BERTでできることを知る」ストックマークは、ユーザーの閲覧履歴をAIが学習し、世界中のビジネスニュースの中から業務に直結するニュースをレコメンドする「Anews」をはじめ、自然言語処理技術を生かしたサービスを提供している\n",
      "。\n",
      "テックブログやイベントでのBERT、自然言語処理の情報発信もさかんだ\n",
      "。\n",
      "日本語の自然言語処理ノウハウを持つそんな同社が、なぜ入門にフォーカスしたのか？そこには”入門書”の方が売れる、というわずかなたくらみだけでなく、BERTを使って自然言語処理のいろいろなタスクができることを知ってほしい、という執筆チームの強い思いがあった\n",
      "。\n",
      " 近江「BERTでどのようなことができるのかのイメージを掴んでもらえればと思っています\n",
      "。\n",
      "私も専門外の分野、例えば画像処理でいろいろなモデルの名前を聞くことはありますが、何ができるかというのはあまり知りません\n",
      "。\n",
      "そうした、機械学習をやっているけれど自然言語処理は未経験という方や、BERTで何ができるか分からない、という方に向けた『入門』としています」実際に本書では、BERTとBERTを扱うためのライブラリであるTransformersの概要や使い方を解説したのち、自然言語処理の各タスクの説明に入る\n",
      "。\n",
      "目次には「固有表現抽出」「文書校正」「類似文章」といった章が並び、読者は本文を読み進める前から、BERTを使って何ができるかを知ることができる\n",
      "。\n",
      "機械学習の経験がなくてもBERTを使えるワケこの本には同類の解説書と違うふたつの特徴がある\n",
      "。\n",
      "そのひとつが、BERTやTransformersの使い方に着目した章立てだ\n",
      "。\n",
      "BERTやTransformersの使い方も解説まず本書の前半で自然言語処理やBERTについて解説があり、「自然言語処理とは？」「ニューラル言語モデルとは？」といった基礎的な部分も、コンパクトかつていねいな説明で紐解く\n",
      "。\n",
      "後半では、Transformersという事前学習済み言語モデルを提供するライブラリを用いて、BERTを動かして言語タスクを解く\n",
      "。\n",
      "BERTとTransformersとの組み合わせも近江氏いわく「自然言語処理ではスタンダードな構成」であるものの、初学者にとってはハードルが高い\n",
      "。\n",
      " 近江「Transformersの使い方は、インターネットで調べれば解説記事が見つかります\n",
      "。\n",
      "ただ公式ドキュメントや一般のブログも、”見る人が見れば分かる”というもので、ある程度の前提知識がないと理解をするのは難しい\n",
      "。\n",
      "特にTransformersの公式ドキュメントはすべて英語なので、私自身が初めて勉強したときも分かりづらいなと思っていたのです\n",
      "。\n",
      "本書では、あまり使ったことがない人でも動かせるように、丁寧な解説を心がけました」ライブラリの基本的な使い方は巻末の「付録」などで紹介する技術書が多い中、本書では初学者を想定した解説がなされている\n",
      "。\n",
      "英語データセットで分かるのはBERTが動いているという事実だけこの本でもうひとつ特徴的なのが、日本語データセットを使った解説だ\n",
      "。\n",
      "自然言語処理の解説書やオンラインの記事では、著者が日本人でも英語のデータセットを使って解説することが少なくない\n",
      "。\n",
      "日本語のデータセットの数は英語などに比べて少ないという事情があるからだ\n",
      "。\n",
      "近江氏は執筆プロジェクトが立ち上がったとき「日本語のデータセットで統一しましょう」と提案したほど、強いこだわりを持っていたのだとか\n",
      "。\n",
      " 近江「極端な話、BERTが動いているかどうかを知るには英語のデータセットでも問題ありません\n",
      "。\n",
      "でも英語になじみがないと”動いている”ことがわかるだけですし、ちょっと面白くないですよね\n",
      "。\n",
      "自然言語処理は私たちの日常に密接に関わっています\n",
      "。\n",
      "多くの日本人が日本語の言葉や文章のイメージを自分なりに持っているので、日本語のデータセットの方が、読者の方に楽しんでいただけるのではないかと考えました」本書では大量のデータを事前学習させたBERTを使うほか、「Wikipedia を用いた日本語の固有表現抽出データセット」や「日本語Wikipedia 入力誤りデータセット」、「livedoor ニュースコーパス」、「chABSAデータセット」など自然言語処理の各タスクに適した公開データセットをファインチューニング用に用いる\n",
      "。\n",
      "日本語データセットを使うからこそ、直感的に「自然な文章が出た」「文章のネガポジ判定に成功した」などの処理結果が分かるのだ\n",
      "。\n",
      "実は過去に経験がなかった「文章校正（９章）」\n",
      "。\n",
      "手を動かしながら執筆を進めた技術書の執筆というと、著者がこれまで培った専門知識や経験・ノウハウを集約して出すものが多いが、自分の知識がアップデートされるということも少なくない\n",
      "。\n",
      "近江氏も本書の執筆を進めていく中で、新たな学びがあったとのこと\n",
      "。\n",
      "9章の「文章校正」は、執筆担当の森長 誠氏と近江氏は共に経験がなく、まさに手探りでの挑戦だったそうだ\n",
      "。\n",
      "担当編集者にも「できるんですか？」と心配されたほど\n",
      "。\n",
      "それでも試行錯誤を経て、なんとか本書で解説できる形まで持っていったという\n",
      "。\n",
      " 近江「最初はうまく行くのか自信がありませんでしたが、データセットをどう使うのか、どういうふうにしたら読者にとって分かりやすいのか、などと考えながら手を動かしました\n",
      "。\n",
      "当初の想定よりも完成度が高いものができて、新しい学びも多くありました\n",
      "。\n",
      "逆に、8章の『固有表現抽出』は、私が業務で培った経験が特に活かせたように思います\n",
      "。\n",
      "書きたいことが書けたという実感がありましたので、こちらもぜひ見ていただけると嬉しいです」固有表現抽出とは、文章から人名・組織名といった固有名詞を抽出するタスクのこと\n",
      "。\n",
      "本書では解説に加え、同氏がプロダクト開発で培ったノウハウも充実している\n",
      "。\n",
      "まずは、BERTを動かしてみてほしいタスクごとに拾い読みができる構成の本ではあるが、読者におすすめしたい読み方はあるか？を聞いてみると、 近江「自然言語処理に詳しくない方は、BERTを知らない方は1章から3章まで\n",
      "。\n",
      "どうやって動くかに興味を持った人は4〜6章ぐらいまでを、まずしっかり読んでみてください\n",
      "。\n",
      "SNSで『後半部分は難しい』という声がちらほらありましたが、7章から10章は、処理の内容が複雑になり、コードもそれ以前の章に比べると難しくなります\n",
      "。\n",
      "ただし、すべてを理解しなければ次の章に進めない、というものではないので、まずはざっくりとイメージを掴んでもらえたらと思います」とのことだ\n",
      "。\n",
      "本書は一般書と専門書の間のレベルに調節していて、読者のレベル感も幅広く想定している\n",
      "。\n",
      "読み進めていくと難しい部分もあるかもしれないが、ブラウザ上から実行できるGoogle Colaboratoryで気軽に試してみてほしいそうだ\n",
      "。\n",
      " 近江「本書で、BERTで何ができるのか、どういう仕組みで動いているのか、というイメージを持っていただけたら嬉しいかなというところです\n",
      "。\n",
      "モデルやアルゴリズムの詳細な解説もできなくはありませんでしたが、実践的な内容にしたいと思い、あえて必要最低限に留めました\n",
      "。\n",
      "実際に手を動かして、BERTで何ができるか、どう使うかを理解できる内容になっていると思います\n",
      "。\n",
      "前半のモデルの解説を難しく感じられたら、まずは後半のコードを動かすところでイメージを掴むのも良いかもしれません\n",
      "。\n",
      "未経験者でもどんどん実践してみてほしい\n",
      "。\n",
      "このBERT入門をきっかけに、自然言語処理そのものにも興味を持っていただけたら嬉しいです」先日、Ledge.ai Webinar vol.32『自然言語処理でビジネスパーソンが注目すべき技術とは？BERT以降の変遷とこれから』に登壇\n",
      "。\n",
      "多くの視聴者が注目した当分はもう書きたくない？けど これまでの話でうかがったとおり、本書は入門書という位置づけだ\n",
      "。\n",
      "本書の続編や違った切り口での発信を考えているか？とたずねたところ、直近で続編を出す予定はないが、今後もBERTや自然言語処理などの情報発信は続けていきたいという\n",
      "。\n",
      " 近江「執筆はハードスケジュールでしたし、今の段階ではもう書きたくないという気持ちもありますが（笑）もう少し体力が戻ってきたらできるかもしれないかなといったところです\n",
      "。\n",
      "どんなトピックを取り上げるかはまだ未定ですが、我々としては最先端の技術を一般に広く、わかりやすく伝えていきたいと考えています\n",
      "。\n",
      "プロダクト開発で新しい技術も取り入れていっているので、新しい技術でどういうことができるかは今後も発信していきたいと思っています」自然言語処理の”はじめの一歩”を後押しする一冊インタビュー中も一貫して「まずはBERTを触って試してほしい」と近江氏が言っていたとおり、非エンジニアの筆者が本書を手にとって最初に感じたのが、圧倒的なとっつきやすさだ\n",
      "。\n",
      "BERTやTransformersの解説ページをはじめ、ブラウザ（Google Colaboratory）中心の環境構築、日本語データセットが「とりあえず触ってみる」まで、自然言語処理を始めるうえで背中を後押ししてくれる\n",
      "。\n",
      "この本を参考に、先日筆者も文章の穴埋めタスクを体験してみた\n",
      "。\n",
      "初めて自分のマシンでBERTが動いて、日本語の文章が画面に表示されたのを見たときは、感動すらおぼえた\n",
      "。\n",
      "コードが詳しく分からなくても、英語に慣れていなくても、自然言語処理の”はじめの一歩”を踏み出せる\n",
      "。\n",
      "『BERTによる自然言語処理入門：Transformersを使った実践プログラミング』は、以下リンクなどで現在販売中だ\n",
      "。\n",
      "本の詳細、購入はこちらから関連記事：日本語データセットで学べるBERT入門書『BERTによる自然言語処理入門』6月28日に販売開始 by 菊田 千春 雑誌記者、IT企業のオウンドメディア運営・記事制作を経てレッジに\n",
      "。\n",
      "新しいものに目がなく、テクノロジーの進化による人々の行動様式・価値観の変化を探っていくのが好き\n",
      "。\n",
      "Tag AI（人工知能）, 自然言語処理, インタビュー, 学習 Share Tweet 関連する記事 2023 01 06 Fri AIであらゆる取引情報の電子帳簿保存に対応 「OPTiM電子帳簿保存」提供開始 2023 01 05 Thu 視聴者のコメントから作品を生成する参加型アート\n",
      "。\n",
      "画像生成系AI VTuber 「絵藍ミツア」 プロジェクト本格始動 2023 01 05 Thu 松尾豊氏 画像生成AIと大規模言語モデルが注目を浴びた2022年 2023 01 05 Thu 元クラウドワークス副社長の成田修造氏が「Catchy」のデジタルレシピに参画 2023 01 04 Wed リズムゲームの譜面制作時間をAIで加速\n",
      "。\n",
      "人工知能分野の国際学会「AAAI-23」で採択 2022 12 30 Fri 学生・社会人ともにPythonが人気 Paizaが「プログラミング言語に関する調査（2022年度版）」の結果を発表 検索: よく読まれている記事 1月24日(火)15:00～【無料ウェビナー】AI導入で知っておくべき「タブー」と「解決法」とは？ AI時代に必要な「なめらかさ」とは？ AIの専門家たちがAI開発のヒントと未来を語り合った「AI TALK NIGHT sponsored by Gravio」レポート 理系大学生が徹底解説！ Gravioを使って「俺か、俺以外か」を自動で判断・可視化するAIシステムを構築 プログラム未経験の大学生でも旅行写真認識AIを構築できた！写真に映っている名所旧跡の名前をLINEに通知するシステムも作ってみた NVIDIA、滋賀大学と連携しデータサイエンス教材の日本語版を無償で提供開始 注目のキーワード Fore- 見えない変化を可視化する\n",
      "。\n",
      "見えている世界が動き出す\n",
      "。\n",
      "Dataiku DATAFLUCT キカガク AI開発の現場 DataRobot JDLA DL for DX 沖電気工業 Gravio 簡単IoTとAI実装 ビジネス 学習 開発 エンタメ ラジオ Podcast 特集：新型コロナとデータ分析 特集：それ私が作りました！ Follow Us!     Share Tweet Copyright © 2023 Ledge inc. All Rights Reserved.\n"
     ]
    }
   ],
   "source": [
    "print(\"\\n\".join(contents))"
   ]
  },
  {
   "attachments": {},
   "cell_type": "markdown",
   "metadata": {},
   "source": [
    "## LDA の可視化"
   ]
  },
  {
   "cell_type": "code",
   "execution_count": null,
   "metadata": {},
   "outputs": [],
   "source": []
  },
  {
   "cell_type": "code",
   "execution_count": 21,
   "metadata": {},
   "outputs": [
    {
     "name": "stderr",
     "output_type": "stream",
     "text": [
      "/usr/local/lib/python3.10/dist-packages/past/builtins/misc.py:45: DeprecationWarning: the imp module is deprecated in favour of importlib and slated for removal in Python 3.12; see the module's documentation for alternative uses\n",
      "  from imp import reload\n"
     ]
    }
   ],
   "source": [
    "import pyLDAvis\n",
    "import pyLDAvis.gensim_models\n",
    "\n",
    "pyLDAvis.enable_notebook()\n"
   ]
  },
  {
   "cell_type": "code",
   "execution_count": 22,
   "metadata": {},
   "outputs": [
    {
     "name": "stderr",
     "output_type": "stream",
     "text": [
      "/usr/local/lib/python3.10/dist-packages/pyLDAvis/_prepare.py:247: FutureWarning: In a future version of pandas all arguments of DataFrame.drop except for the argument 'labels' will be keyword-only\n",
      "  by='saliency', ascending=False).head(R).drop('saliency', 1)\n",
      "/usr/local/lib/python3.10/dist-packages/past/builtins/misc.py:45: DeprecationWarning: the imp module is deprecated in favour of importlib and slated for removal in Python 3.12; see the module's documentation for alternative uses\n",
      "  from imp import reload\n",
      "/usr/local/lib/python3.10/dist-packages/past/builtins/misc.py:45: DeprecationWarning: the imp module is deprecated in favour of importlib and slated for removal in Python 3.12; see the module's documentation for alternative uses\n",
      "  from imp import reload\n",
      "/usr/local/lib/python3.10/dist-packages/past/builtins/misc.py:45: DeprecationWarning: the imp module is deprecated in favour of importlib and slated for removal in Python 3.12; see the module's documentation for alternative uses\n",
      "  from imp import reload\n",
      "/usr/local/lib/python3.10/dist-packages/past/builtins/misc.py:45: DeprecationWarning: the imp module is deprecated in favour of importlib and slated for removal in Python 3.12; see the module's documentation for alternative uses\n",
      "  from imp import reload\n",
      "/usr/local/lib/python3.10/dist-packages/past/builtins/misc.py:45: DeprecationWarning: the imp module is deprecated in favour of importlib and slated for removal in Python 3.12; see the module's documentation for alternative uses\n",
      "  from imp import reload\n",
      "/usr/local/lib/python3.10/dist-packages/past/builtins/misc.py:45: DeprecationWarning: the imp module is deprecated in favour of importlib and slated for removal in Python 3.12; see the module's documentation for alternative uses\n",
      "  from imp import reload\n",
      "/usr/local/lib/python3.10/dist-packages/past/builtins/misc.py:45: DeprecationWarning: the imp module is deprecated in favour of importlib and slated for removal in Python 3.12; see the module's documentation for alternative uses\n",
      "  from imp import reload\n",
      "/usr/local/lib/python3.10/dist-packages/past/builtins/misc.py:45: DeprecationWarning: the imp module is deprecated in favour of importlib and slated for removal in Python 3.12; see the module's documentation for alternative uses\n",
      "  from imp import reload\n"
     ]
    },
    {
     "data": {
      "text/html": [
       "\n",
       "<link rel=\"stylesheet\" type=\"text/css\" href=\"https://cdn.jsdelivr.net/gh/bmabey/pyLDAvis@3.3.1/pyLDAvis/js/ldavis.v1.0.0.css\">\n",
       "\n",
       "\n",
       "<div id=\"ldavis_el4493781401509061976483764975124\"></div>\n",
       "<script type=\"text/javascript\">\n",
       "\n",
       "var ldavis_el4493781401509061976483764975124_data = {\"mdsDat\": {\"x\": [0.00814609799488256, -0.00814609799488256], \"y\": [0.0, 0.0], \"topics\": [1, 2], \"cluster\": [1, 1], \"Freq\": [97.72896293373213, 2.271037066267871]}, \"tinfo\": {\"Term\": [\"\\u3059\\u308b\", \"BERT\", \"\\u81ea\\u7136\\u8a00\\u8a9e\\u51e6\\u7406\", \"\\u3044\\u308b\", \"AI\", \"\\u3067\\u304d\\u308b\", \"\\u30c7\\u30fc\\u30bf\\u30bb\\u30c3\\u30c8\", \"\\u306e\", \"\\u672c\\u66f8\", \"\\u8fd1\\u6c5f\", \"\\u6587\\u7ae0\", \"\\u3053\\u3068\", \"\\u3042\\u308b\", \"\\u65e5\\u672c\\u8a9e\", \"\\u5165\\u9580\", \"\\u4f7f\\u3046\", \"\\u77e5\\u308b\", \"Transformers\", \"\\u52d5\\u304f\", \"\\u3044\\u304f\", \"\\u7ae0\", \"\\u6c0f\", \"\\u30bf\\u30b9\\u30af\", \"\\u672c\", \"\\u307b\\u3057\\u3044\", \"\\u307f\\u308b\", \"\\u306a\\u3044\", \"\\u89e3\\u8aac\", \"\\u6280\\u8853\", \"\\u30a4\\u30f3\\u30bf\\u30d3\\u30e5\\u30fc\", \"\\u89e3\\u8aac\", \"AI\", \"\\u7ae0\", \"\\u65e5\\u672c\\u8a9e\", \"\\u3042\\u308b\", \"\\u3059\\u308b\", \"\\u306e\", \"\\u601d\\u3046\", \"BERT\", \"\\u81ea\\u7136\\u8a00\\u8a9e\\u51e6\\u7406\", \"\\u307f\\u308b\", \"\\u4f7f\\u3046\", \"\\u6c0f\", \"\\u3044\\u308b\", \"\\u57f7\\u7b46\", \"Transformers\", \"\\u6821\\u6b63\", \"\\u805e\\u304f\", \"\\u30a4\\u30e1\\u30fc\\u30b8\", \"\\u958b\\u767a\", \"2023\", \"\\u3067\\u304d\\u308b\", \"\\u30bf\\u30b9\\u30af\", \"\\u3053\\u3068\", \"\\u4e2d\", \"\\u4f7f\\u3044\\u65b9\", \"\\u6301\\u3064\", \"\\u65b9\", \"\\u52d5\\u304b\\u3059\", \"\\u5206\\u304b\\u308b\", \"\\u672c\\u66f8\", \"\\u30c7\\u30fc\\u30bf\\u30bb\\u30c3\\u30c8\", \"\\u8fd1\\u6c5f\", \"\\u5165\\u9580\", \"\\u77e5\\u308b\", \"\\u52d5\\u304f\", \"\\u307b\\u3057\\u3044\", \"\\u6587\\u7ae0\", \"\\u3044\\u304f\", \"\\u9762\\u767d\\u3044\", \"\\u3042\\u308b\\u7a0b\\u5ea6\", \"\\u6210\\u529f\", \"\\u30d5\\u30ab\\u30dc\\u30ea\", \"\\u305d\\u3093\\u306a\", \"1\", \"\\u8077\\u4f4d\", \"\\u76f4\\u8fd1\", \"\\u3056\\u3063\\u304f\\u308a\", \"06\", \"\\u30de\\u30b7\\u30f3\", \"\\u3042\\u3048\\u3066\", \"\\u540c\\u793e\", \"\\u6700\\u7d42\", \"\\u65e5\\u5e38\", \"Tag\", \"\\u6559\\u6750\", \"\\u7acb\\u3061\\u4e0a\\u304c\\u308b\", \"\\u5b66\\u4f1a\", \"\\u3068\\u308a\\u3042\\u3048\\u305a\", \"\\u4e8b\\u5b9f\", \"25\", \"\\u4ee5\\u5916\", \"Anews\", \"\\u30bf\\u30d6\\u30fc\", \"6\\u6708\", \"\\u4eba\\u540d\", \"\\u6982\\u8981\", \"\\u3046\\u307e\\u3044\", \"\\u5c02\\u9580\\u5bb6\", \"\\u30a4\\u30f3\\u30bf\\u30d3\\u30e5\\u30fc\", \"\\u5165\\u9580\\u66f8\", \"\\u6587\\u7ae0\", \"\\u3059\\u308b\", \"\\u753b\\u50cf\", \"BERT\", \"\\u30c7\\u30fc\\u30bf\\u30bb\\u30c3\\u30c8\", \"\\u3044\\u308b\", \"\\u81ea\\u7136\\u8a00\\u8a9e\\u51e6\\u7406\", \"\\u898b\\u308b\", \"\\u8fd1\\u6c5f\", \"\\u672c\\u66f8\", \"\\u3067\\u304d\\u308b\", \"\\u30c9\\u30ad\\u30e5\\u30e1\\u30f3\\u30c8\", \"\\u5165\\u9580\", \"\\u77e5\\u308b\", \"\\u3044\\u304f\", \"\\u672c\", \"\\u3053\\u3068\", \"\\u305d\\u3046\\u3060\", \"\\u306e\", \"\\u30a4\\u30d9\\u30f3\\u30c8\", \"\\u6280\\u8853\", \"AI\", \"\\u52d5\\u304f\", \"\\u6ce8\\u76ee\", \"\\u96e3\\u3057\\u3044\", \"\\u751f\\u6210\", \"\\u5f8c\\u534a\", \"\\u3042\\u308b\", \"\\u65e5\\u672c\\u8a9e\", \"\\u4f7f\\u3046\", \"Transformers\", \"\\u8a18\\u4e8b\", \"\\u307b\\u3057\\u3044\", \"\\u30bf\\u30b9\\u30af\", \"\\u306a\\u3044\", \"\\u6c0f\", \"\\u7ae0\", \"\\u82f1\\u8a9e\", \"\\u89e3\\u8aac\", \"\\u307f\\u308b\"], \"Freq\": [41.0, 31.0, 24.0, 23.0, 26.0, 15.0, 12.0, 16.0, 11.0, 11.0, 9.0, 11.0, 12.0, 12.0, 8.0, 10.0, 8.0, 9.0, 7.0, 6.0, 10.0, 8.0, 7.0, 5.0, 6.0, 7.0, 5.0, 12.0, 5.0, 4.0, 12.130642262727331, 26.404775450878827, 10.114164193826348, 12.358369330366415, 12.346773077273443, 40.89326844739103, 16.195769024744266, 6.134205741941351, 31.421629062645984, 23.704324077357064, 7.638499554289163, 10.690593401253173, 8.376644940588452, 22.829284836410235, 6.839047378645397, 9.107210333529203, 3.7824069113456398, 5.278727213629369, 6.7858976439553516, 6.770053437759454, 5.262657106399193, 15.006094533637404, 7.493156132109469, 11.231937716314484, 4.492888471467999, 4.490328259746174, 5.9776364140373826, 5.974233417687672, 5.2266762123352155, 5.967450232304211, 11.774656262667655, 12.417658215279692, 10.975085344172536, 8.774129395070185, 7.985001331118019, 7.296190703388216, 6.636434424067178, 9.196220409327433, 6.41824081449972, 0.04767533907012087, 0.04660680625302263, 0.04572338192228635, 0.04481693207619239, 0.04467796295372491, 0.04464427436174471, 0.04463216009717947, 0.044577587017849814, 0.04457481083222028, 0.044488757490388456, 0.04433607569344782, 0.0442648875637596, 0.044219210897470045, 0.04421825605786716, 0.04419406117947158, 0.04407265353428184, 0.04394947081282593, 0.04391571491937592, 0.04377809603264644, 0.043735788646189086, 0.04371503034909553, 0.0436989999802559, 0.04358070923438659, 0.04319250594385678, 0.04318551921002245, 0.04318048842515439, 0.0431011147542009, 0.04306531037226364, 0.04304220493641056, 0.04297393600797521, 0.10419794428201218, 0.07365005110449754, 0.17723264963538168, 0.4923934362540061, 0.073220196616841, 0.3953939814683843, 0.20531373362738103, 0.30021943968731085, 0.30253989341404736, 0.08429604156637782, 0.17990263354556021, 0.18728755652599932, 0.21465899699498747, 0.058046916201547324, 0.14434083975621914, 0.13622497233757497, 0.11923687834454573, 0.10963925129053094, 0.16249668996455124, 0.05800179477238367, 0.19561705563517798, 0.08025083624753296, 0.09866534282970037, 0.24278169012069492, 0.12133543071264523, 0.09745879572973754, 0.0882015963353734, 0.07888157943162827, 0.0689376736964315, 0.14857839267577205, 0.1477860356463682, 0.1375954826433548, 0.12179797688926046, 0.09296521960635552, 0.10447478887806277, 0.1079885144898427, 0.09794125472873189, 0.1097161432197853, 0.11512396774707516, 0.09631486423474628, 0.1016490609540674, 0.09817400003669152], \"Total\": [41.0, 31.0, 24.0, 23.0, 26.0, 15.0, 12.0, 16.0, 11.0, 11.0, 9.0, 11.0, 12.0, 12.0, 8.0, 10.0, 8.0, 9.0, 7.0, 6.0, 10.0, 8.0, 7.0, 5.0, 6.0, 7.0, 5.0, 12.0, 5.0, 4.0, 12.232291323681398, 26.64755714099952, 10.229288161573423, 12.506155366012782, 12.495351469949215, 41.385661883645035, 16.391386080379444, 6.211148281901005, 31.817023044114368, 24.00686397077111, 7.736673554325855, 10.828188883896528, 8.486361083808237, 23.129504276097546, 6.929795940216826, 9.229008310418463, 3.8339886758975217, 5.35206599543601, 6.880254674782681, 6.865481689256332, 5.337079239965315, 15.220753530632392, 7.6011446465993115, 11.394434406279036, 4.5578916129063405, 4.555512547296843, 6.065188239919822, 6.062014960311929, 5.303532278318852, 6.055694220152879, 11.961943819193655, 12.622971948907074, 11.154987977718095, 8.918470234826405, 8.121226303455593, 7.417526134100862, 6.740909212945241, 9.373453058962815, 6.5374776928442655, 1.161209506451427, 1.1759519644137277, 1.1881055458060439, 1.2006226494864494, 1.2025100922860568, 1.2030361784925598, 1.2031252490662652, 1.203934910352451, 1.2039535839044513, 1.2051206658673561, 1.2072004763831365, 1.208180687418198, 1.2088454767451324, 1.2088862448129025, 1.2091801757900715, 1.2108951191006168, 1.2125462007525576, 1.2130152013676885, 1.21492001382734, 1.215496219128487, 1.2157844456595295, 1.2159994751226262, 1.2176425970086204, 1.223004914517769, 1.2230468006038508, 1.223146393855692, 1.2242418684723873, 1.2247369677230937, 1.2250778742903932, 1.22600199512192, 4.017903315426136, 2.621151400552741, 9.373453058962815, 41.385661883645035, 2.627074469622839, 31.817023044114368, 12.622971948907074, 23.129504276097546, 24.00686397077111, 3.3832841520987724, 11.154987977718095, 11.961943819193655, 15.220753530632392, 1.9272429410661667, 8.918470234826405, 8.121226303455593, 6.5374776928442655, 5.760568828648614, 11.394434406279036, 1.9277527976587165, 16.391386080379444, 3.439117563720192, 5.003074180638436, 26.64755714099952, 7.417526134100862, 5.019642859152387, 4.238476033293616, 3.457772768297005, 2.6859991646998664, 12.495351469949215, 12.506155366012782, 10.828188883896528, 9.229008310418463, 5.081649624036563, 6.740909212945241, 7.6011446465993115, 5.921966413540176, 8.486361083808237, 10.229288161573423, 5.944248244528237, 12.232291323681398, 7.736673554325855], \"Category\": [\"Default\", \"Default\", \"Default\", \"Default\", \"Default\", \"Default\", \"Default\", \"Default\", \"Default\", \"Default\", \"Default\", \"Default\", \"Default\", \"Default\", \"Default\", \"Default\", \"Default\", \"Default\", \"Default\", \"Default\", \"Default\", \"Default\", \"Default\", \"Default\", \"Default\", \"Default\", \"Default\", \"Default\", \"Default\", \"Default\", \"Topic1\", \"Topic1\", \"Topic1\", \"Topic1\", \"Topic1\", \"Topic1\", \"Topic1\", \"Topic1\", \"Topic1\", \"Topic1\", \"Topic1\", \"Topic1\", \"Topic1\", \"Topic1\", \"Topic1\", \"Topic1\", \"Topic1\", \"Topic1\", \"Topic1\", \"Topic1\", \"Topic1\", \"Topic1\", \"Topic1\", \"Topic1\", \"Topic1\", \"Topic1\", \"Topic1\", \"Topic1\", \"Topic1\", \"Topic1\", \"Topic1\", \"Topic1\", \"Topic1\", \"Topic1\", \"Topic1\", \"Topic1\", \"Topic1\", \"Topic1\", \"Topic1\", \"Topic2\", \"Topic2\", \"Topic2\", \"Topic2\", \"Topic2\", \"Topic2\", \"Topic2\", \"Topic2\", \"Topic2\", \"Topic2\", \"Topic2\", \"Topic2\", \"Topic2\", \"Topic2\", \"Topic2\", \"Topic2\", \"Topic2\", \"Topic2\", \"Topic2\", \"Topic2\", \"Topic2\", \"Topic2\", \"Topic2\", \"Topic2\", \"Topic2\", \"Topic2\", \"Topic2\", \"Topic2\", \"Topic2\", \"Topic2\", \"Topic2\", \"Topic2\", \"Topic2\", \"Topic2\", \"Topic2\", \"Topic2\", \"Topic2\", \"Topic2\", \"Topic2\", \"Topic2\", \"Topic2\", \"Topic2\", \"Topic2\", \"Topic2\", \"Topic2\", \"Topic2\", \"Topic2\", \"Topic2\", \"Topic2\", \"Topic2\", \"Topic2\", \"Topic2\", \"Topic2\", \"Topic2\", \"Topic2\", \"Topic2\", \"Topic2\", \"Topic2\", \"Topic2\", \"Topic2\", \"Topic2\", \"Topic2\", \"Topic2\", \"Topic2\", \"Topic2\", \"Topic2\", \"Topic2\", \"Topic2\", \"Topic2\", \"Topic2\", \"Topic2\", \"Topic2\"], \"logprob\": [30.0, 29.0, 28.0, 27.0, 26.0, 25.0, 24.0, 23.0, 22.0, 21.0, 20.0, 19.0, 18.0, 17.0, 16.0, 15.0, 14.0, 13.0, 12.0, 11.0, 10.0, 9.0, 8.0, 7.0, 6.0, 5.0, 4.0, 3.0, 2.0, 1.0, -4.8534, -4.0756, -5.0352, -4.8348, -4.8358, -3.6382, -4.5644, -5.5353, -3.9016, -4.1835, -5.3159, -4.9798, -5.2237, -4.2211, -5.4265, -5.1401, -6.0188, -5.6855, -5.4343, -5.4366, -5.6885, -4.6407, -5.3352, -4.9304, -5.8467, -5.8472, -5.5611, -5.5617, -5.6954, -5.5628, -4.8832, -4.83, -4.9535, -5.1773, -5.2716, -5.3618, -5.4566, -5.1304, -5.49, -6.6305, -6.6532, -6.6723, -6.6924, -6.6955, -6.6962, -6.6965, -6.6977, -6.6978, -6.6997, -6.7031, -6.7047, -6.7058, -6.7058, -6.7063, -6.7091, -6.7119, -6.7127, -6.7158, -6.7168, -6.7172, -6.7176, -6.7203, -6.7293, -6.7294, -6.7296, -6.7314, -6.7322, -6.7328, -6.7343, -5.8486, -6.1956, -5.3175, -4.2957, -6.2015, -4.5151, -5.1704, -4.7904, -4.7827, -6.0606, -5.3025, -5.2623, -5.1259, -6.4337, -5.5228, -5.5806, -5.7138, -5.7977, -5.4043, -6.4345, -5.2188, -6.1098, -5.9032, -5.0028, -5.6964, -5.9155, -6.0153, -6.127, -6.2617, -5.4938, -5.4992, -5.5706, -5.6926, -5.9627, -5.846, -5.8129, -5.9106, -5.797, -5.7489, -5.9273, -5.8734, -5.9082], \"loglift\": [30.0, 29.0, 28.0, 27.0, 26.0, 25.0, 24.0, 23.0, 22.0, 21.0, 20.0, 19.0, 18.0, 17.0, 16.0, 15.0, 14.0, 13.0, 12.0, 11.0, 10.0, 9.0, 8.0, 7.0, 6.0, 5.0, 4.0, 3.0, 2.0, 1.0, 0.0146, 0.0138, 0.0117, 0.0111, 0.011, 0.011, 0.011, 0.0105, 0.0105, 0.0103, 0.0102, 0.0102, 0.01, 0.0099, 0.0098, 0.0097, 0.0094, 0.0092, 0.0092, 0.009, 0.0089, 0.0088, 0.0087, 0.0086, 0.0086, 0.0086, 0.0084, 0.0084, 0.0084, 0.0083, 0.0072, 0.0066, 0.0067, 0.0067, 0.0061, 0.0065, 0.0074, 0.0039, 0.0046, 0.5921, 0.5568, 0.5274, 0.4969, 0.4922, 0.4911, 0.4907, 0.4888, 0.4887, 0.4858, 0.4807, 0.4783, 0.4767, 0.4766, 0.4758, 0.4717, 0.4675, 0.4663, 0.4616, 0.4602, 0.4595, 0.4589, 0.4549, 0.4415, 0.4413, 0.4411, 0.4384, 0.4372, 0.4364, 0.434, 0.1327, 0.2129, -0.1832, -0.6465, 0.2048, -0.6029, -0.3338, -0.5594, -0.5889, 0.0927, -0.3423, -0.3719, -0.4764, 0.2823, -0.3388, -0.303, -0.2193, -0.1767, -0.4653, 0.2813, -0.6434, 0.0271, -0.1411, -0.9134, -0.3281, -0.1568, -0.0874, 0.0045, 0.1223, -0.6471, -0.6533, -0.5807, -0.5428, -0.2162, -0.3821, -0.4691, -0.3171, -0.5634, -0.7021, -0.3376, -1.0054, -0.5821]}, \"token.table\": {\"Topic\": [1, 1, 1, 1, 1, 1, 1, 1, 1, 1, 1, 1, 1, 1, 1, 1, 1, 1, 1, 1, 1, 1, 1, 1, 1, 1, 1, 1, 1, 1, 1, 1, 1, 1, 1, 1, 1, 1, 1, 1, 1, 1, 1, 1, 1, 1, 1, 1, 1, 1, 1, 1, 1, 1, 1, 1, 1, 1, 1, 1, 1, 1, 1, 1, 1, 1, 1, 1, 1, 1, 1, 1, 1, 1, 1, 1, 1, 1, 1, 1, 1, 1, 1, 1, 1], \"Freq\": [0.8297924252093665, 0.8312301972938418, 0.9368420019996732, 0.8223687760220094, 0.8175636252727906, 0.9756991930790084, 0.8176582024564473, 0.9743211977128858, 0.8258353545456046, 0.9751860327008331, 0.8276907671293221, 0.960357139921953, 0.8503748709655425, 0.9177851584208734, 0.9944009056765052, 0.8162746393401595, 0.9653835906008922, 0.8305968048676555, 0.990681268195509, 1.037477420564, 0.8315938522386364, 0.9854965439005292, 0.822709264136586, 1.0131769721424637, 0.976122453680233, 1.0384355847067634, 1.0340361324314775, 0.8723167918559941, 1.0174041995358407, 0.9955441149224773, 0.9209139314473829, 0.8176301998470322, 0.9506477593843491, 1.0377518876232508, 0.8329011620992965, 0.8283628275198128, 0.8775987539224083, 0.8225142241045267, 0.8168320539860339, 0.8212590479806616, 0.8780570700817247, 1.0158670224490622, 1.0091416759855545, 1.1445351838002829, 0.9908029999322732, 0.9427679021470823, 0.9437108644374903, 0.8272355890287503, 1.0101307542659008, 0.8230994539712277, 0.8156593577978271, 1.1169028045231058, 0.9660049523344529, 0.8416760644960816, 0.9993855416634971, 0.9892520664913965, 0.8247108434955778, 0.9601584329047531, 0.989769909721777, 0.8270066116049295, 0.9595275005627765, 0.8272076916176414, 1.041563807060275, 1.0031814378483606, 1.0432998994353095, 0.8165018500740597, 0.9426890891154511, 0.9960868014511088, 0.8676105114557705, 1.1419546855977405, 0.8306096877839108, 0.9850729066121441, 0.8243919770110784, 0.9775851302698901, 0.9342186744826698, 0.8311686591035232, 0.9997140829897871, 1.0093791095489801, 0.8867123969291768, 0.981009990889304, 0.9839324569623307, 0.986105948475455, 1.0195934264822486, 0.94373542956941, 0.8611710414393078], \"Term\": [\"06\", \"1\", \"2023\", \"25\", \"6\\u6708\", \"AI\", \"Anews\", \"BERT\", \"Tag\", \"Transformers\", \"\\u3042\\u3048\\u3066\", \"\\u3042\\u308b\", \"\\u3042\\u308b\\u7a0b\\u5ea6\", \"\\u3044\\u304f\", \"\\u3044\\u308b\", \"\\u3046\\u307e\\u3044\", \"\\u3053\\u3068\", \"\\u3056\\u3063\\u304f\\u308a\", \"\\u3059\\u308b\", \"\\u305d\\u3046\\u3060\", \"\\u305d\\u3093\\u306a\", \"\\u3067\\u304d\\u308b\", \"\\u3068\\u308a\\u3042\\u3048\\u305a\", \"\\u306a\\u3044\", \"\\u306e\", \"\\u307b\\u3057\\u3044\", \"\\u307f\\u308b\", \"\\u30a4\\u30d9\\u30f3\\u30c8\", \"\\u30a4\\u30e1\\u30fc\\u30b8\", \"\\u30a4\\u30f3\\u30bf\\u30d3\\u30e5\\u30fc\", \"\\u30bf\\u30b9\\u30af\", \"\\u30bf\\u30d6\\u30fc\", \"\\u30c7\\u30fc\\u30bf\\u30bb\\u30c3\\u30c8\", \"\\u30c9\\u30ad\\u30e5\\u30e1\\u30f3\\u30c8\", \"\\u30d5\\u30ab\\u30dc\\u30ea\", \"\\u30de\\u30b7\\u30f3\", \"\\u4e2d\", \"\\u4e8b\\u5b9f\", \"\\u4eba\\u540d\", \"\\u4ee5\\u5916\", \"\\u4f7f\\u3044\\u65b9\", \"\\u4f7f\\u3046\", \"\\u5165\\u9580\", \"\\u5165\\u9580\\u66f8\", \"\\u5206\\u304b\\u308b\", \"\\u52d5\\u304b\\u3059\", \"\\u52d5\\u304f\", \"\\u540c\\u793e\", \"\\u57f7\\u7b46\", \"\\u5b66\\u4f1a\", \"\\u5c02\\u9580\\u5bb6\", \"\\u5f8c\\u534a\", \"\\u601d\\u3046\", \"\\u6210\\u529f\", \"\\u6280\\u8853\", \"\\u6301\\u3064\", \"\\u6559\\u6750\", \"\\u6587\\u7ae0\", \"\\u65b9\", \"\\u65e5\\u5e38\", \"\\u65e5\\u672c\\u8a9e\", \"\\u6700\\u7d42\", \"\\u672c\", \"\\u672c\\u66f8\", \"\\u6821\\u6b63\", \"\\u6982\\u8981\", \"\\u6c0f\", \"\\u6ce8\\u76ee\", \"\\u751f\\u6210\", \"\\u753b\\u50cf\", \"\\u76f4\\u8fd1\", \"\\u77e5\\u308b\", \"\\u7acb\\u3061\\u4e0a\\u304c\\u308b\", \"\\u7ae0\", \"\\u805e\\u304f\", \"\\u8077\\u4f4d\", \"\\u81ea\\u7136\\u8a00\\u8a9e\\u51e6\\u7406\", \"\\u82f1\\u8a9e\", \"\\u898b\\u308b\", \"\\u89e3\\u8aac\", \"\\u8a18\\u4e8b\", \"\\u8fd1\\u6c5f\", \"\\u958b\\u767a\", \"\\u96e3\\u3057\\u3044\", \"\\u9762\\u767d\\u3044\"]}, \"R\": 30, \"lambda.step\": 0.01, \"plot.opts\": {\"xlab\": \"PC1\", \"ylab\": \"PC2\"}, \"topic.order\": [1, 2]};\n",
       "\n",
       "function LDAvis_load_lib(url, callback){\n",
       "  var s = document.createElement('script');\n",
       "  s.src = url;\n",
       "  s.async = true;\n",
       "  s.onreadystatechange = s.onload = callback;\n",
       "  s.onerror = function(){console.warn(\"failed to load library \" + url);};\n",
       "  document.getElementsByTagName(\"head\")[0].appendChild(s);\n",
       "}\n",
       "\n",
       "if(typeof(LDAvis) !== \"undefined\"){\n",
       "   // already loaded: just create the visualization\n",
       "   !function(LDAvis){\n",
       "       new LDAvis(\"#\" + \"ldavis_el4493781401509061976483764975124\", ldavis_el4493781401509061976483764975124_data);\n",
       "   }(LDAvis);\n",
       "}else if(typeof define === \"function\" && define.amd){\n",
       "   // require.js is available: use it to load d3/LDAvis\n",
       "   require.config({paths: {d3: \"https://d3js.org/d3.v5\"}});\n",
       "   require([\"d3\"], function(d3){\n",
       "      window.d3 = d3;\n",
       "      LDAvis_load_lib(\"https://cdn.jsdelivr.net/gh/bmabey/pyLDAvis@3.3.1/pyLDAvis/js/ldavis.v3.0.0.js\", function(){\n",
       "        new LDAvis(\"#\" + \"ldavis_el4493781401509061976483764975124\", ldavis_el4493781401509061976483764975124_data);\n",
       "      });\n",
       "    });\n",
       "}else{\n",
       "    // require.js not available: dynamically load d3 & LDAvis\n",
       "    LDAvis_load_lib(\"https://d3js.org/d3.v5.js\", function(){\n",
       "         LDAvis_load_lib(\"https://cdn.jsdelivr.net/gh/bmabey/pyLDAvis@3.3.1/pyLDAvis/js/ldavis.v3.0.0.js\", function(){\n",
       "                 new LDAvis(\"#\" + \"ldavis_el4493781401509061976483764975124\", ldavis_el4493781401509061976483764975124_data);\n",
       "            })\n",
       "         });\n",
       "}\n",
       "</script>"
      ],
      "text/plain": [
       "<IPython.core.display.HTML object>"
      ]
     },
     "execution_count": 22,
     "metadata": {},
     "output_type": "execute_result"
    }
   ],
   "source": [
    "model_bow: VectorizerBoW = pipe_topic.get_model(1)\n",
    "model_topic: TopicModel = pipe_topic.get_model(-1)\n",
    "\n",
    "lda = model_topic.model\n",
    "bow = pipe_topic[:-1](X)\n",
    "\n",
    "vis = pyLDAvis.gensim_models.prepare(lda, corpus=bow, dictionary=model_bow.vocab)\n",
    "pyLDAvis.display(vis)\n"
   ]
  },
  {
   "cell_type": "code",
   "execution_count": 23,
   "metadata": {},
   "outputs": [
    {
     "data": {
      "text/plain": [
       "707"
      ]
     },
     "execution_count": 23,
     "metadata": {},
     "output_type": "execute_result"
    }
   ],
   "source": [
    "len(model_bow.vocab)"
   ]
  },
  {
   "cell_type": "code",
   "execution_count": 24,
   "metadata": {},
   "outputs": [
    {
     "data": {
      "text/plain": [
       "(1, 707, 2)"
      ]
     },
     "execution_count": 24,
     "metadata": {},
     "output_type": "execute_result"
    }
   ],
   "source": [
    "numpy.array(bow).shape"
   ]
  },
  {
   "cell_type": "code",
   "execution_count": null,
   "metadata": {},
   "outputs": [],
   "source": []
  }
 ],
 "metadata": {
  "kernelspec": {
   "display_name": "Python 3",
   "language": "python",
   "name": "python3"
  },
  "language_info": {
   "codemirror_mode": {
    "name": "ipython",
    "version": 3
   },
   "file_extension": ".py",
   "mimetype": "text/x-python",
   "name": "python",
   "nbconvert_exporter": "python",
   "pygments_lexer": "ipython3",
   "version": "3.10.6"
  },
  "orig_nbformat": 4,
  "vscode": {
   "interpreter": {
    "hash": "767d51c1340bd893661ea55ea3124f6de3c7a262a8b4abca0554b478b1e2ff90"
   }
  }
 },
 "nbformat": 4,
 "nbformat_minor": 2
}
