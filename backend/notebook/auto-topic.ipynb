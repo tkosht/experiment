{
 "cells": [
  {
   "attachments": {},
   "cell_type": "markdown",
   "metadata": {},
   "source": [
    "# トピックへの自動ラベリング\n"
   ]
  },
  {
   "attachments": {},
   "cell_type": "markdown",
   "metadata": {},
   "source": [
    "## コンテンツを取得"
   ]
  },
  {
   "cell_type": "code",
   "execution_count": 1,
   "metadata": {},
   "outputs": [
    {
     "data": {
      "text/plain": [
       "'\\n\\n \\n\\n\\n \\n\\n砲撃受けたウクライナ東部の露軍臨時兵舎、死者８９人に…露側「原因」は兵士が携帯使用と主張 : 読売新聞オンライン\\n\\n\\n\\n\\n\\n\\n\\n\\n\\n\\n\\n\\n\\n\\n\\n\\n\\n\\n\\n\\n\\n\\n\\n\\n\\n\\n\\n\\n\\n\\n\\n\\n\\n\\n\\n\\n\\n\\n\\n\\n\\n\\n\\n\\n\\n\\n\\n\\n\\n\\n\\n\\n\\n\\n\\n\\n\\n\\n\\n\\n\\n\\n\\n\\n\\n\\n\\n\\n\\n\\n\\n\\n\\n\\n\\n\\n\\n\\n\\n\\n\\n\\n\\n\\n\\n\\n\\n\\n\\n\\n\\n\\n\\n\\n\\n\\n\\n\\n\\n\\n\\n\\n\\n\\n\\n\\n\\n\\n\\n\\n\\n\\n\\n\\n\\n\\n \\n\\n\\n\\n\\n\\n\\n\\n\\n\\n\\n\\n\\n\\n\\n\\n\\n'"
      ]
     },
     "execution_count": 1,
     "metadata": {},
     "output_type": "execute_result"
    }
   ],
   "source": [
    "import requests\n",
    "from bs4 import BeautifulSoup\n",
    "\n",
    "url = \"https://ledge.ai/authorinterview-book-bert-int/\"\n",
    "# url = \"https://ainow.ai/2023/01/10/271486/\"\n",
    "# url = \"https://ja.stateofaiguides.com/20230105-cramming-bert/\"\n",
    "# url = \"https://www.nowhere.co.jp/blog/archives/20160524-14722.html\"\n",
    "# url = \"https://www.yomiuri.co.jp/world/20230104-OYT1T50056/\"\n",
    "# url = \"https://www3.nhk.or.jp/kansai-news/20230104/2000069636.html\"\n",
    "# url = \"https://news.yahoo.co.jp/articles/fad0c4f41d46b686e0566bf10e4c016a641a9dab\"\n",
    "# url = \"https://news.yahoo.co.jp/articles/4d2d14fd1ca1dc9b134c5f493896a7e30fc1e781\"\n",
    "res = requests.get(url)\n",
    "\n",
    "soup = BeautifulSoup(res.content, \"lxml\")\n",
    "for tg in [\"script\", \"noscript\", \"meta\"]:\n",
    "    try:\n",
    "        soup.find(tg).replace_with(\" \")\n",
    "    except:\n",
    "        pass\n",
    "soup.get_text()[:200]"
   ]
  },
  {
   "attachments": {},
   "cell_type": "markdown",
   "metadata": {},
   "source": [
    "### 簡易クレンジング"
   ]
  },
  {
   "cell_type": "code",
   "execution_count": 2,
   "metadata": {},
   "outputs": [
    {
     "data": {
      "text/plain": [
       "['砲撃受けたウクライナ東部の露軍臨時兵舎、死者８９人に…露側「原因」は兵士が携帯使用と主張 : 読売新聞オンライン',\n",
       " 'すべて',\n",
       " 'ログイン・登録',\n",
       " 'ログイン',\n",
       " '新規登録']"
      ]
     },
     "execution_count": 2,
     "metadata": {},
     "output_type": "execute_result"
    }
   ],
   "source": [
    "import re\n",
    "\n",
    "def clean_text(text: str):\n",
    "    contents = []\n",
    "    for txt in re.split(r\"(。|\\n)\", text):\n",
    "        txt = txt.strip().replace(\"\\u200b\", \"\").replace(\"\\u3000\", \" \")\n",
    "        txt = re.sub(r\"\\n+\", \"\\n\", txt)\n",
    "        txt = re.sub(r\"([\\W])\\1+\", \" \", txt)\n",
    "        if not txt:\n",
    "            continue\n",
    "        if txt == \"。\":\n",
    "            continue\n",
    "        # contents.append(txt)\n",
    "        # contents.append(txt.split(\"\\n\")[-1])\n",
    "        contents.extend(txt.split(\"\\n\"))\n",
    "    return contents\n",
    "\n",
    "text = soup.get_text()\n",
    "contents = clean_text(text)\n",
    "contents[:5]"
   ]
  },
  {
   "cell_type": "code",
   "execution_count": 3,
   "metadata": {},
   "outputs": [],
   "source": [
    "# # pickup wiki data to analyze topic\n",
    "# wdb = WikiDb(mode=\"train\")\n",
    "# records = wdb.select_by_document_id(document_ids=[\n",
    "#     \"Doc01GN7P2K02Y2FC8BXHMZ5V1A34\",    # 南部煎餅\n",
    "#     \"Doc01GN7P3C1ZPVGB8AXJC75M9ZQ9\",    # 龍が如く OF THE END\n",
    "#     \"Doc01GN7P3C0YPAWH4KT16P7NNQBK\",    # 自動運転車\n",
    "#     \"Doc01GN7P3BS2JNYS3HYV0RM1TT7T\",    # デュケイン大学\n",
    "#     \"Doc01GN7P3BK88YCXKS64H6G2HK0Y\",    # 深蒸し茶\n",
    "#     ])\n",
    "# X: TextSequences = [WikiRecord(*rec).paragraph.splitlines() for rec in records]\n",
    "# pipe_topic.fit(X)"
   ]
  },
  {
   "attachments": {},
   "cell_type": "markdown",
   "metadata": {},
   "source": [
    "## トピックモデルのパイプラインを構築"
   ]
  },
  {
   "cell_type": "code",
   "execution_count": 4,
   "metadata": {},
   "outputs": [],
   "source": [
    "import joblib\n",
    "\n",
    "from app.component.models.model import TextSequences\n",
    "from app.component.models.pipeline import Pipeline\n",
    "from app.component.models.vectorizer import VectorizerBoW, VectorizerWord2vec\n",
    "from app.domain.models.tokenizer import TokenizerWord\n",
    "from app.domain.models.topic_model import TopicModel\n",
    "from app.infra.wikidb import WikiDb, WikiRecord"
   ]
  },
  {
   "cell_type": "code",
   "execution_count": 5,
   "metadata": {},
   "outputs": [],
   "source": [
    "pipe_topic = Pipeline(\n",
    "    steps=[\n",
    "        (TokenizerWord(use_stoppoes=True), None),\n",
    "        (VectorizerBoW(), None),\n",
    "        (TopicModel(n_topics=10, n_epoch=2000), None),\n",
    "    ],\n",
    "    name=\"pipe_topic_sample\",\n",
    "    do_print=True,\n",
    ")\n"
   ]
  },
  {
   "cell_type": "code",
   "execution_count": 6,
   "metadata": {},
   "outputs": [
    {
     "name": "stdout",
     "output_type": "stream",
     "text": [
      "2023/02/13 23:38:59 INFO Start to fit n_step=0 model=JpTokenizerMeCab(use_stoppoes=True, filterpos=[], use_orgform=False)\n",
      "2023/02/13 23:38:59 INFO End to fit n_step=0 model=JpTokenizerMeCab(use_stoppoes=True, filterpos=[], use_orgform=False)\n",
      "2023/02/13 23:38:59 INFO Start to transform n_step=0 model=JpTokenizerMeCab(use_stoppoes=True, filterpos=[], use_orgform=False)\n",
      "2023/02/13 23:38:59 INFO End to transform n_step=0 model=JpTokenizerMeCab(use_stoppoes=True, filterpos=[], use_orgform=False)\n",
      "2023/02/13 23:38:59 INFO Start to fit n_step=1 model=VectorizerBoW()\n",
      "2023/02/13 23:38:59 INFO End to fit n_step=1 model=VectorizerBoW()\n",
      "2023/02/13 23:38:59 INFO Start to transform n_step=1 model=VectorizerBoW()\n",
      "2023/02/13 23:38:59 INFO End to transform n_step=1 model=VectorizerBoW()\n",
      "2023/02/13 23:38:59 INFO Start to fit n_step=2 model=TopicModel(n_topics=10, n_epoch=2000, random_state=RandomState(MT19937))\n",
      "2023/02/13 23:39:00 INFO End to fit n_step=2 model=TopicModel(n_topics=10, n_epoch=2000, random_state=RandomState(MT19937))\n",
      "2023/02/13 23:39:00 INFO Start to transform n_step=2 model=TopicModel(n_topics=10, n_epoch=2000, random_state=RandomState(MT19937))\n",
      "2023/02/13 23:39:00 INFO End to transform n_step=2 model=TopicModel(n_topics=10, n_epoch=2000, random_state=RandomState(MT19937))\n"
     ]
    },
    {
     "data": {
      "text/plain": [
       "Pipeline(steps=[(JpTokenizerMeCab(use_stoppoes=True, filterpos=[], use_orgform=False), None), (VectorizerBoW(), None), (TopicModel(n_topics=10, n_epoch=2000, random_state=RandomState(MT19937)), None)], name=pipe_topic_sample, do_print=True, args=(), kwargs={})"
      ]
     },
     "execution_count": 6,
     "metadata": {},
     "output_type": "execute_result"
    }
   ],
   "source": [
    "# X: TextSequences = [[snt] for snt in contents]\n",
    "X: TextSequences = [contents]\n",
    "# pipe_topic[:1].fit(X).transform(X)        # for debugging\n",
    "pipe_topic.fit(X)"
   ]
  },
  {
   "cell_type": "code",
   "execution_count": 7,
   "metadata": {},
   "outputs": [
    {
     "data": {
      "text/plain": [
       "(VectorizerBoW(),\n",
       " TopicModel(n_topics=10, n_epoch=2000, random_state=RandomState(MT19937)))"
      ]
     },
     "execution_count": 7,
     "metadata": {},
     "output_type": "execute_result"
    }
   ],
   "source": [
    "model_bow: VectorizerBoW = pipe_topic.get_model(1)\n",
    "model_topic: TopicModel = pipe_topic.get_model(-1)\n",
    "model_bow, model_topic\n"
   ]
  },
  {
   "attachments": {},
   "cell_type": "markdown",
   "metadata": {},
   "source": [
    "## Word2Vec モデルをロード"
   ]
  },
  {
   "cell_type": "code",
   "execution_count": 8,
   "metadata": {},
   "outputs": [],
   "source": [
    "# use original pretrained wikivec model (with only noun and verb tokens)\n",
    "# pipe_wikivec = joblib.load(\"data/pipe_wikivec.gz\")        # Wikipedia trainset\n",
    "pipe_wikivec = joblib.load(\"data/pipe_wikivec.retrained.gz\")    # Wikipedia trainset + recent news\n",
    "pipe_wikivec\n",
    "model_vectorizer: VectorizerWord2vec = pipe_wikivec.get_model(-1)\n",
    "model_vectorizer\n",
    "w2v = model_vectorizer.model"
   ]
  },
  {
   "cell_type": "code",
   "execution_count": 9,
   "metadata": {},
   "outputs": [],
   "source": [
    "# # use shiroyagi's word2vec pretrained model\n",
    "# from gensim.models.word2vec import Word2Vec\n",
    "# w2v = Word2Vec.load(\"data/word2vec.gensim.model\")\n",
    "# w2v"
   ]
  },
  {
   "cell_type": "code",
   "execution_count": 10,
   "metadata": {},
   "outputs": [
    {
     "data": {
      "text/plain": [
       "2455730"
      ]
     },
     "execution_count": 10,
     "metadata": {},
     "output_type": "execute_result"
    }
   ],
   "source": [
    "len(w2v.wv.key_to_index)"
   ]
  },
  {
   "cell_type": "code",
   "execution_count": 11,
   "metadata": {},
   "outputs": [
    {
     "data": {
      "text/plain": [
       "array([1.        , 1.0000001 , 1.0000001 , 1.0000002 , 1.0000001 ,\n",
       "       1.0000002 , 1.0000001 , 0.99999994, 1.        , 1.        ],\n",
       "      dtype=float32)"
      ]
     },
     "execution_count": 11,
     "metadata": {},
     "output_type": "execute_result"
    }
   ],
   "source": [
    "# 各トピックの確率の合計が 1 になることを確認しておく\n",
    "model_topic.get_topic_probabilities().sum(-1)"
   ]
  },
  {
   "cell_type": "code",
   "execution_count": 12,
   "metadata": {},
   "outputs": [],
   "source": [
    "def pickup_topic_words(model_topic: TopicModel, model_bow: VectorizerBoW, topn: int = -1):\n",
    "    # topn: 各トピックの上位の単語の数\n",
    "    topics = []\n",
    "    for topic_probs in model_topic.get_topic_probabilities():\n",
    "        indices = topic_probs.argsort()[::-1][:topn]\n",
    "        topic = [(model_bow.vocab[idx], topic_probs[idx]) for idx in indices]\n",
    "        topics.append(topic)\n",
    "    return topics\n"
   ]
  },
  {
   "cell_type": "code",
   "execution_count": 13,
   "metadata": {},
   "outputs": [
    {
     "data": {
      "text/plain": [
       "[('し', 0.029561989),\n",
       " ('見る', 0.021110376),\n",
       " ('する', 0.017643971),\n",
       " ('読売新聞', 0.017184475),\n",
       " ('会員限定', 0.014796776)]"
      ]
     },
     "execution_count": 13,
     "metadata": {},
     "output_type": "execute_result"
    }
   ],
   "source": [
    "pickup_topic_words(model_topic, model_bow, topn=30)[0][:5]\n"
   ]
  },
  {
   "cell_type": "code",
   "execution_count": 14,
   "metadata": {},
   "outputs": [],
   "source": [
    "def parse_topic(topics: list):\n",
    "    words = []\n",
    "    numbs = []\n",
    "    for w, p in topics:\n",
    "        do_skip: bool = False\n",
    "        do_skip |= bool(re.search(r\"^[あ-ん]\", w))    # です、ます などは、スキップ\n",
    "        do_skip |= bool(re.search(r\"[あ-ん]$\", w))    # 動名詞 などは、スキップ\n",
    "        do_skip |= w[0].isnumeric()                  # 数字から始まるラベルはスキップ\n",
    "        if do_skip:\n",
    "            continue\n",
    "        words.append(w)\n",
    "        numbs.append(p)\n",
    "    return words, numbs\n"
   ]
  },
  {
   "cell_type": "code",
   "execution_count": 15,
   "metadata": {},
   "outputs": [],
   "source": [
    "import numpy\n",
    "import re\n",
    "\n",
    "\n",
    "def estimate_topic_label(w2v, topics: list):\n",
    "    proper_topics = {}\n",
    "    topic_labels = []\n",
    "\n",
    "    for idx_tpc, tpc in enumerate(topics):\n",
    "        # トピック情報を、単語リストとその確率リストに分解する\n",
    "        _words, _probs = parse_topic(tpc)\n",
    "\n",
    "        # word2vec モデルに含まれる単語のみに絞る\n",
    "        words = [w for w in _words if w in w2v.wv]\n",
    "        probs = [p for w, p in zip(_words, _probs) if w in w2v.wv]\n",
    "\n",
    "        # 単語リストからベクトルに変換し、期待値ベクトルを算出\n",
    "        vectors = w2v.wv[words]\n",
    "        probs = numpy.array(probs).reshape(-1, 1)\n",
    "        topic_vector = (vectors * probs).sum(axis=0)    # 期待値ベクトル\n",
    "\n",
    "        # トピックに対する期待値ベクトルに類似するベクトルを十分な数(topn=100) を取得しておく\n",
    "        estimated_topic_labels = w2v.wv.similar_by_vector(topic_vector, topn=100)\n",
    "\n",
    "        # ラベルと類似度を取得し、最も類似度が高い最初のインデックスの要素を保持\n",
    "        labels, similarities = parse_topic(estimated_topic_labels)\n",
    "        topic_label = labels[0]\n",
    "        similarity = similarities[0]\n",
    "\n",
    "        # 重複しないトピックラベル集合(proper_topics)として記録しておく\n",
    "        if topic_label not in proper_topics:\n",
    "            proper_topics[topic_label] = (idx_tpc, similarity, words, probs)\n",
    "\n",
    "        # 重複を許すトピックラベル(topic_labels)として記録しておく\n",
    "        topic_labels.append((topic_label, similarity))\n",
    "\n",
    "    return topic_labels, proper_topics\n"
   ]
  },
  {
   "cell_type": "code",
   "execution_count": 16,
   "metadata": {},
   "outputs": [],
   "source": [
    "# トピック数を自動で特定するサンプル\n",
    "# # トピック数が proper_topics と一致するまで、減らしていくことで、トピック数を特定する\n",
    "\n",
    "# w2v : is already loaded\n",
    "topic_label_counter = {}\n",
    "\n",
    "n_topic_words = 7       # to calculate the average over\n",
    "n_topics = 15           # default topic numbers\n",
    "\n",
    "\n",
    "rs = numpy.random.RandomState(12345)\n",
    "\n",
    "while True:\n",
    "    # トピックモデルのパイプラインを構築\n",
    "    pipe_topic = Pipeline(\n",
    "        steps=[\n",
    "            (TokenizerWord(use_stoppoes=True, use_orgform=True), None),\n",
    "            (VectorizerBoW(), None),\n",
    "            (TopicModel(n_topics=n_topics, n_epoch=2000, random_state=rs), None),\n",
    "        ],\n",
    "        name=\"pipe_topic\",\n",
    "        do_print=False,\n",
    "    )\n",
    "\n",
    "    # トピックモデルを学習\n",
    "    X: TextSequences = [contents]\n",
    "    pipe_topic.fit(X)\n",
    "\n",
    "    model_bow: VectorizerBoW = pipe_topic.get_model(1)\n",
    "    model_topic: TopicModel = pipe_topic.get_model(-1)\n",
    "    topics = pickup_topic_words(model_topic, model_bow, topn=n_topic_words)\n",
    "    try:\n",
    "        topic_labels, proper_topics = estimate_topic_label(w2v, topics)\n",
    "    except:\n",
    "        print(\"Failed to estimate topic label, possibly needs to train the word2vec model additionally.\")\n",
    "        break\n",
    "\n",
    "    # トピックラベルをカウント\n",
    "    for tpc in proper_topics:\n",
    "        cnt = topic_label_counter.get(tpc, 0) + 1\n",
    "        topic_label_counter[tpc] = cnt\n",
    "    \n",
    "    # ループの終了条件\n",
    "    if len(proper_topics) >= n_topics:\n",
    "        break\n",
    "\n",
    "    # 状態/処理文脈としてトピック数を更新・保持\n",
    "    n_topics = len(proper_topics)"
   ]
  },
  {
   "cell_type": "code",
   "execution_count": 17,
   "metadata": {},
   "outputs": [
    {
     "name": "stdout",
     "output_type": "stream",
     "text": [
      "----------------------------------------------------------------------------------------------------\n",
      "topic[0]: 読売新聞 : 4 (0.840)\n",
      "     ... ['する', '読売新聞', '見る', '会員限定', '読売', 'いる', 'もっと']\n",
      "----------------------------------------------------------------------------------------------------\n",
      "topic[1]: 高田元三郎 : 3 (0.819)\n",
      "     ... ['する', '会員限定', '読売新聞', 'もっと', '読売', '露', '見る']\n"
     ]
    }
   ],
   "source": [
    "# トピックの出力\n",
    "# # 自動付与したラベルと、各トピックの上位単語の表示\n",
    "# # 理想的には、この出力結果に違和感がないこと\n",
    "\n",
    "for idx_tpc, (lbl, sim) in enumerate(topic_labels):\n",
    "    print(\"-\" * 100)\n",
    "    print(f\"topic[{idx_tpc}]: {lbl} : {topic_label_counter[lbl]} ({sim:0.3f})\")\n",
    "    print(\" \" * 4 + f\" ... {[_t for _t, _s in topics[idx_tpc][:20]]}\")\n"
   ]
  },
  {
   "cell_type": "code",
   "execution_count": 18,
   "metadata": {},
   "outputs": [
    {
     "name": "stdout",
     "output_type": "stream",
     "text": [
      "estimated n_topic: 2\n",
      "[00]: 読売新聞: ['読売新聞', '会員限定', '読売']\n",
      "[01]: 高田元三郎: ['会員限定', '読売新聞', '読売', '露']\n"
     ]
    }
   ],
   "source": [
    "# 実際に期待値ベクトルを算出するときに使った単語を表示\n",
    "# # 上記の自動付与ラベルと上位単語の関係性に違和感があるときに確認すると良いだろう\n",
    "print(\"estimated n_topic:\", len(proper_topics))\n",
    "\n",
    "for lbl, v in proper_topics.items():\n",
    "    tpc_idx, sim, words, probs = v\n",
    "    print(f\"[{tpc_idx:02d}]: {lbl}: {words}\")\n"
   ]
  },
  {
   "cell_type": "code",
   "execution_count": 19,
   "metadata": {},
   "outputs": [
    {
     "name": "stdout",
     "output_type": "stream",
     "text": [
      "庶民の味 : 1\n",
      "会員限定 : 2\n",
      "読売 : 1\n",
      "読売新聞 : 4\n",
      "ホイトート : 1\n",
      "情報 : 1\n",
      "高田元三郎 : 3\n"
     ]
    }
   ],
   "source": [
    "for lbl, cnt in topic_label_counter.items():\n",
    "    print(f\"{lbl} : {cnt}\")"
   ]
  },
  {
   "cell_type": "code",
   "execution_count": 20,
   "metadata": {},
   "outputs": [
    {
     "name": "stdout",
     "output_type": "stream",
     "text": [
      "砲撃受けたウクライナ東部の露軍臨時兵舎、死者８９人に…露側「原因」は兵士が携帯使用と主張 : 読売新聞オンライン すべて ログイン・登録 ログイン 新規登録 さがす ヘルプ お知らせ アプリ 購読お申し込み トップ 新型コロナ ウクライナ 紙面ビューアー 朝刊紙面 地域版 おくやみ オピニオン 社説 解説 調査研究 連載 時代の証言者 世界秩序の行方 医療ルネサンス あれから New門 Web気流\n"
     ]
    }
   ],
   "source": [
    "print(\" \".join(contents)[:200])"
   ]
  },
  {
   "attachments": {},
   "cell_type": "markdown",
   "metadata": {},
   "source": [
    "## LDA の可視化"
   ]
  },
  {
   "cell_type": "code",
   "execution_count": null,
   "metadata": {},
   "outputs": [],
   "source": []
  },
  {
   "cell_type": "code",
   "execution_count": 21,
   "metadata": {},
   "outputs": [
    {
     "name": "stderr",
     "output_type": "stream",
     "text": [
      "/usr/local/lib/python3.10/dist-packages/past/builtins/misc.py:45: DeprecationWarning: the imp module is deprecated in favour of importlib and slated for removal in Python 3.12; see the module's documentation for alternative uses\n",
      "  from imp import reload\n"
     ]
    }
   ],
   "source": [
    "import pyLDAvis\n",
    "import pyLDAvis.gensim_models\n",
    "\n",
    "pyLDAvis.enable_notebook()\n"
   ]
  },
  {
   "cell_type": "code",
   "execution_count": 22,
   "metadata": {},
   "outputs": [
    {
     "name": "stderr",
     "output_type": "stream",
     "text": [
      "/usr/local/lib/python3.10/dist-packages/pyLDAvis/_prepare.py:247: FutureWarning: In a future version of pandas all arguments of DataFrame.drop except for the argument 'labels' will be keyword-only\n",
      "  by='saliency', ascending=False).head(R).drop('saliency', 1)\n",
      "/usr/local/lib/python3.10/dist-packages/past/builtins/misc.py:45: DeprecationWarning: the imp module is deprecated in favour of importlib and slated for removal in Python 3.12; see the module's documentation for alternative uses\n",
      "  from imp import reload\n",
      "/usr/local/lib/python3.10/dist-packages/past/builtins/misc.py:45: DeprecationWarning: the imp module is deprecated in favour of importlib and slated for removal in Python 3.12; see the module's documentation for alternative uses\n",
      "  from imp import reload\n",
      "/usr/local/lib/python3.10/dist-packages/past/builtins/misc.py:45: DeprecationWarning: the imp module is deprecated in favour of importlib and slated for removal in Python 3.12; see the module's documentation for alternative uses\n",
      "  from imp import reload\n",
      "/usr/local/lib/python3.10/dist-packages/past/builtins/misc.py:45: DeprecationWarning: the imp module is deprecated in favour of importlib and slated for removal in Python 3.12; see the module's documentation for alternative uses\n",
      "  from imp import reload\n",
      "/usr/local/lib/python3.10/dist-packages/past/builtins/misc.py:45: DeprecationWarning: the imp module is deprecated in favour of importlib and slated for removal in Python 3.12; see the module's documentation for alternative uses\n",
      "  from imp import reload\n",
      "/usr/local/lib/python3.10/dist-packages/past/builtins/misc.py:45: DeprecationWarning: the imp module is deprecated in favour of importlib and slated for removal in Python 3.12; see the module's documentation for alternative uses\n",
      "  from imp import reload\n",
      "/usr/local/lib/python3.10/dist-packages/past/builtins/misc.py:45: DeprecationWarning: the imp module is deprecated in favour of importlib and slated for removal in Python 3.12; see the module's documentation for alternative uses\n",
      "  from imp import reload\n",
      "/usr/local/lib/python3.10/dist-packages/past/builtins/misc.py:45: DeprecationWarning: the imp module is deprecated in favour of importlib and slated for removal in Python 3.12; see the module's documentation for alternative uses\n",
      "  from imp import reload\n"
     ]
    },
    {
     "data": {
      "text/html": [
       "\n",
       "<link rel=\"stylesheet\" type=\"text/css\" href=\"https://cdn.jsdelivr.net/gh/bmabey/pyLDAvis@3.3.1/pyLDAvis/js/ldavis.v1.0.0.css\">\n",
       "\n",
       "\n",
       "<div id=\"ldavis_el797375140333630562240690425277\"></div>\n",
       "<script type=\"text/javascript\">\n",
       "\n",
       "var ldavis_el797375140333630562240690425277_data = {\"mdsDat\": {\"x\": [0.0017956148860855553, -0.0017956148860855553], \"y\": [0.0, 0.0], \"topics\": [1, 2], \"cluster\": [1, 1], \"Freq\": [65.3162956237793, 34.6837043762207]}, \"tinfo\": {\"Term\": [\"\\u4f1a\\u54e1\\u9650\\u5b9a\", \"\\u3082\\u3063\\u3068\", \"\\u6295\\u7a3f\", \"\\u4f7f\\u7528\", \"\\u3059\\u308b\", \"\\u6559\\u80b2\", \"\\u9732\", \"\\u7f8e\\u8853\", \"\\u8aad\\u58f2\\u65b0\\u805e\", \"\\u30a6\\u30af\\u30e9\\u30a4\\u30ca\", \"\\u30e9\\u30fc\\u30e1\\u30f3\", \"\\u65b0\\u7740\", \"\\u9023\\u8f09\\u5c0f\\u8aac\", \"\\u9589\\u3058\\u308b\", \"\\u8aad\\u58f2\", \"\\u6570\\u72ec\", \"\\u767a\\u8868\", \"\\u5175\\u820e\", \"\\u52d5\\u753b\", \"\\u8a18\\u4e8b\", \"\\u5199\\u771f\", \"01\", \"\\u8ecd\", \"\\u8aad\\u58f2\\u65b0\\u805e\\u793e\", \"\\u7279\\u96c6\", \"\\u56fd\\u969b\", \"\\u7dcf\\u5408\", \"\\u304a\\u77e5\\u3089\\u305b\", \"\\u767a\\u8a00\\u5c0f\\u753a\", \"\\u3088\\u3080\", \"\\u904b\\u55b6\", \"\\u30e8\\u30df\", \"\\u4eba\\u751f\\u6848\\u5185\", \"\\u5e83\\u544a\", \"\\u4eba\", \"\\u30a8\\u30f3\\u30bf\\u30e1!\", \"\\u30e1\\u30c7\\u30a3\\u30a2\", \"\\u30b3\\u30e9\\u30e0\", \"\\u767a\", \"\\u30b0\\u30eb\\u30e1\", \"\\u5e83\\u89d2\", \"\\u30b9\\u30dd\\u30fc\\u30c4\", \"\\u898b\\u308b\", \"\\u90e8\", \"\\u5c71\\u5f62\\u5e02\", \"\\u5c71\\u5f62\", \"\\u7832\\u6483\", \"\\u7533\\u3057\\u8fbc\\u307f\", \"\\uff12\", \"\\u9023\\u8f09\", \"\\u3053\\u3068\", \"\\u60c5\\u5831\\u63d0\\u4f9b\", \"\\u3059\\u308b\", \"\\u4e07\", \"\\u65b9\", \"\\u30f6\", \"Marie Claire\", \"\\u4e3b\\u5f35\", \"\\u5e97\", \"\\u30b5\\u30a4\\u30c8\", \"\\u304a\", \"\\u30b9\\u30af\\u30e9\\u30c3\\u30d7\", \"\\u3044\\u308b\", \"\\uff11\", \"\\u8aad\\u58f2\\u65b0\\u805e\\u30aa\\u30f3\\u30e9\\u30a4\\u30f3\", \"\\u8aad\\u58f2\", \"\\u8aad\\u58f2\\u65b0\\u805e\", \"\\u60c5\\u5831\", \"\\u30d7\\u30ed\\u30b8\\u30a7\\u30af\\u30c8\", \"\\u308c\\u308b\", \"\\u4f1a\\u54e1\\u9650\\u5b9a\", \"\\u52d5\\u753b\", \"\\u3082\\u3063\\u3068\", \"\\u533b\\u7642\", \"\\u8ecd\", \"\\u9732\", \"\\u5199\\u771f\", \"\\u8a18\\u4e8b\", \"\\uff10\", \"\\u7d39\\u4ecb\", \"\\u56fd\\u969b\", \"\\u8aad\\u58f2\\u65b0\\u805e\\u793e\", \"\\u6295\\u7a3f\", \"\\u4f7f\\u7528\", \"\\u9589\\u3058\\u308b\", \"\\u7dcf\\u5408\", \"\\u5fb3\\u5ddd\\u5bb6\\u5eb7\", \"\\u5947\\u75c5\", \"\\u30a6\\u30af\\u30e9\\u30a4\\u30ca\", \"\\u4eba\\u751f\", \"\\u5ca1\\u5c71\", \"\\u6bce\\u65e5\", \"Yomiuri\", \"\\u307f\\u3061\\u306e\\u304f\", \"\\u5730\\u7403\\u4eba\", \"\\u4e09\\u91cd\", \"\\u60c5\\u52e2\", \"\\u7f8e\\u8853\", \"\\u958b\\u767a\", \"media\", \"\\u9cf4\\u304b\\u305a\\u98db\\u3070\\u305a\", \"\\u81ea\\u7206\", \"\\u5922\\u8272\", \"\\u6709\\u6599\", \"\\uff19\", \"\\u8abf\\u67fb\\u7d50\\u679c\", \"\\u30dd\\u30fc\\u30bf\\u30eb\\u30da\\u30fc\\u30b8\", \"\\u65b9\\u6cd5\", \"\\u718a\\u672c\", \"\\u8ca2\\u732e\", \"\\u548c\\u98a8\\u3060\\u3057\", \"400\", \"Twitter\", \"\\u6559\\u80b2\", \"\\u6295\\u7a3f\", \"\\u65b0\\u7740\", \"\\u6570\\u72ec\", \"\\u767a\\u8868\", \"\\u30d8\\u30eb\\u30d7\", \"\\u9023\\u8f09\\u5c0f\\u8aac\", \"\\u30e9\\u30fc\\u30e1\\u30f3\", \"\\u6b7b\\u8005\", \"\\u3082\\u3063\\u3068\", \"\\u8a71\\u984c\", \"\\u5175\\u820e\", \"\\u4f1a\\u54e1\\u9650\\u5b9a\", \"\\u9732\", \"\\u304a\\u77e5\\u3089\\u305b\", \"01\", \"\\u3088\\u3080\", \"\\u7279\\u96c6\", \"\\u5168\\u56fd\", \"\\u3059\\u308b\", \"\\u8aad\\u58f2\\u65b0\\u805e\", \"\\u8a18\\u4e8b\", \"\\u8aad\\u58f2\", \"\\u52d5\\u753b\", \"\\u5199\\u771f\", \"\\u8aad\\u58f2\\u65b0\\u805e\\u793e\", \"\\u8ecd\", \"\\u56fd\\u969b\", \"\\u60c5\\u5831\", \"\\u308c\\u308b\", \"\\u767a\\u8a00\\u5c0f\\u753a\", \"\\u3044\\u308b\", \"\\uff11\", \"\\u898b\\u308b\", \"\\u533b\\u7642\", \"\\uff10\", \"\\u304a\", \"\\u8aad\\u58f2\\u65b0\\u805e\\u30aa\\u30f3\\u30e9\\u30a4\\u30f3\", \"\\u30b5\\u30a4\\u30c8\", \"\\u3053\\u3061\\u3089\", \"\\u30d7\\u30ed\\u30b8\\u30a7\\u30af\\u30c8\"], \"Freq\": [11.0, 9.0, 5.0, 3.0, 39.0, 4.0, 7.0, 3.0, 11.0, 3.0, 5.0, 3.0, 4.0, 2.0, 9.0, 3.0, 3.0, 3.0, 7.0, 5.0, 6.0, 3.0, 6.0, 5.0, 3.0, 5.0, 1.0, 3.0, 3.0, 3.0, 4.283546299867864, 3.6477192496057134, 4.131038690238538, 2.048824186389436, 3.0385421832767774, 1.516799607604161, 3.016349392963911, 3.011649312119509, 2.5092156412288675, 2.4995708878442624, 1.4743280067118318, 2.4414018123517796, 7.323550919904205, 2.92699359790297, 2.429534711886742, 2.9127694970894282, 2.4160648398215763, 3.361558896820596, 3.3554534790201798, 1.9161307767490001, 2.872115573276755, 3.337425565422924, 28.120943051517244, 1.4260448673562598, 1.8920450285209527, 1.4170928396978, 1.4170921295012384, 1.8892677338473174, 3.301053274640582, 4.237267903366263, 4.702264272710847, 3.763659406437581, 6.064763308446368, 5.601820259400565, 4.19030317290757, 6.677193643184497, 7.486177978299883, 5.388820947443831, 3.691007150425899, 4.890999293023958, 7.127799725720134, 5.262329826414808, 5.759595823044917, 3.99741747981008, 4.331385708411774, 4.978948330735761, 4.313694427984697, 3.8082708295698895, 3.539367116916174, 3.229222858089937, 3.387347838442576, 3.3665032852821746, 3.4203935685305726, 1.4978518519387718, 1.1404713711311576, 0.8493557714037592, 0.5609093696204348, 0.5507778593309476, 1.376850273410657, 0.8258866058021308, 0.5445241870277739, 0.543469639257137, 0.5405585926254008, 0.540555801918573, 0.5396286838556563, 0.5373784690583039, 0.5366301070813873, 1.6061342938396583, 0.53493833534764, 0.5343827207031171, 0.5342130909826892, 0.5339102238673588, 0.8005398979014311, 0.5329428668289649, 0.7992950918071928, 0.5327156882082762, 0.5323524814858571, 0.5296600150807995, 0.5290003146140487, 0.5278456030956447, 0.5277523406904383, 0.5274236783930775, 0.5274038040349927, 1.8436893659103326, 2.326068924215683, 1.5588200468842395, 1.293752075018384, 1.2910843101399783, 1.0380298786209585, 1.7423904792848655, 1.967462795139081, 1.0223188025762409, 3.2993579493824665, 0.7798833122352211, 1.485350239595098, 3.9087125564686875, 2.7974467619605647, 1.2463662502040562, 1.4571737549709596, 1.2344887756712053, 1.4492840496460868, 1.0087000024073212, 11.112119112389927, 3.649347582566813, 2.044535631216502, 3.1678332942271137, 2.591715251215483, 2.211768813299848, 1.8308361245063498, 2.1989121023684577, 1.8156904305800525, 2.4999421783610964, 2.327211454675906, 1.432377947682979, 2.5435301528807575, 2.345379257823237, 2.6985824276321058, 1.9070844198529047, 1.7053235569522895, 1.9297882529631227, 1.7671687880867903, 1.732944162946124, 1.560106487307369, 1.5951636481768405], \"Total\": [11.0, 9.0, 5.0, 3.0, 39.0, 4.0, 7.0, 3.0, 11.0, 3.0, 5.0, 3.0, 4.0, 2.0, 9.0, 3.0, 3.0, 3.0, 7.0, 5.0, 6.0, 3.0, 6.0, 5.0, 3.0, 5.0, 1.0, 3.0, 3.0, 3.0, 5.4486736412475745, 4.740055302577994, 5.40696463513473, 2.6989450616943276, 4.038886658592501, 2.018783353403587, 4.032729873108526, 4.031381732862405, 3.359393690628227, 3.356693120925416, 2.0071133117417865, 3.3406734482950924, 10.022133347536311, 4.008221958879833, 3.337642857014657, 4.004413681041928, 3.3339524513438707, 4.661690376798425, 4.660080410575128, 2.662560226899603, 3.9930475465669484, 4.654989007039638, 39.23306216390717, 1.993899589738376, 2.655886754513628, 1.991422944726886, 1.9914814804820347, 2.655166512470153, 4.644979844839403, 5.970212066312387, 6.63205252567397, 5.306236181942581, 8.608293461327126, 7.947199517223802, 5.9574719609943605, 9.84502693741161, 11.135525560866697, 7.888763125804927, 5.28617079860274, 7.218210747699864, 11.036512282188822, 7.854045077630291, 9.058953772427383, 5.904501899662985, 6.530297810780231, 7.776395092696326, 6.5254632412845455, 5.852806460786391, 5.2446906738684635, 4.625345451155682, 5.2030382690226284, 5.197339409788524, 5.7464624927462555, 3.1149090559024395, 2.5138180911872534, 1.8876219530034466, 1.2603734407418288, 1.2642819483171273, 3.1605765484804635, 1.8965175100069354, 1.2666320942982807, 1.2670180382134553, 1.2681484361349307, 1.2681740532905652, 1.2684992248246467, 1.2693557648858371, 1.2696205693236415, 3.809812011140565, 1.2702416237122696, 1.2704405218947477, 1.270547371695735, 1.27066231321757, 1.9060557282297035, 1.2709883661570887, 1.9065282484409727, 1.271118203347896, 1.27123899558218, 1.2722492099704699, 1.2724905358813698, 1.2729699156314584, 1.2730046306466452, 1.2730921435343583, 1.2731591262157522, 4.456229800408771, 5.7464624927462555, 3.827915958020781, 3.1919547918066837, 3.1929823216773854, 2.5524233402745553, 4.494760094395667, 5.1457676846300595, 2.5583005352295043, 9.058953772427383, 1.9138395320284003, 3.8555153597216965, 11.036512282188822, 7.776395092696326, 3.2098735293781413, 3.8662343522238096, 3.2143780168914753, 3.8691694628902296, 2.563334763671325, 39.23306216390717, 11.135525560866697, 5.852806460786391, 9.84502693741161, 7.854045077630291, 6.5254632412845455, 5.197339409788524, 6.530297810780231, 5.2030382690226284, 7.888763125804927, 7.218210747699864, 3.875639054632922, 8.608293461327126, 7.947199517223802, 10.022133347536311, 5.904501899662985, 5.2446906738684635, 6.63205252567397, 5.9574719609943605, 5.970212066312387, 4.563537404816509, 5.28617079860274], \"Category\": [\"Default\", \"Default\", \"Default\", \"Default\", \"Default\", \"Default\", \"Default\", \"Default\", \"Default\", \"Default\", \"Default\", \"Default\", \"Default\", \"Default\", \"Default\", \"Default\", \"Default\", \"Default\", \"Default\", \"Default\", \"Default\", \"Default\", \"Default\", \"Default\", \"Default\", \"Default\", \"Default\", \"Default\", \"Default\", \"Default\", \"Topic1\", \"Topic1\", \"Topic1\", \"Topic1\", \"Topic1\", \"Topic1\", \"Topic1\", \"Topic1\", \"Topic1\", \"Topic1\", \"Topic1\", \"Topic1\", \"Topic1\", \"Topic1\", \"Topic1\", \"Topic1\", \"Topic1\", \"Topic1\", \"Topic1\", \"Topic1\", \"Topic1\", \"Topic1\", \"Topic1\", \"Topic1\", \"Topic1\", \"Topic1\", \"Topic1\", \"Topic1\", \"Topic1\", \"Topic1\", \"Topic1\", \"Topic1\", \"Topic1\", \"Topic1\", \"Topic1\", \"Topic1\", \"Topic1\", \"Topic1\", \"Topic1\", \"Topic1\", \"Topic1\", \"Topic1\", \"Topic1\", \"Topic1\", \"Topic1\", \"Topic1\", \"Topic1\", \"Topic1\", \"Topic1\", \"Topic1\", \"Topic1\", \"Topic1\", \"Topic1\", \"Topic2\", \"Topic2\", \"Topic2\", \"Topic2\", \"Topic2\", \"Topic2\", \"Topic2\", \"Topic2\", \"Topic2\", \"Topic2\", \"Topic2\", \"Topic2\", \"Topic2\", \"Topic2\", \"Topic2\", \"Topic2\", \"Topic2\", \"Topic2\", \"Topic2\", \"Topic2\", \"Topic2\", \"Topic2\", \"Topic2\", \"Topic2\", \"Topic2\", \"Topic2\", \"Topic2\", \"Topic2\", \"Topic2\", \"Topic2\", \"Topic2\", \"Topic2\", \"Topic2\", \"Topic2\", \"Topic2\", \"Topic2\", \"Topic2\", \"Topic2\", \"Topic2\", \"Topic2\", \"Topic2\", \"Topic2\", \"Topic2\", \"Topic2\", \"Topic2\", \"Topic2\", \"Topic2\", \"Topic2\", \"Topic2\", \"Topic2\", \"Topic2\", \"Topic2\", \"Topic2\", \"Topic2\", \"Topic2\", \"Topic2\", \"Topic2\", \"Topic2\", \"Topic2\", \"Topic2\", \"Topic2\", \"Topic2\", \"Topic2\", \"Topic2\", \"Topic2\", \"Topic2\", \"Topic2\", \"Topic2\", \"Topic2\", \"Topic2\", \"Topic2\"], \"logprob\": [30.0, 29.0, 28.0, 27.0, 26.0, 25.0, 24.0, 23.0, 22.0, 21.0, 20.0, 19.0, 18.0, 17.0, 16.0, 15.0, 14.0, 13.0, 12.0, 11.0, 10.0, 9.0, 8.0, 7.0, 6.0, 5.0, 4.0, 3.0, 2.0, 1.0, -5.6519, -5.8126, -5.6882, -6.3894, -5.9953, -6.6901, -6.0026, -6.0042, -6.1867, -6.1906, -6.7185, -6.2141, -5.1156, -6.0327, -6.219, -6.0376, -6.2246, -5.8943, -5.8961, -6.4564, -6.0516, -5.9015, -3.7702, -6.7518, -6.469, -6.7581, -6.7581, -6.4705, -5.9125, -5.6628, -5.5587, -5.7813, -5.3042, -5.3836, -5.6739, -5.208, -5.0936, -5.4224, -5.8008, -5.5193, -5.1427, -5.4461, -5.3558, -5.721, -5.6408, -5.5015, -5.6449, -5.7695, -5.8427, -5.9345, -5.8866, -5.8928, -5.8769, -6.0697, -6.3423, -6.637, -7.0519, -7.0701, -6.1539, -6.665, -7.0816, -7.0835, -7.0889, -7.0889, -7.0906, -7.0948, -7.0962, -5.9999, -7.0993, -7.1004, -7.1007, -7.1013, -6.6962, -7.1031, -6.6977, -7.1035, -7.1042, -7.1092, -7.1105, -7.1127, -7.1129, -7.1135, -7.1135, -5.862, -5.6295, -6.0298, -6.2162, -6.2182, -6.4364, -5.9185, -5.797, -6.4517, -5.28, -6.7223, -6.0781, -5.1105, -5.445, -6.2535, -6.0972, -6.2631, -6.1027, -6.4651, -4.0657, -5.1792, -5.7586, -5.3207, -5.5214, -5.6799, -5.869, -5.6858, -5.8773, -5.5575, -5.6291, -6.1144, -5.5402, -5.6213, -5.481, -5.8281, -5.94, -5.8163, -5.9043, -5.9239, -6.029, -6.0067], \"loglift\": [30.0, 29.0, 28.0, 27.0, 26.0, 25.0, 24.0, 23.0, 22.0, 21.0, 20.0, 19.0, 18.0, 17.0, 16.0, 15.0, 14.0, 13.0, 12.0, 11.0, 10.0, 9.0, 8.0, 7.0, 6.0, 5.0, 4.0, 3.0, 2.0, 1.0, 0.1853, 0.164, 0.1568, 0.1503, 0.1413, 0.14, 0.1355, 0.1343, 0.1341, 0.1311, 0.1174, 0.1123, 0.1122, 0.1116, 0.1084, 0.1076, 0.1039, 0.099, 0.0975, 0.0969, 0.0964, 0.0932, 0.0929, 0.0907, 0.0868, 0.0857, 0.0857, 0.0856, 0.0844, 0.0831, 0.0821, 0.0824, 0.0757, 0.0762, 0.0741, 0.0377, 0.0288, 0.0448, 0.0667, 0.0367, -0.0113, 0.0255, -0.027, 0.0359, 0.0154, -0.0199, 0.012, -0.0038, 0.0327, 0.0666, -0.0033, -0.0083, -0.0929, 0.3267, 0.2685, 0.2603, 0.2493, 0.228, 0.2279, 0.2276, 0.2147, 0.2125, 0.2062, 0.2062, 0.2042, 0.1993, 0.1977, 0.1952, 0.1941, 0.1929, 0.1925, 0.1918, 0.1914, 0.1898, 0.1896, 0.1892, 0.1885, 0.1826, 0.1812, 0.1786, 0.1784, 0.1777, 0.1776, 0.1764, 0.1545, 0.1605, 0.1558, 0.1534, 0.1592, 0.1112, 0.0975, 0.1416, 0.0489, 0.1612, 0.105, 0.0209, 0.0365, 0.1129, 0.0831, 0.1019, 0.0769, 0.1263, -0.2026, -0.0567, 0.0071, -0.075, -0.0498, -0.023, 0.0155, -0.0296, 0.0061, -0.0903, -0.073, 0.0635, -0.1603, -0.1615, -0.2532, -0.0712, -0.0646, -0.1756, -0.1564, -0.1781, -0.0144, -0.1392]}, \"token.table\": {\"Topic\": [1, 2, 1, 2, 1, 2, 1, 2, 1, 2, 1, 2, 1, 2, 1, 2, 1, 2, 1, 2, 1, 2, 1, 2, 1, 2, 1, 2, 1, 2, 1, 2, 1, 2, 1, 2, 1, 2, 1, 2, 1, 2, 1, 2, 1, 2, 1, 2, 1, 2, 1, 2, 1, 2, 1, 2, 1, 2, 1, 2, 1, 2, 1, 2, 1, 2, 1, 2, 1, 2, 1, 2, 1, 2, 1, 2, 1, 2, 1, 2, 1, 2, 1, 2, 1, 2, 1, 2, 1, 2, 1, 2, 1, 2, 1, 2, 1, 2, 1, 2, 1, 2, 1, 2, 1, 2, 1, 2, 1, 2, 1, 2, 1, 2, 1, 2, 1, 2, 1, 2, 1, 2, 1, 2, 1, 2, 1, 2, 1, 2, 1, 2, 1, 2, 1, 2, 1, 2, 1, 2, 1, 2, 1, 2, 1, 2, 1, 2, 1, 2, 1, 2, 1, 2, 1, 2, 1, 2, 1, 2, 1, 2, 1, 2, 1, 2, 1, 2, 1, 2, 1, 2, 1, 2, 1, 2, 1, 2, 1, 2, 1, 2, 1, 2, 1, 2, 1, 2, 1, 2, 1, 2, 1, 2, 1, 2, 1, 2, 1, 2], \"Freq\": [0.5172992161868369, 0.25864960809341847, 0.7854890983961303, 0.7854890983961303, 0.5021387393258369, 0.5021387393258369, 0.7854477727166195, 0.7854477727166195, 0.7885512227951841, 0.7885512227951841, 0.7871285453872252, 0.7871285453872252, 0.6970022603150184, 0.3485011301575092, 0.7539144149784737, 0.30156576599138946, 0.6230775080996621, 0.31153875404983106, 0.6573847727935133, 0.4382565151956755, 0.7513058547422686, 0.25043528491408956, 0.713683777295336, 0.28037576965173916, 0.7885352940357621, 0.7885352940357621, 0.6623281397308948, 0.3311640698654474, 0.6222043547740964, 0.3111021773870482, 0.6926924378861183, 0.27707697515444735, 0.6327959374885435, 0.31639796874427173, 0.9906957062173517, 0.49534785310867585, 0.5958244998722476, 0.2979122499361238, 0.7441617288546644, 0.24805390961822146, 0.6699929509322564, 0.3349964754661282, 0.7538299960360272, 0.3769149980180136, 0.5986816822879522, 0.2993408411439761, 0.7566914033608779, 0.37834570168043896, 0.7835690766661251, 0.39178453833306254, 0.7866341447007275, 0.7866341447007275, 0.7439129558379093, 0.24797098527930309, 0.8438720109076583, 0.21096800272691457, 0.5830033891659601, 0.3886689261106401, 0.5021534991589369, 0.5021534991589369, 0.5015297686736634, 0.5015297686736634, 0.7878012040934306, 0.7878012040934306, 0.7532484273987627, 0.37662421369938137, 0.7427789521198054, 0.2475929840399351, 0.5272822395382699, 0.5272822395382699, 0.7397866030060188, 0.1849466507515047, 0.6342583436704808, 0.36243333924027477, 0.6420733203141842, 0.3210366601570921, 0.7802336348513094, 0.3901168174256547, 0.5187373965342902, 0.2593686982671451, 0.6129833012763389, 0.30649165063816947, 0.6366146298600812, 0.3819687779160487, 0.6774491850410465, 0.3387245925205232, 0.7855430969579681, 0.7855430969579681, 0.5765861877013522, 0.38439079180090147, 0.788333158136724, 0.788333158136724, 0.5246436319722796, 0.5246436319722796, 0.7909628080437989, 0.7909628080437989, 0.7491733469503619, 0.24972444898345394, 0.5992252873301409, 0.29961264366507045, 0.7894952326737024, 0.7894952326737024, 0.7410302745267634, 0.3705151372633817, 0.49822797454927603, 0.49822797454927603, 0.6458585613311144, 0.21528618711037148, 0.7934156399006801, 0.7934156399006801, 0.7876368925975458, 0.7876368925975458, 0.6338129210198369, 0.25352516840793476, 0.6444698355813872, 0.21482327852712904, 0.5220603116764256, 0.34804020778428374, 0.6732148327998725, 0.4488098885332484, 0.6265752902057791, 0.31328764510288953, 0.522477510460835, 0.522477510460835, 0.7530441561941745, 0.37652207809708726, 0.7860095271925623, 0.7860095271925623, 0.7867892630863029, 0.7867892630863029, 0.7817689800157043, 0.39088449000785214, 0.7892547460571586, 0.7892547460571586, 0.7858604616712267, 0.7858604616712267, 0.5169067985215672, 0.2584533992607836, 0.6435433839474239, 0.21451446131580798, 0.8930182873085595, 0.2976727624361865, 0.6263736527514909, 0.31318682637574546, 0.5160439276741235, 0.2580219638370618, 0.5998885794528435, 0.29994428972642173, 0.6486002033103115, 0.21620006777010384, 0.5297670957941938, 0.5297670957941938, 0.5249602852192302, 0.5249602852192302, 0.7869911538241823, 0.7869911538241823, 0.6984540872947748, 0.2993374659834749, 0.683432815829443, 0.3417164079147215, 0.522509846444723, 0.522509846444723, 0.711018877297292, 0.3047223759845537, 0.6286187357514519, 0.3592107061436868, 0.6714257366529612, 0.3357128683264806, 0.5772184118570135, 0.3848122745713423, 0.7867088972262221, 0.7867088972262221, 0.7855645194128164, 0.7855645194128164, 0.6125294919010876, 0.3062647459505438, 0.7511567174309082, 0.3755783587154541, 0.6674438539535353, 0.4449625693023569, 0.7341236167494382, 0.18353090418735954, 0.748461544988492, 0.24948718166283068, 0.39780125837494834, 0.39780125837494834, 0.7872517962980218, 0.7872517962980218, 0.6429714463319969, 0.3857828677991981, 0.7870623498794468, 0.7870623498794468, 0.762676056364944, 0.381338028182472, 0.754982932918234, 0.25166097763941137, 0.6437657155426105, 0.21458857184753685, 0.5245136025745913, 0.5245136025745913], \"Term\": [\"01\", \"01\", \"400\", \"400\", \"Marie Claire\", \"Marie Claire\", \"Twitter\", \"Twitter\", \"Yomiuri\", \"Yomiuri\", \"media\", \"media\", \"\\u3044\\u308b\", \"\\u3044\\u308b\", \"\\u304a\", \"\\u304a\", \"\\u304a\\u77e5\\u3089\\u305b\", \"\\u304a\\u77e5\\u3089\\u305b\", \"\\u3053\\u3061\\u3089\", \"\\u3053\\u3061\\u3089\", \"\\u3053\\u3068\", \"\\u3053\\u3068\", \"\\u3059\\u308b\", \"\\u3059\\u308b\", \"\\u307f\\u3061\\u306e\\u304f\", \"\\u307f\\u3061\\u306e\\u304f\", \"\\u3082\\u3063\\u3068\", \"\\u3082\\u3063\\u3068\", \"\\u3088\\u3080\", \"\\u3088\\u3080\", \"\\u308c\\u308b\", \"\\u308c\\u308b\", \"\\u30a6\\u30af\\u30e9\\u30a4\\u30ca\", \"\\u30a6\\u30af\\u30e9\\u30a4\\u30ca\", \"\\u30a8\\u30f3\\u30bf\\u30e1!\", \"\\u30a8\\u30f3\\u30bf\\u30e1!\", \"\\u30b0\\u30eb\\u30e1\", \"\\u30b0\\u30eb\\u30e1\", \"\\u30b3\\u30e9\\u30e0\", \"\\u30b3\\u30e9\\u30e0\", \"\\u30b5\\u30a4\\u30c8\", \"\\u30b5\\u30a4\\u30c8\", \"\\u30b9\\u30af\\u30e9\\u30c3\\u30d7\", \"\\u30b9\\u30af\\u30e9\\u30c3\\u30d7\", \"\\u30b9\\u30dd\\u30fc\\u30c4\", \"\\u30b9\\u30dd\\u30fc\\u30c4\", \"\\u30d7\\u30ed\\u30b8\\u30a7\\u30af\\u30c8\", \"\\u30d7\\u30ed\\u30b8\\u30a7\\u30af\\u30c8\", \"\\u30d8\\u30eb\\u30d7\", \"\\u30d8\\u30eb\\u30d7\", \"\\u30dd\\u30fc\\u30bf\\u30eb\\u30da\\u30fc\\u30b8\", \"\\u30dd\\u30fc\\u30bf\\u30eb\\u30da\\u30fc\\u30b8\", \"\\u30e1\\u30c7\\u30a3\\u30a2\", \"\\u30e1\\u30c7\\u30a3\\u30a2\", \"\\u30e8\\u30df\", \"\\u30e8\\u30df\", \"\\u30e9\\u30fc\\u30e1\\u30f3\", \"\\u30e9\\u30fc\\u30e1\\u30f3\", \"\\u30f6\", \"\\u30f6\", \"\\u4e07\", \"\\u4e07\", \"\\u4e09\\u91cd\", \"\\u4e09\\u91cd\", \"\\u4e3b\\u5f35\", \"\\u4e3b\\u5f35\", \"\\u4eba\", \"\\u4eba\", \"\\u4eba\\u751f\", \"\\u4eba\\u751f\", \"\\u4eba\\u751f\\u6848\\u5185\", \"\\u4eba\\u751f\\u6848\\u5185\", \"\\u4f1a\\u54e1\\u9650\\u5b9a\", \"\\u4f1a\\u54e1\\u9650\\u5b9a\", \"\\u4f7f\\u7528\", \"\\u4f7f\\u7528\", \"\\u5168\\u56fd\", \"\\u5168\\u56fd\", \"\\u5175\\u820e\", \"\\u5175\\u820e\", \"\\u5199\\u771f\", \"\\u5199\\u771f\", \"\\u52d5\\u753b\", \"\\u52d5\\u753b\", \"\\u533b\\u7642\", \"\\u533b\\u7642\", \"\\u548c\\u98a8\\u3060\\u3057\", \"\\u548c\\u98a8\\u3060\\u3057\", \"\\u56fd\\u969b\", \"\\u56fd\\u969b\", \"\\u5730\\u7403\\u4eba\", \"\\u5730\\u7403\\u4eba\", \"\\u5922\\u8272\", \"\\u5922\\u8272\", \"\\u5947\\u75c5\", \"\\u5947\\u75c5\", \"\\u5c71\\u5f62\", \"\\u5c71\\u5f62\", \"\\u5c71\\u5f62\\u5e02\", \"\\u5c71\\u5f62\\u5e02\", \"\\u5ca1\\u5c71\", \"\\u5ca1\\u5c71\", \"\\u5e83\\u544a\", \"\\u5e83\\u544a\", \"\\u5e83\\u89d2\", \"\\u5e83\\u89d2\", \"\\u5e97\", \"\\u5e97\", \"\\u5fb3\\u5ddd\\u5bb6\\u5eb7\", \"\\u5fb3\\u5ddd\\u5bb6\\u5eb7\", \"\\u60c5\\u52e2\", \"\\u60c5\\u52e2\", \"\\u60c5\\u5831\", \"\\u60c5\\u5831\", \"\\u60c5\\u5831\\u63d0\\u4f9b\", \"\\u60c5\\u5831\\u63d0\\u4f9b\", \"\\u6295\\u7a3f\", \"\\u6295\\u7a3f\", \"\\u6559\\u80b2\", \"\\u6559\\u80b2\", \"\\u6570\\u72ec\", \"\\u6570\\u72ec\", \"\\u65b0\\u7740\", \"\\u65b0\\u7740\", \"\\u65b9\", \"\\u65b9\", \"\\u65b9\\u6cd5\", \"\\u65b9\\u6cd5\", \"\\u6709\\u6599\", \"\\u6709\\u6599\", \"\\u6b7b\\u8005\", \"\\u6b7b\\u8005\", \"\\u6bce\\u65e5\", \"\\u6bce\\u65e5\", \"\\u718a\\u672c\", \"\\u718a\\u672c\", \"\\u7279\\u96c6\", \"\\u7279\\u96c6\", \"\\u7533\\u3057\\u8fbc\\u307f\", \"\\u7533\\u3057\\u8fbc\\u307f\", \"\\u767a\", \"\\u767a\", \"\\u767a\\u8868\", \"\\u767a\\u8868\", \"\\u767a\\u8a00\\u5c0f\\u753a\", \"\\u767a\\u8a00\\u5c0f\\u753a\", \"\\u7832\\u6483\", \"\\u7832\\u6483\", \"\\u7d39\\u4ecb\", \"\\u7d39\\u4ecb\", \"\\u7dcf\\u5408\", \"\\u7dcf\\u5408\", \"\\u7f8e\\u8853\", \"\\u7f8e\\u8853\", \"\\u81ea\\u7206\", \"\\u81ea\\u7206\", \"\\u898b\\u308b\", \"\\u898b\\u308b\", \"\\u8a18\\u4e8b\", \"\\u8a18\\u4e8b\", \"\\u8a71\\u984c\", \"\\u8a71\\u984c\", \"\\u8aad\\u58f2\", \"\\u8aad\\u58f2\", \"\\u8aad\\u58f2\\u65b0\\u805e\", \"\\u8aad\\u58f2\\u65b0\\u805e\", \"\\u8aad\\u58f2\\u65b0\\u805e\\u30aa\\u30f3\\u30e9\\u30a4\\u30f3\", \"\\u8aad\\u58f2\\u65b0\\u805e\\u30aa\\u30f3\\u30e9\\u30a4\\u30f3\", \"\\u8aad\\u58f2\\u65b0\\u805e\\u793e\", \"\\u8aad\\u58f2\\u65b0\\u805e\\u793e\", \"\\u8abf\\u67fb\\u7d50\\u679c\", \"\\u8abf\\u67fb\\u7d50\\u679c\", \"\\u8ca2\\u732e\", \"\\u8ca2\\u732e\", \"\\u8ecd\", \"\\u8ecd\", \"\\u9023\\u8f09\", \"\\u9023\\u8f09\", \"\\u9023\\u8f09\\u5c0f\\u8aac\", \"\\u9023\\u8f09\\u5c0f\\u8aac\", \"\\u904b\\u55b6\", \"\\u904b\\u55b6\", \"\\u90e8\", \"\\u90e8\", \"\\u9589\\u3058\\u308b\", \"\\u9589\\u3058\\u308b\", \"\\u958b\\u767a\", \"\\u958b\\u767a\", \"\\u9732\", \"\\u9732\", \"\\u9cf4\\u304b\\u305a\\u98db\\u3070\\u305a\", \"\\u9cf4\\u304b\\u305a\\u98db\\u3070\\u305a\", \"\\uff10\", \"\\uff10\", \"\\uff11\", \"\\uff11\", \"\\uff12\", \"\\uff12\", \"\\uff19\", \"\\uff19\"]}, \"R\": 30, \"lambda.step\": 0.01, \"plot.opts\": {\"xlab\": \"PC1\", \"ylab\": \"PC2\"}, \"topic.order\": [1, 2]};\n",
       "\n",
       "function LDAvis_load_lib(url, callback){\n",
       "  var s = document.createElement('script');\n",
       "  s.src = url;\n",
       "  s.async = true;\n",
       "  s.onreadystatechange = s.onload = callback;\n",
       "  s.onerror = function(){console.warn(\"failed to load library \" + url);};\n",
       "  document.getElementsByTagName(\"head\")[0].appendChild(s);\n",
       "}\n",
       "\n",
       "if(typeof(LDAvis) !== \"undefined\"){\n",
       "   // already loaded: just create the visualization\n",
       "   !function(LDAvis){\n",
       "       new LDAvis(\"#\" + \"ldavis_el797375140333630562240690425277\", ldavis_el797375140333630562240690425277_data);\n",
       "   }(LDAvis);\n",
       "}else if(typeof define === \"function\" && define.amd){\n",
       "   // require.js is available: use it to load d3/LDAvis\n",
       "   require.config({paths: {d3: \"https://d3js.org/d3.v5\"}});\n",
       "   require([\"d3\"], function(d3){\n",
       "      window.d3 = d3;\n",
       "      LDAvis_load_lib(\"https://cdn.jsdelivr.net/gh/bmabey/pyLDAvis@3.3.1/pyLDAvis/js/ldavis.v3.0.0.js\", function(){\n",
       "        new LDAvis(\"#\" + \"ldavis_el797375140333630562240690425277\", ldavis_el797375140333630562240690425277_data);\n",
       "      });\n",
       "    });\n",
       "}else{\n",
       "    // require.js not available: dynamically load d3 & LDAvis\n",
       "    LDAvis_load_lib(\"https://d3js.org/d3.v5.js\", function(){\n",
       "         LDAvis_load_lib(\"https://cdn.jsdelivr.net/gh/bmabey/pyLDAvis@3.3.1/pyLDAvis/js/ldavis.v3.0.0.js\", function(){\n",
       "                 new LDAvis(\"#\" + \"ldavis_el797375140333630562240690425277\", ldavis_el797375140333630562240690425277_data);\n",
       "            })\n",
       "         });\n",
       "}\n",
       "</script>"
      ],
      "text/plain": [
       "<IPython.core.display.HTML object>"
      ]
     },
     "execution_count": 22,
     "metadata": {},
     "output_type": "execute_result"
    }
   ],
   "source": [
    "model_bow: VectorizerBoW = pipe_topic.get_model(1)\n",
    "model_topic: TopicModel = pipe_topic.get_model(-1)\n",
    "\n",
    "lda = model_topic.model\n",
    "bow = pipe_topic[:-1](X)\n",
    "\n",
    "vis = pyLDAvis.gensim_models.prepare(lda, corpus=bow, dictionary=model_bow.vocab)\n",
    "pyLDAvis.display(vis)\n"
   ]
  },
  {
   "cell_type": "code",
   "execution_count": 23,
   "metadata": {},
   "outputs": [
    {
     "data": {
      "text/plain": [
       "1002"
      ]
     },
     "execution_count": 23,
     "metadata": {},
     "output_type": "execute_result"
    }
   ],
   "source": [
    "len(model_bow.vocab)"
   ]
  },
  {
   "cell_type": "code",
   "execution_count": 24,
   "metadata": {},
   "outputs": [
    {
     "data": {
      "text/plain": [
       "(1, 1002, 2)"
      ]
     },
     "execution_count": 24,
     "metadata": {},
     "output_type": "execute_result"
    }
   ],
   "source": [
    "numpy.array(bow).shape"
   ]
  },
  {
   "cell_type": "code",
   "execution_count": null,
   "metadata": {},
   "outputs": [],
   "source": []
  }
 ],
 "metadata": {
  "kernelspec": {
   "display_name": "Python 3",
   "language": "python",
   "name": "python3"
  },
  "language_info": {
   "codemirror_mode": {
    "name": "ipython",
    "version": 3
   },
   "file_extension": ".py",
   "mimetype": "text/x-python",
   "name": "python",
   "nbconvert_exporter": "python",
   "pygments_lexer": "ipython3",
   "version": "3.10.6"
  },
  "orig_nbformat": 4,
  "vscode": {
   "interpreter": {
    "hash": "767d51c1340bd893661ea55ea3124f6de3c7a262a8b4abca0554b478b1e2ff90"
   }
  }
 },
 "nbformat": 4,
 "nbformat_minor": 2
}
