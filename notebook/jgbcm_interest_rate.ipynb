{
 "cells": [
  {
   "cell_type": "code",
   "execution_count": null,
   "metadata": {},
   "outputs": [],
   "source": [
    "import numpy\n",
    "import pandas\n",
    "\n",
    "import seaborn as sns\n",
    "\n",
    "from matplotlib import pyplot\n",
    "\n",
    "\n",
    "sns.set_theme(font=\"IPAexGothic\")\n",
    "pyplot.rcParams[\"figure.figsize\"] = (20, 10)\n"
   ]
  },
  {
   "cell_type": "code",
   "execution_count": null,
   "metadata": {},
   "outputs": [],
   "source": [
    "url=\"https://www.mof.go.jp/jgbs/reference/interest_rate/data/jgbcm_all.csv\"\n",
    "_df = pandas.read_csv(url, header=1, encoding=\"shift-jis\")\n",
    "_df.tail()\n"
   ]
  },
  {
   "cell_type": "code",
   "execution_count": null,
   "metadata": {},
   "outputs": [],
   "source": [
    "def convert_wareki_to_seireki(wareki_date):\n",
    "    \"\"\"\n",
    "    和暦を西暦に変換する関数。\n",
    "    \"\"\"\n",
    "    era = wareki_date[0]\n",
    "    year, month, day = map(int, wareki_date[1:].split('.'))\n",
    "\n",
    "    if era == \"S\":  # 昭和\n",
    "        seireki_year = 1925 + year\n",
    "    elif era == \"H\":  # 平成\n",
    "        seireki_year = 1988 + year\n",
    "    elif era == \"R\":  # 令和\n",
    "        seireki_year = 2018 + year\n",
    "    else:\n",
    "        raise ValueError(f\"Unknown era: {era}\")\n",
    "\n",
    "    return f\"{seireki_year}-{month:02}-{day:02}\"\n"
   ]
  },
  {
   "cell_type": "code",
   "execution_count": null,
   "metadata": {},
   "outputs": [],
   "source": [
    "_df[\"ds\"] = pandas.to_datetime(_df[\"基準日\"].apply(convert_wareki_to_seireki))\n",
    "_df[[\"基準日\", \"ds\"]]"
   ]
  },
  {
   "cell_type": "code",
   "execution_count": null,
   "metadata": {},
   "outputs": [],
   "source": [
    "_df.replace('-', float('nan'), inplace=True)\n"
   ]
  },
  {
   "cell_type": "code",
   "execution_count": null,
   "metadata": {},
   "outputs": [],
   "source": [
    "_df.head()"
   ]
  },
  {
   "cell_type": "code",
   "execution_count": null,
   "metadata": {},
   "outputs": [],
   "source": [
    "rate_cols = [col for col in _df.columns if col not in [\"基準日\", \"ds\"]]\n",
    "rate_cols = [\"1年\", \"5年\", \"10年\", \"20年\"]\n",
    "rate_cols"
   ]
  },
  {
   "cell_type": "code",
   "execution_count": null,
   "metadata": {},
   "outputs": [],
   "source": [
    "_df[rate_cols] = _df[rate_cols].astype(float)\n",
    "_df.head(3)"
   ]
  },
  {
   "cell_type": "code",
   "execution_count": null,
   "metadata": {},
   "outputs": [],
   "source": [
    "pyplot.figure(figsize=(15, 7))\n",
    "for col in rate_cols:\n",
    "    pyplot.plot(_df[\"ds\"], _df[col], label=col)\n",
    "\n",
    "pyplot.title(\"日本国債金利の変動\")\n",
    "pyplot.xlabel(\"ds\")\n",
    "pyplot.ylabel(\"金利 (%)\")\n",
    "pyplot.legend()\n",
    "pyplot.grid(True)\n",
    "pyplot.tight_layout()\n",
    "pyplot.show()\n"
   ]
  },
  {
   "cell_type": "code",
   "execution_count": null,
   "metadata": {},
   "outputs": [],
   "source": [
    "import optuna\n",
    "\n",
    "from prophet import Prophet\n",
    "from prophet.diagnostics import cross_validation\n",
    "from prophet.diagnostics import performance_metrics\n"
   ]
  },
  {
   "cell_type": "code",
   "execution_count": null,
   "metadata": {},
   "outputs": [],
   "source": [
    "def build_prophet_model(**params) -> Prophet:\n",
    "    model = Prophet(**params, yearly_seasonality=4, changepoint_range=1.0)\n",
    "    model.add_seasonality(name='triennial', period=365.25*3, fourier_order=1)\n",
    "    model.add_seasonality(name='kitchen', period=365.25/12*40, fourier_order=1)\n",
    "    model.add_seasonality(name='quinquennial', period=365.25*5, fourier_order=1)\n",
    "    model.add_seasonality(name='decennial_09', period=365.25*9, fourier_order=1)\n",
    "    model.add_seasonality(name='decennial_10', period=365.25*10, fourier_order=1)\n",
    "    return model\n"
   ]
  },
  {
   "cell_type": "code",
   "execution_count": null,
   "metadata": {},
   "outputs": [],
   "source": [
    "class Evaluator(object):\n",
    "   def __init__(self, df: pandas.DataFrame, n_horizon: int=31*12) -> None:\n",
    "      self.df: pandas.DataFrame = df\n",
    "      self.n_horizon: int = n_horizon\n",
    "\n",
    "   def objective_value(self, trial: optuna.Trial):\n",
    "      params = {\n",
    "               \"growth\" : \n",
    "                  trial.suggest_categorical(\"growth\", [\"linear\", \"logistic\", \"flat\"]),\n",
    "               \"changepoint_prior_scale\" : \n",
    "                  trial.suggest_float(\"changepoint_prior_scale\", 0.001, 10),\n",
    "               \"seasonality_prior_scale\" : \n",
    "                  trial.suggest_float(\"seasonality_prior_scale\", 0.01, 10),\n",
    "               \"seasonality_mode\" : \n",
    "                  trial.suggest_categorical(\"seasonality_mode\", [\"additive\", \"multiplicative\"])\n",
    "               }\n",
    "\n",
    "      model: Prophet = build_prophet_model(**params)\n",
    "      model.fit(self.df)\n",
    "      __df_cv, df_pm = self.run_cross_validation(model=model, df=self.df, horizon_scaler=3)\n",
    "      score = numpy.cumsum(df_pm['rmse'].values[::-1]).mean() + numpy.cumsum(df_pm['mae'].values).mean()\n",
    "\n",
    "      return score\n",
    "\n",
    "   def run_cross_validation(self, model: Prophet, df: pandas.DataFrame, horizon_scaler: int=2, freq=\"D\"):\n",
    "      n_horizon = self.n_horizon\n",
    "      date_start = df.ds.max() - pandas.Timedelta(days=n_horizon * horizon_scaler)\n",
    "      date_end = df.ds.max() - pandas.Timedelta(days=n_horizon)\n",
    "      cutoffs = pandas.date_range(start=date_start, end=date_end, freq=freq)\n",
    "      df_cv = cross_validation(model, cutoffs=cutoffs, horizon=f\"{n_horizon} days\", parallel=\"processes\")\n",
    "      df_pm = performance_metrics(df_cv)\n",
    "      return df_cv, df_pm\n",
    "\n"
   ]
  },
  {
   "cell_type": "code",
   "execution_count": null,
   "metadata": {},
   "outputs": [],
   "source": [
    "from dataclasses import dataclass\n"
   ]
  },
  {
   "cell_type": "code",
   "execution_count": null,
   "metadata": {},
   "outputs": [],
   "source": [
    "@dataclass\n",
    "class Limitter(object):\n",
    "    base_df: pandas.DataFrame\n",
    "\n",
    "    def __post_init__(self):\n",
    "        base_df = self.base_df\n",
    "        self.floor = base_df.y.min() - 3 * base_df.y.std()\n",
    "        self.cap = base_df.y.max() + 3 * base_df.y.std()\n",
    "\n",
    "    def setup_limit(self, df: pandas.DataFrame, inplace=False) -> pandas.DataFrame:\n",
    "        _df = df\n",
    "        if not inplace:\n",
    "            _df = df.copy()\n",
    "        _df[\"floor\"] = self.floor\n",
    "        _df[\"cap\"] = self.cap\n",
    "        return _df\n"
   ]
  },
  {
   "cell_type": "code",
   "execution_count": null,
   "metadata": {},
   "outputs": [],
   "source": [
    "@dataclass\n",
    "class BestEstimator(object):\n",
    "    df: pandas.DataFrame\n",
    "    model: Prophet\n",
    "    evaluator: Evaluator\n",
    "    study: optuna.Study\n",
    "    df_cv: dict\n",
    "    df_pm: dict\n",
    "\n"
   ]
  },
  {
   "cell_type": "code",
   "execution_count": null,
   "metadata": {},
   "outputs": [],
   "source": [
    "n_years = 2\n",
    "n_predicts = 12 * n_years\n",
    "\n",
    "bests = {}\n",
    "for rate_type in rate_cols:\n",
    "    # setup\n",
    "    base_df = _df.rename({\"年月\": \"ds\", rate_type: \"y\"}, axis=1)[[\"ds\", \"y\"]]\n",
    "    lmt = Limitter(base_df)\n",
    "    base_df = lmt.setup_limit(base_df)\n",
    "    evl = Evaluator(df=base_df, n_horizon=31*12)\n",
    "\n",
    "    # optimize hyper params\n",
    "    study: optuna.Study = optuna.create_study(direction=\"minimize\")\n",
    "    study.optimize(evl.objective_value, n_trials=100)\n",
    "\n",
    "    # rerun cv\n",
    "    model: Prophet = build_prophet_model(**study.best_params)\n",
    "    model.fit(base_df)\n",
    "    df_cv, df_pm = evl.run_cross_validation(model=model, df=base_df, horizon_scaler=3)\n",
    "\n",
    "    # predict\n",
    "    future = model.make_future_dataframe(periods=n_predicts, freq=\"MS\")\n",
    "    future = lmt.setup_limit(future)\n",
    "    forecast = model.predict(future)\n",
    "\n",
    "    # store estimator\n",
    "    bst = BestEstimator(df=base_df, model=model, evaluator=evl, study=study, df_cv=df_cv, df_pm=df_pm)\n",
    "    bests[rate_type] = bst\n",
    "\n"
   ]
  },
  {
   "cell_type": "code",
   "execution_count": null,
   "metadata": {},
   "outputs": [],
   "source": []
  },
  {
   "cell_type": "code",
   "execution_count": null,
   "metadata": {},
   "outputs": [],
   "source": []
  },
  {
   "cell_type": "code",
   "execution_count": null,
   "metadata": {},
   "outputs": [],
   "source": []
  },
  {
   "cell_type": "code",
   "execution_count": null,
   "metadata": {},
   "outputs": [],
   "source": []
  }
 ],
 "metadata": {
  "kernelspec": {
   "display_name": ".venv",
   "language": "python",
   "name": "python3"
  },
  "language_info": {
   "codemirror_mode": {
    "name": "ipython",
    "version": 3
   },
   "file_extension": ".py",
   "mimetype": "text/x-python",
   "name": "python",
   "nbconvert_exporter": "python",
   "pygments_lexer": "ipython3",
   "version": "3.10.12"
  },
  "orig_nbformat": 4
 },
 "nbformat": 4,
 "nbformat_minor": 2
}
