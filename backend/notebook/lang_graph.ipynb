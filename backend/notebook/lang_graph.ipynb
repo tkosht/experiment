{
 "cells": [
  {
   "cell_type": "markdown",
   "metadata": {},
   "source": [
    "\n",
    "\n",
    "- cf. [Google Colab で LangGraph を試す](https://note.com/npaka/n/n053a3cb78311?sub_rt=share_h)"
   ]
  },
  {
   "cell_type": "code",
   "execution_count": 1,
   "metadata": {},
   "outputs": [],
   "source": [
    "import os\n",
    "from dotenv import load_dotenv\n",
    "\n",
    "load_dotenv()\n",
    "\n",
    "assert \"OPENAI_API_KEY\" in os.environ\n",
    "assert \"TAVILY_API_KEY\" in os.environ"
   ]
  },
  {
   "cell_type": "code",
   "execution_count": 2,
   "metadata": {},
   "outputs": [],
   "source": [
    "from langchain_community.tools.tavily_search import TavilySearchResults\n",
    "\n",
    "tools = [TavilySearchResults(max_results=1)]"
   ]
  },
  {
   "cell_type": "code",
   "execution_count": 3,
   "metadata": {},
   "outputs": [],
   "source": [
    "from langgraph.prebuilt import ToolExecutor\n",
    "\n",
    "tool_executor = ToolExecutor(tools)"
   ]
  },
  {
   "cell_type": "code",
   "execution_count": 4,
   "metadata": {},
   "outputs": [],
   "source": [
    "from langchain_openai import ChatOpenAI\n",
    "\n",
    "model = ChatOpenAI(temperature=0, streaming=True)"
   ]
  },
  {
   "cell_type": "code",
   "execution_count": 5,
   "metadata": {},
   "outputs": [],
   "source": [
    "from langchain_core.utils.function_calling import convert_to_openai_function\n",
    "\n",
    "functions = [convert_to_openai_function(t) for t in tools]\n",
    "model = model.bind_functions(functions)"
   ]
  },
  {
   "cell_type": "code",
   "execution_count": 6,
   "metadata": {},
   "outputs": [],
   "source": [
    "from typing import TypedDict, Annotated, Sequence\n",
    "import operator\n",
    "from langchain_core.messages import BaseMessage\n",
    "from langgraph.graph import StateGraph\n",
    "\n",
    "\n",
    "class AgentState(TypedDict):\n",
    "    messages: Annotated[Sequence[BaseMessage], operator.add]\n",
    "\n",
    "\n",
    "workflow = StateGraph(AgentState)"
   ]
  },
  {
   "cell_type": "code",
   "execution_count": 7,
   "metadata": {},
   "outputs": [],
   "source": [
    "import json\n",
    "from langgraph.prebuilt import ToolInvocation\n",
    "from langchain_core.messages import FunctionMessage\n",
    "\n",
    "\n",
    "# agentノードの次に呼び出されるノードを決定する関数の準備\n",
    "def should_continue(state):\n",
    "    messages = state[\"messages\"]\n",
    "    last_message = messages[-1]\n",
    "\n",
    "    # function_call がない場合は終了\n",
    "    if \"function_call\" not in last_message.additional_kwargs:\n",
    "        return \"end\"\n",
    "    # そうでない場合は続行\n",
    "    else:\n",
    "        return \"continue\"\n",
    "\n",
    "\n",
    "# agentノードの処理を定義する関数の準備\n",
    "def call_model(state):\n",
    "    messages = state[\"messages\"]\n",
    "\n",
    "    # モデルの呼び出し\n",
    "    response = model.invoke(messages)\n",
    "\n",
    "    # メッセージリストに追加するメッセージを返す\n",
    "    return {\"messages\": [response]}\n",
    "\n",
    "\n",
    "# actionノードの処理を定義する関数の準備\n",
    "def call_tool(state):\n",
    "    messages = state[\"messages\"]\n",
    "    last_message = messages[-1]\n",
    "\n",
    "    # ツールの呼び出し\n",
    "    action = ToolInvocation(\n",
    "        tool=last_message.additional_kwargs[\"function_call\"][\"name\"],\n",
    "        tool_input=json.loads(\n",
    "            last_message.additional_kwargs[\"function_call\"][\"arguments\"]\n",
    "        ),\n",
    "    )\n",
    "    print(f\"[DEBUG] {action=}\")\n",
    "    response = tool_executor.invoke(action)\n",
    "    function_message = FunctionMessage(content=str(response), name=action.tool)\n",
    "\n",
    "    # メッセージリストに追加するメッセージを返す\n",
    "    return {\"messages\": [function_message]}"
   ]
  },
  {
   "cell_type": "code",
   "execution_count": 8,
   "metadata": {},
   "outputs": [],
   "source": [
    "from langgraph.graph import END\n",
    "\n",
    "# グラフに2つのノードを追加\n",
    "workflow.add_node(\"agent\", call_model)\n",
    "workflow.add_node(\"action\", call_tool)\n",
    "\n",
    "# agentをエントリポイントとして指定\n",
    "workflow.set_entry_point(\"agent\")\n",
    "\n",
    "# agentノードに条件付きエッジを追加\n",
    "workflow.add_conditional_edges(\n",
    "    \"agent\",  # 開始ノード\n",
    "    should_continue,  # 呼び出されるノードを決定する関数\n",
    "    {\"continue\": \"action\", \"end\": END},  # actionノードに遷移  # 終了\n",
    ")\n",
    "\n",
    "# actionノードからagentノードへのノーマルエッジを追加\n",
    "workflow.add_edge(\"action\", \"agent\")\n",
    "\n",
    "# コンパイル\n",
    "app = workflow.compile()"
   ]
  },
  {
   "cell_type": "code",
   "execution_count": 13,
   "metadata": {},
   "outputs": [],
   "source": [
    "from langchain_core.messages.ai import AIMessage\n",
    "from langchain_core.messages.function import FunctionMessage\n",
    "from langchain_core.messages.human import HumanMessage\n",
    "\n",
    "\n",
    "def print_response(response: dict):\n",
    "    for itm in response[\"messages\"]:\n",
    "        if isinstance(itm, HumanMessage):\n",
    "            print(\"Human:\", itm.content)\n",
    "        elif isinstance(itm, FunctionMessage):\n",
    "            print(\"Function:\", itm.content)\n",
    "        elif isinstance(itm, AIMessage):\n",
    "            print(\"AI:\", itm.content)\n",
    "    return"
   ]
  },
  {
   "cell_type": "code",
   "execution_count": 14,
   "metadata": {},
   "outputs": [
    {
     "name": "stdout",
     "output_type": "stream",
     "text": [
      "Human: 日本の首都は？\n",
      "AI: 東京です。\n"
     ]
    }
   ],
   "source": [
    "from langchain_core.messages import HumanMessage\n",
    "\n",
    "# 質問応答\n",
    "inputs = {\"messages\": [HumanMessage(content=\"日本の首都は？\")]}\n",
    "response = app.invoke(inputs)\n",
    "print_response(response)"
   ]
  },
  {
   "cell_type": "code",
   "execution_count": 15,
   "metadata": {},
   "outputs": [
    {
     "name": "stdout",
     "output_type": "stream",
     "text": [
      "[DEBUG] action=ToolInvocation(tool='tavily_search_results_json', tool_input={'query': '日本で一番高い山の名前と標高'})\n",
      "Human: 日本で一番高い山の名前と標高は？\n",
      "AI: \n"
     ]
    },
    {
     "ename": "TypeError",
     "evalue": "string indices must be integers",
     "output_type": "error",
     "traceback": [
      "\u001b[0;31m---------------------------------------------------------------------------\u001b[0m",
      "\u001b[0;31mTypeError\u001b[0m                                 Traceback (most recent call last)",
      "Cell \u001b[0;32mIn[15], line 6\u001b[0m\n\u001b[1;32m      4\u001b[0m inputs \u001b[38;5;241m=\u001b[39m {\u001b[38;5;124m\"\u001b[39m\u001b[38;5;124mmessages\u001b[39m\u001b[38;5;124m\"\u001b[39m: [HumanMessage(content\u001b[38;5;241m=\u001b[39m\u001b[38;5;124m\"\u001b[39m\u001b[38;5;124m日本で一番高い山の名前と標高は？\u001b[39m\u001b[38;5;124m\"\u001b[39m)]}\n\u001b[1;32m      5\u001b[0m response \u001b[38;5;241m=\u001b[39m app\u001b[38;5;241m.\u001b[39minvoke(inputs)\n\u001b[0;32m----> 6\u001b[0m \u001b[43mprint_response\u001b[49m\u001b[43m(\u001b[49m\u001b[43mresponse\u001b[49m\u001b[43m)\u001b[49m\n",
      "Cell \u001b[0;32mIn[13], line 11\u001b[0m, in \u001b[0;36mprint_response\u001b[0;34m(response)\u001b[0m\n\u001b[1;32m      9\u001b[0m     \u001b[38;5;28mprint\u001b[39m(\u001b[38;5;124m\"\u001b[39m\u001b[38;5;124mHuman:\u001b[39m\u001b[38;5;124m\"\u001b[39m, itm\u001b[38;5;241m.\u001b[39mcontent)\n\u001b[1;32m     10\u001b[0m \u001b[38;5;28;01melif\u001b[39;00m \u001b[38;5;28misinstance\u001b[39m(itm, FunctionMessage):\n\u001b[0;32m---> 11\u001b[0m     \u001b[38;5;28mprint\u001b[39m(\u001b[38;5;124m\"\u001b[39m\u001b[38;5;124mFunction:\u001b[39m\u001b[38;5;124m\"\u001b[39m, \u001b[43mitm\u001b[49m\u001b[38;5;241;43m.\u001b[39;49m\u001b[43mcontent\u001b[49m\u001b[43m[\u001b[49m\u001b[38;5;124;43m\"\u001b[39;49m\u001b[38;5;124;43murl\u001b[39;49m\u001b[38;5;124;43m\"\u001b[39;49m\u001b[43m]\u001b[49m, itm\u001b[38;5;241m.\u001b[39mcontent[\u001b[38;5;124m\"\u001b[39m\u001b[38;5;124mcontent\u001b[39m\u001b[38;5;124m\"\u001b[39m])\n\u001b[1;32m     12\u001b[0m \u001b[38;5;28;01melif\u001b[39;00m \u001b[38;5;28misinstance\u001b[39m(itm, AIMessage):\n\u001b[1;32m     13\u001b[0m     \u001b[38;5;28mprint\u001b[39m(\u001b[38;5;124m\"\u001b[39m\u001b[38;5;124mAI:\u001b[39m\u001b[38;5;124m\"\u001b[39m, itm\u001b[38;5;241m.\u001b[39mcontent)\n",
      "\u001b[0;31mTypeError\u001b[0m: string indices must be integers"
     ]
    }
   ],
   "source": [
    "from langchain_core.messages import HumanMessage\n",
    "\n",
    "# 質問応答\n",
    "inputs = {\"messages\": [HumanMessage(content=\"日本で一番高い山の名前と標高は？\")]}\n",
    "response = app.invoke(inputs)\n",
    "print_response(response)"
   ]
  },
  {
   "cell_type": "code",
   "execution_count": 12,
   "metadata": {},
   "outputs": [
    {
     "name": "stdout",
     "output_type": "stream",
     "text": [
      "Output from node 'agent': \n",
      "\n",
      "---\n",
      "\n",
      "[DEBUG] action=ToolInvocation(tool='tavily_search_results_json', tool_input={'query': '日本で一番高い山の名前と標高'})\n",
      "Output from node 'action': [{'url': 'https://www.日本百名山.net/column/takasa.html', 'content': '日本の山を標高が高い順にランキング形式で紹介。1位はお馴染み富士山ですが2位以降の山は果たして・・・ 1.富士山\\u30003,776m 撮影：chantatsu  30.大天井岳\\u30002,921m 大天井岳は北アルプスにある標高2,922mの山で、常念山脈の最高峰です。 関連記事 日本百名山一覧 深田久弥の著書『日本百名山』で紹介されている100山を一覧で紹介。 富士山撮影スポット  日本の標高の高い山ランキングBEST30｜日本百名山.net 日本百名山.net＞コラム＞日本の標高の高い山ランキング BEST30 日本の標高の高い山ランキング BEST30  撮影：chantatsu 富士山は日本で一番高い山として誰もが知っている山です。日本の象徴として海外の人にも知れ渡っており、2013年6月26日には世界文化遺産にも指定されました。 2.北岳\\u30003,193m富士山は日本で一番高い山として誰もが知っている山です。日本の象徴として海外の人にも知れ渡っており、2013年6月26日には世界文化遺産にも指定されました。 富士山の詳細; 2.北岳 3,193m. 北岳は南アルプス最高峰で、日本で2番目に高い山です。'}]\n",
      "\n",
      "---\n",
      "\n",
      "Output from node 'agent': 日本で一番高い山は富士山です。富士山の標高は3,776メートルです。富士山は日本の象徴として知られており、世界文化遺産にも指定されています。\n",
      "\n",
      "また、日本で2番目に高い山は北岳で、標高は3,193メートルです。北岳は南アルプスの最高峰であり、日本でも有名な山の一つです。\n",
      "\n",
      "富士山の歴史については、古くから日本の信仰の対象となってきました。富士山は山岳信仰の対象として、修行や登山が行われてきました。また、富士山は絵画や文学の題材としても多く取り上げられており、日本の文化に深く根付いています。\n",
      "\n",
      "北岳の歴史については、南アルプスの最高峰として、登山愛好家やアウトドアスポーツの人々に人気があります。北岳は美しい景観や厳しい登山ルートで知られており、多くの登山者が挑戦しています。\n",
      "\n",
      "これらの山々は、日本の自然の豊かさと美しさを象徴しており、多くの人々に愛されています。\n",
      "\n",
      "---\n",
      "\n",
      "Output from node '__end__': 日本で一番高い山の名前と標高を調べた上で、その山の歴史について説明してください\n",
      "\n",
      "[{'url': 'https://www.日本百名山.net/column/takasa.html', 'content': '日本の山を標高が高い順にランキング形式で紹介。1位はお馴染み富士山ですが2位以降の山は果たして・・・ 1.富士山\\u30003,776m 撮影：chantatsu  30.大天井岳\\u30002,921m 大天井岳は北アルプスにある標高2,922mの山で、常念山脈の最高峰です。 関連記事 日本百名山一覧 深田久弥の著書『日本百名山』で紹介されている100山を一覧で紹介。 富士山撮影スポット  日本の標高の高い山ランキングBEST30｜日本百名山.net 日本百名山.net＞コラム＞日本の標高の高い山ランキング BEST30 日本の標高の高い山ランキング BEST30  撮影：chantatsu 富士山は日本で一番高い山として誰もが知っている山です。日本の象徴として海外の人にも知れ渡っており、2013年6月26日には世界文化遺産にも指定されました。 2.北岳\\u30003,193m富士山は日本で一番高い山として誰もが知っている山です。日本の象徴として海外の人にも知れ渡っており、2013年6月26日には世界文化遺産にも指定されました。 富士山の詳細; 2.北岳 3,193m. 北岳は南アルプス最高峰で、日本で2番目に高い山です。'}]\n",
      "日本で一番高い山は富士山です。富士山の標高は3,776メートルです。富士山は日本の象徴として知られており、世界文化遺産にも指定されています。\n",
      "\n",
      "また、日本で2番目に高い山は北岳で、標高は3,193メートルです。北岳は南アルプスの最高峰であり、日本でも有名な山の一つです。\n",
      "\n",
      "富士山の歴史については、古くから日本の信仰の対象となってきました。富士山は山岳信仰の対象として、修行や登山が行われてきました。また、富士山は絵画や文学の題材としても多く取り上げられており、日本の文化に深く根付いています。\n",
      "\n",
      "北岳の歴史については、南アルプスの最高峰として、登山愛好家やアウトドアスポーツの人々に人気があります。北岳は美しい景観や厳しい登山ルートで知られており、多くの登山者が挑戦しています。\n",
      "\n",
      "これらの山々は、日本の自然の豊かさと美しさを象徴しており、多くの人々に愛されています。\n",
      "\n",
      "---\n",
      "\n"
     ]
    }
   ],
   "source": [
    "# ストリーミング\n",
    "inputs = {\"messages\": [HumanMessage(content=\"日本で一番高い山の名前と標高を調べた上で、その山の歴史について説明してください\")]}\n",
    "for output in app.stream(inputs):\n",
    "    for key, tkn in output.items():\n",
    "        print(f\"Output from node '{key}': \", end=\"\")\n",
    "        for msg in tkn[\"messages\"]:\n",
    "            print(msg.content)\n",
    "    print(\"\\n---\\n\")"
   ]
  },
  {
   "cell_type": "code",
   "execution_count": null,
   "metadata": {},
   "outputs": [],
   "source": []
  },
  {
   "cell_type": "code",
   "execution_count": null,
   "metadata": {},
   "outputs": [],
   "source": []
  },
  {
   "cell_type": "code",
   "execution_count": null,
   "metadata": {},
   "outputs": [],
   "source": []
  },
  {
   "cell_type": "code",
   "execution_count": null,
   "metadata": {},
   "outputs": [],
   "source": []
  },
  {
   "cell_type": "code",
   "execution_count": null,
   "metadata": {},
   "outputs": [],
   "source": []
  }
 ],
 "metadata": {
  "kernelspec": {
   "display_name": ".venv",
   "language": "python",
   "name": "python3"
  },
  "language_info": {
   "codemirror_mode": {
    "name": "ipython",
    "version": 3
   },
   "file_extension": ".py",
   "mimetype": "text/x-python",
   "name": "python",
   "nbconvert_exporter": "python",
   "pygments_lexer": "ipython3",
   "version": "3.10.12"
  }
 },
 "nbformat": 4,
 "nbformat_minor": 2
}
