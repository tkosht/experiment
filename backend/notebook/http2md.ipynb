{
 "cells": [
  {
   "cell_type": "code",
   "execution_count": 3,
   "metadata": {},
   "outputs": [
    {
     "data": {
      "text/plain": [
       "True"
      ]
     },
     "execution_count": 3,
     "metadata": {},
     "output_type": "execute_result"
    }
   ],
   "source": [
    "from dotenv import load_dotenv\n",
    "\n",
    "load_dotenv(\"../../.env\")"
   ]
  },
  {
   "cell_type": "code",
   "execution_count": 4,
   "metadata": {},
   "outputs": [],
   "source": [
    "import requests\n",
    "\n",
    "\n",
    "def google_search(query, api_key, cse_id, num=10, start=1):\n",
    "    \"\"\"\n",
    "    Google Custom Search API を利用して検索結果を取得する関数\n",
    "    :param query: 検索キーワード\n",
    "    :param api_key: Google API キー\n",
    "    :param cse_id: カスタム検索エンジン ID\n",
    "    :param num: 1回のリクエストで取得する結果数（最大10件）\n",
    "    :param start: 検索結果の開始位置（1-indexed）\n",
    "    :return: API のレスポンス（JSON形式）\n",
    "    \"\"\"\n",
    "    url = \"https://www.googleapis.com/customsearch/v1\"\n",
    "    params = {\"q\": query, \"key\": api_key, \"cx\": cse_id, \"num\": num, \"start\": start}\n",
    "\n",
    "    response = requests.get(url, params=params)\n",
    "    if response.status_code == 200:\n",
    "        return response.json()\n",
    "    else:\n",
    "        print(f\"エラー: {response.status_code} {response.text}\")\n",
    "        return None\n",
    "\n",
    "\n",
    "def extract_urls(search_results):\n",
    "    \"\"\"\n",
    "    検索結果から URL リストを抽出する関数\n",
    "    :param search_results: Google Custom Search API のレスポンス（JSON）\n",
    "    :return: URL のリスト\n",
    "    \"\"\"\n",
    "    urls = []\n",
    "    if search_results and \"items\" in search_results:\n",
    "        for item in search_results[\"items\"]:\n",
    "            url = item.get(\"link\")\n",
    "            if url:\n",
    "                urls.append(url)\n",
    "    return urls"
   ]
  },
  {
   "cell_type": "code",
   "execution_count": 5,
   "metadata": {},
   "outputs": [],
   "source": [
    "import os\n",
    "\n",
    "\n",
    "# ご自身の API キーとカスタム検索エンジン ID に置き換えてください\n",
    "api_key = os.getenv(\"GOOGLE_API_KEY\")\n",
    "cse_id = os.getenv(\"GOOGLE_CSE_ID\")"
   ]
  },
  {
   "cell_type": "code",
   "execution_count": 6,
   "metadata": {},
   "outputs": [
    {
     "name": "stdout",
     "output_type": "stream",
     "text": [
      "https://www.otsu-international.com/financial_statements/07-fastretailing/\n",
      "https://www.fastretailing.com/jp/ir/library/pdf/tanshin202008_4q.pdf\n",
      "https://www.fastretailing.com/jp/ir/library/pdf/tanshin202208_4q.pdf\n",
      "https://www.fastretailing.com/jp/ir/library/pdf/tanshin202308_4q.pdf\n",
      "https://cpa-apple.com/9309/\n",
      "http://www.apparel-mag.com/abm/article/business/1848\n",
      "https://www.fastretailing.com/jp/ir/library/yuho.html\n",
      "https://zaimani.com/financial-analysis-catalog/9983/\n",
      "https://www.otsu-international.com/financial_statements/\n",
      "https://www.fastretailing.com/jp/ir/financial/\n"
     ]
    }
   ],
   "source": [
    "# 検索したいキーワードを指定\n",
    "keyword = \"ファーストリテイリング 財務諸表\"\n",
    "\n",
    "# 検索を実行（ここでは最初の10件を取得）\n",
    "search_results = google_search(keyword, api_key, cse_id, num=10, start=1)\n",
    "urls = extract_urls(search_results)\n",
    "urls = list(set(urls))\n",
    "\n",
    "if urls:\n",
    "    for url_dify in urls:\n",
    "        print(url_dify)\n",
    "else:\n",
    "    print(\"検索結果が見つかりませんでした。\")"
   ]
  },
  {
   "cell_type": "code",
   "execution_count": null,
   "metadata": {},
   "outputs": [],
   "source": [
    "urls[0]"
   ]
  },
  {
   "cell_type": "code",
   "execution_count": 72,
   "metadata": {},
   "outputs": [],
   "source": [
    "import requests\n",
    "\n",
    "\n",
    "class DifyClient(object):\n",
    "    def __init__(self, api_key: str, host: str = \"192.168.1.11\", user: str = \"tkosht\"):\n",
    "        self.api_key = api_key\n",
    "        self.host = host\n",
    "        self.user = user\n",
    "\n",
    "    def run_workflow(self, *args, **kwargs):\n",
    "        \"\"\"Dify のワークフローを実行\"\"\"\n",
    "\n",
    "\n",
    "class DifyClientSpider(DifyClient):\n",
    "    def __init__(self, api_key: str, host: str = \"192.168.1.11\", user: str = \"tkosht\"):\n",
    "        self.api_key = api_key\n",
    "        self.host = host\n",
    "        self.user = user\n",
    "\n",
    "    def run_workflow(self, url: str):\n",
    "        \"\"\"\n",
    "        DIFY のワークフローを実行する関数\n",
    "        :param url: ワークフローのエンドポイント\n",
    "        :param api_key: DIFY API キー\n",
    "        :param user: ユーザ名\n",
    "        :return: API のレスポンス（JSON形式）\n",
    "        \"\"\"\n",
    "        url_dify = f\"http://{self.host}/v1/workflows/run\"\n",
    "\n",
    "        # ヘッダの設定\n",
    "        headers = {\"Authorization\": f\"Bearer {self.api_key}\", \"Content-Type\": \"application/json\"}\n",
    "\n",
    "        # POST データのペイロード\n",
    "        payload = {\n",
    "            \"inputs\": {\n",
    "                \"file_or_url\": {\n",
    "                    \"transfer_method\": \"remote_url\",\n",
    "                    \"url\": url,\n",
    "                    \"type\": \"document\",\n",
    "                }\n",
    "            },\n",
    "            \"response_mode\": \"blocking\",\n",
    "            \"user\": self.user,\n",
    "        }\n",
    "\n",
    "        # POST リクエストの送信\n",
    "        response = requests.post(url_dify, headers=headers, json=payload)\n",
    "\n",
    "        return response"
   ]
  },
  {
   "cell_type": "code",
   "execution_count": null,
   "metadata": {},
   "outputs": [],
   "source": [
    "user = \"tkosht\"\n",
    "\n",
    "dcs = DifyClientSpider(os.environ.get(\"DIFY_API_KEY_MARKDOWN_SPIDER\"), host=\"192.168.1.11\", user=user)\n",
    "dcs"
   ]
  },
  {
   "cell_type": "code",
   "execution_count": null,
   "metadata": {},
   "outputs": [],
   "source": [
    "# url = \"https://www.fastretailing.com/jp/ir/financial/\"\n",
    "# url = \"https://www.fastretailing.com/jp/ir/financial/summary.html\"\n",
    "url = \"https://www.fastretailing.com/jp/ir/library/pdf/tanshin202308_4q.pdf\"\n",
    "\n",
    "\n",
    "response = dcs.run_workflow(url)\n",
    "print(\"Status Code:\", response.status_code)\n",
    "response.raise_for_status()"
   ]
  },
  {
   "cell_type": "code",
   "execution_count": null,
   "metadata": {},
   "outputs": [],
   "source": [
    "response.text"
   ]
  },
  {
   "cell_type": "code",
   "execution_count": null,
   "metadata": {},
   "outputs": [],
   "source": [
    "import json\n",
    "\n",
    "\n",
    "res = json.loads(response.text)\n",
    "res"
   ]
  },
  {
   "cell_type": "code",
   "execution_count": null,
   "metadata": {},
   "outputs": [],
   "source": [
    "from IPython.display import Markdown, display, HTML\n",
    "\n",
    "md = res[\"data\"][\"outputs\"][\"text\"]\n",
    "display(Markdown(md))"
   ]
  },
  {
   "cell_type": "code",
   "execution_count": 75,
   "metadata": {},
   "outputs": [],
   "source": [
    "class DifyClientSummary(DifyClient):\n",
    "    def __init__(self, api_key: str, host: str = \"192.168.1.11\", user: str = \"tkosht\"):\n",
    "        self.api_key = api_key\n",
    "        self.host = host\n",
    "        self.user = user\n",
    "\n",
    "    def run_workflow(self, query: str, text: str):\n",
    "        \"\"\"\n",
    "        DIFY のワークフローを実行する関数\n",
    "        :param url: ワークフローのエンドポイント\n",
    "        :param api_key: DIFY API キー\n",
    "        :param user: ユーザ名\n",
    "        :return: API のレスポンス（JSON形式）\n",
    "        \"\"\"\n",
    "        url_dify = f\"http://{self.host}/v1/workflows/run\"\n",
    "\n",
    "        # ヘッダの設定\n",
    "        headers = {\"Authorization\": f\"Bearer {self.api_key}\", \"Content-Type\": \"application/json\"}\n",
    "\n",
    "        # POST データのペイロード\n",
    "        payload = {\n",
    "            \"inputs\": {\n",
    "                \"query\": query,\n",
    "                \"text\": text,\n",
    "            },\n",
    "            \"response_mode\": \"blocking\",\n",
    "            \"user\": self.user,\n",
    "        }\n",
    "\n",
    "        # POST リクエストの送信\n",
    "        response = requests.post(url_dify, headers=headers, json=payload)\n",
    "\n",
    "        return response"
   ]
  },
  {
   "cell_type": "code",
   "execution_count": null,
   "metadata": {},
   "outputs": [],
   "source": [
    "dsm = DifyClientSummary(os.environ.get(\"DIFY_API_KEY_SUMMARY_PAPER\"), host=\"192.168.1.11\", user=user)\n",
    "dsm"
   ]
  },
  {
   "cell_type": "code",
   "execution_count": null,
   "metadata": {},
   "outputs": [],
   "source": [
    "response = dsm.run_workflow(query=\"財務諸表の分析を精緻にしたい\", text=md)\n",
    "print(\"Status Code:\", response.status_code)\n",
    "response.raise_for_status()"
   ]
  },
  {
   "cell_type": "code",
   "execution_count": null,
   "metadata": {},
   "outputs": [],
   "source": [
    "res = json.loads(response.text)\n",
    "res"
   ]
  },
  {
   "cell_type": "code",
   "execution_count": null,
   "metadata": {},
   "outputs": [],
   "source": [
    "display(Markdown(res[\"data\"][\"outputs\"][\"text\"]))"
   ]
  },
  {
   "cell_type": "code",
   "execution_count": null,
   "metadata": {},
   "outputs": [],
   "source": [
    "len(res[\"data\"][\"outputs\"][\"text\"])"
   ]
  },
  {
   "cell_type": "code",
   "execution_count": null,
   "metadata": {},
   "outputs": [],
   "source": []
  }
 ],
 "metadata": {
  "kernelspec": {
   "display_name": ".venv",
   "language": "python",
   "name": "python3"
  },
  "language_info": {
   "codemirror_mode": {
    "name": "ipython",
    "version": 3
   },
   "file_extension": ".py",
   "mimetype": "text/x-python",
   "name": "python",
   "nbconvert_exporter": "python",
   "pygments_lexer": "ipython3",
   "version": "3.10.12"
  }
 },
 "nbformat": 4,
 "nbformat_minor": 2
}
