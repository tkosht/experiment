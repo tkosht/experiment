{
 "cells": [
  {
   "cell_type": "code",
   "execution_count": 1,
   "metadata": {},
   "outputs": [],
   "source": [
    "import json\n",
    "\n",
    "with open(\"data2/news.json\", \"r\") as f:\n",
    "    news = json.load(f)\n"
   ]
  },
  {
   "cell_type": "code",
   "execution_count": 16,
   "metadata": {},
   "outputs": [
    {
     "data": {
      "text/plain": [
       "'<!DOCTYPE html><html lang=\"ja\"><head><title>ガスト/バーミヤン/ジョナサン「新春お年玉クーポンキャンペーン」、人気メニューが500円/キッズメニュー半額など（Impress Watch） - Yahoo!ニュース</title><meta http-equiv=\"Content-Type\" content=\"text/html; charset=UTF-'"
      ]
     },
     "execution_count": 16,
     "metadata": {},
     "output_type": "execute_result"
    }
   ],
   "source": [
    "import numpy\n",
    "\n",
    "n = len(news)\n",
    "idx = numpy.random.randint(0, n)\n",
    "html_text = news[idx][\"html\"]\n",
    "html_text"
   ]
  },
  {
   "cell_type": "code",
   "execution_count": 3,
   "metadata": {},
   "outputs": [],
   "source": [
    "from bs4 import BeautifulSoup\n",
    "\n",
    "def _filter_text(body) -> str:\n",
    "    soup: BeautifulSoup = BeautifulSoup(body, \"lxml\")\n",
    "    for tg in [\"script\", \"noscript\", \"meta\"]:\n",
    "        try:\n",
    "            soup.find(tg).replace_with(\" \")\n",
    "        except Exception:\n",
    "            # NOTE: Not Found `tg` tag\n",
    "            pass\n",
    "    return soup.get_text()\n",
    "\n"
   ]
  },
  {
   "cell_type": "code",
   "execution_count": 5,
   "metadata": {},
   "outputs": [
    {
     "data": {
      "text/plain": [
       "'豪快に飲んで、盛大にこぼしすぎ…\\u3000水を飲むハシビロコウの動画が話題\\u3000「元気出た、の声がうれしいです」 (withnews) - Yahoo!ニュース  \\n\\n\\n\\n\\nYahoo!ニュース\\n\\n\\n\\n\\n\\n\\n\\n\\nYahoo! JAPAN\\n\\nヘルプ\\n\\n\\n\\n\\n\\n\\nキーワード：\\n\\n検索\\n\\n\\n\\n\\n\\n\\n\\n\\n\\n\\n\\n\\n\\n\\n\\n\\nIDでもっと便利に新規取得\\nログイン\\n\\n\\n\\n\\n\\n\\n\\n\\n\\nマイページ購入履歴トップ速報ライブ個人オリジナルみんなの意見ランキング有料主要国内国際経済エンタメスポーツIT科学ライフ地域トピックス一覧 水飲み中のハシビロコウのフドウ＝松江フォーゲルパークのツイッター（withnews）豪快に飲んで、盛大にこぼしすぎ…\\u3000水を飲むハシビロコウの動画が話題\\u3000「元気出た、の声がうれしいです」【関連記事】姉が亡くなって5年、出会いに涙した昼下がり\\u3000つながり合った細い糸亡くなって2週間後に届いたメッセージ\\u3000妹の私だけにわかる伝え方で13歳愛犬が危篤\\u3000帰省中、上司からの電話が鳴り響いたいつも電話でネクタイを注文する男性\\u3000理由を知った日、社長は泣いた亡き親友に導かれての出会い\\u300035年前の気まずい別れ、謎が解けた日1/5(木) 6:31配信withnews写真アクセスランキング1「お前チャンピオンだろ」怒号で場内騒然 王者“疑惑”のバッティングに「VARが必要」怒りの声も 重岡銀次朗、“涙”の無効試合ABEMA TIMES2島田紳助さん\\u3000ボクシング中継キタ！超久々、６６歳に見えない\\u3000ネット騒然「めちゃ若い」「別人」「レアすぎ」デイリースポーツ3ハイヒール・モモコが浜田雅功、小川菜摘夫妻宅で年越し「気を使わない東京の親戚の家みたい」日刊スポーツ4“双子のおばあちゃん”看板娘の定食屋\\u300089歳の妹も引退…姉の死で「決意」\\u3000大阪のオフィス街で朝早くから30年以上\\u3000いつも通りの“笑顔”で「最後の営業日」関西テレビ5矢口真里、元モデル夫＆息子２人との家族ショット披露！行先は「修学旅行ぶり」の東大寺！スポーツ報知あわせて読みたいぶたんぽ？ブタで暖をとる“動物の貴重映像”が話題 ピッタリ離れない姿に「これになりたい」 「ヌクヌクなんや」悶絶の声ABEMA TIMES1/1(日)11:02いいね8万超「猫がいない」結果…猫にまみれたコタツが【混み合うサウナ】「仕事に行けない」悶絶の声続出LIMO1/2(月)5:57今年の鏡もち、柔らかめに仕上げました…\\u3000擬態したアヒルが可愛い\\u3000「おもち」ではなく「しらたま」ですがwithnews1/4(水)7:00かわいいケーキ屋さんが販売した“チキン”がこれ。「何度見ても本物に」と大反響BuzzFeed Japan1/4(水)21:10島田紳助さん\\u3000ボクシング中継キタ！超久々、６６歳に見えない\\u3000ネット騒然「めちゃ若い」「別人」「レアすぎ」デイリースポーツ1/6(金)19:47プライバシー利用規約メディアステートメント運営方針著作権特定商取引法の表示ご意見・ご要望ヘルプ・お問い合わせ©The Asahi Shimbun Company.©Yahoo Japanページ上部へ戻る'"
      ]
     },
     "execution_count": 5,
     "metadata": {},
     "output_type": "execute_result"
    }
   ],
   "source": [
    "text = _filter_text(html_text)\n",
    "text"
   ]
  },
  {
   "cell_type": "code",
   "execution_count": null,
   "metadata": {},
   "outputs": [],
   "source": []
  },
  {
   "cell_type": "code",
   "execution_count": 14,
   "metadata": {},
   "outputs": [],
   "source": [
    "import re\n",
    "\n",
    "def clean_text(text: str):\n",
    "    contents = []\n",
    "    for txt in re.split(r\"(.+?。|\\n)\", text):\n",
    "        txt = txt.strip().replace(\"\\u200b\", \"\").replace(\"\\u3000\", \" \")\n",
    "        txt = re.sub(r\"\\n+\", \"\\n\", txt)\n",
    "        txt = re.sub(r\"([\\W])\\1+\", \" \", txt)\n",
    "        if not txt:\n",
    "            continue\n",
    "        # contents.append(txt)\n",
    "        # contents.extend(txt.split(\"\\n\"))\n",
    "        contents.append(txt.split(\"\\n\")[-1])\n",
    "    return contents\n"
   ]
  },
  {
   "cell_type": "code",
   "execution_count": 15,
   "metadata": {},
   "outputs": [
    {
     "data": {
      "text/plain": [
       "(10,\n",
       " ['豪快に飲んで、盛大にこぼしすぎ… 水を飲むハシビロコウの動画が話題 「元気出た、の声がうれしいです」 (withnews) - Yahoo!ニュース',\n",
       "  'Yahoo!ニュース',\n",
       "  'Yahoo! JAPAN',\n",
       "  'ヘルプ',\n",
       "  'キーワード：',\n",
       "  '検索',\n",
       "  'IDでもっと便利に新規取得',\n",
       "  'ログイン',\n",
       "  'マイページ購入履歴トップ速報ライブ個人オリジナルみんなの意見ランキング有料主要国内国際経済エンタメスポーツIT科学ライフ地域トピックス一覧 水飲み中のハシビロコウのフドウ＝松江フォーゲルパークのツイッター（withnews）豪快に飲んで、盛大にこぼしすぎ… 水を飲むハシビロコウの動画が話題 「元気出た、の声がうれしいです」【関連記事】姉が亡くなって5年、出会いに涙した昼下がり つながり合った細い糸亡くなって2週間後に届いたメッセージ 妹の私だけにわかる伝え方で13歳愛犬が危篤 帰省中、上司からの電話が鳴り響いたいつも電話でネクタイを注文する男性 理由を知った日、社長は泣いた亡き親友に導かれての出会い 35年前の気まずい別れ、謎が解けた日1/5(木) 6:31配信withnews写真アクセスランキング1「お前チャンピオンだろ」怒号で場内騒然 王者“疑惑”のバッティングに「VARが必要」怒りの声も 重岡銀次朗、“涙”の無効試合ABEMA TIMES2島田紳助さん ボクシング中継キタ！超久々、６６歳に見えない ネット騒然「めちゃ若い」「別人」「レアすぎ」デイリースポーツ3ハイヒール・モモコが浜田雅功、小川菜摘夫妻宅で年越し「気を使わない東京の親戚の家みたい」日刊スポーツ4“双子のおばあちゃん”看板娘の定食屋 89歳の妹も引退…姉の死で「決意」 大阪のオフィス街で朝早くから30年以上 いつも通りの“笑顔”で「最後の営業日」関西テレビ5矢口真里、元モデル夫＆息子２人との家族ショット披露！行先は「修学旅行ぶり」の東大寺！スポーツ報知あわせて読みたいぶたんぽ？ブタで暖をとる“動物の貴重映像”が話題 ピッタリ離れない姿に「これになりたい」 「ヌクヌクなんや」悶絶の声ABEMA TIMES1/1(日)11:02いいね8万超「猫がいない」結果…猫にまみれたコタツが【混み合うサウナ】「仕事に行けない」悶絶の声続出LIMO1/2(月)5:57今年の鏡もち、柔らかめに仕上げました… 擬態したアヒルが可愛い 「おもち」ではなく「しらたま」ですがwithnews1/4(水)7:00かわいいケーキ屋さんが販売した“チキン”がこれ。',\n",
       "  '「何度見ても本物に」と大反響BuzzFeed Japan1/4(水)21:10島田紳助さん ボクシング中継キタ！超久々、６６歳に見えない ネット騒然「めちゃ若い」「別人」「レアすぎ」デイリースポーツ1/6(金)19:47プライバシー利用規約メディアステートメント運営方針著作権特定商取引法の表示ご意見・ご要望ヘルプ・お問い合わせ©The Asahi Shimbun Company.©Yahoo Japanページ上部へ戻る'])"
      ]
     },
     "execution_count": 15,
     "metadata": {},
     "output_type": "execute_result"
    }
   ],
   "source": [
    "_text = clean_text(text)\n",
    "len(_text), _text\n"
   ]
  },
  {
   "cell_type": "code",
   "execution_count": 8,
   "metadata": {},
   "outputs": [],
   "source": [
    "# for itm in news:\n",
    "#     text = itm[\"text\"]\n",
    "#     text = cleaning(text)\n",
    "#     break\n"
   ]
  },
  {
   "cell_type": "code",
   "execution_count": null,
   "metadata": {},
   "outputs": [],
   "source": []
  },
  {
   "cell_type": "code",
   "execution_count": null,
   "metadata": {},
   "outputs": [],
   "source": []
  },
  {
   "cell_type": "code",
   "execution_count": null,
   "metadata": {},
   "outputs": [],
   "source": []
  }
 ],
 "metadata": {
  "kernelspec": {
   "display_name": "Python 3",
   "language": "python",
   "name": "python3"
  },
  "language_info": {
   "codemirror_mode": {
    "name": "ipython",
    "version": 3
   },
   "file_extension": ".py",
   "mimetype": "text/x-python",
   "name": "python",
   "nbconvert_exporter": "python",
   "pygments_lexer": "ipython3",
   "version": "3.10.6"
  },
  "orig_nbformat": 4,
  "vscode": {
   "interpreter": {
    "hash": "767d51c1340bd893661ea55ea3124f6de3c7a262a8b4abca0554b478b1e2ff90"
   }
  }
 },
 "nbformat": 4,
 "nbformat_minor": 2
}
