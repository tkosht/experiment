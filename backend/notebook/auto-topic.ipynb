{
 "cells": [
  {
   "attachments": {},
   "cell_type": "markdown",
   "metadata": {},
   "source": [
    "# トピックへの自動ラベリング\n"
   ]
  },
  {
   "attachments": {},
   "cell_type": "markdown",
   "metadata": {},
   "source": [
    "## コンテンツを取得"
   ]
  },
  {
   "cell_type": "code",
   "execution_count": 1,
   "metadata": {},
   "outputs": [
    {
     "data": {
      "text/plain": [
       "'                             日本語でBERTが動くイメージを知ってほしい。『BERTによる自然言語処理入門』の著者に聞く | Ledge.ai                  AI（人工知能）関連メディア           メールマガジン登録 情報提供はこちら About Contact        Hot Topics 注目のキーワード    Fore- 見え'"
      ]
     },
     "execution_count": 1,
     "metadata": {},
     "output_type": "execute_result"
    }
   ],
   "source": [
    "import requests\n",
    "from bs4 import BeautifulSoup\n",
    "\n",
    "url = \"https://ledge.ai/authorinterview-book-bert-int/\"\n",
    "# url = \"https://ainow.ai/2023/01/10/271486/\"\n",
    "# url = \"https://ja.stateofaiguides.com/20230105-cramming-bert/\"\n",
    "# url = \"https://www.nowhere.co.jp/blog/archives/20160524-14722.html\"\n",
    "# url = \"https://www.yomiuri.co.jp/world/20230104-OYT1T50056/\"\n",
    "# url = \"https://www3.nhk.or.jp/kansai-news/20230104/2000069636.html\"\n",
    "# url = \"https://news.yahoo.co.jp/articles/fad0c4f41d46b686e0566bf10e4c016a641a9dab\"\n",
    "# url = \"https://news.yahoo.co.jp/articles/4d2d14fd1ca1dc9b134c5f493896a7e30fc1e781\"\n",
    "res = requests.get(url)\n",
    "\n",
    "soup = BeautifulSoup(res.content, \"lxml\")\n",
    "for tg in [\"script\", \"noscript\", \"meta\"]:\n",
    "    try:\n",
    "        soup.find(tg).replace_with(\" \")\n",
    "    except:\n",
    "        pass\n",
    "soup.get_text()[:200]"
   ]
  },
  {
   "attachments": {},
   "cell_type": "markdown",
   "metadata": {},
   "source": [
    "### 簡易クレンジング"
   ]
  },
  {
   "cell_type": "code",
   "execution_count": 2,
   "metadata": {},
   "outputs": [
    {
     "data": {
      "text/plain": [
       "['日本語でBERTが動くイメージを知ってほしい',\n",
       " '『BERTによる自然言語処理入門』の著者に聞く | Ledge.ai AI（人工知能）関連メディア メールマガジン登録 情報提供はこちら About Contact Hot Topics 注目のキーワード Fore- 見えない変化を可視化する',\n",
       " '見えている世界が動き出す',\n",
       " 'Dataiku DATAFLUCT キカガク AI開発の現場 DataRobot JDLA DL for DX 沖電気工業 Gravio 簡単IoTとAI実装 ビジネス 学習 開発 エンタメ ラジオ Podcast 特集：新型コロナとデータ分析 特集：それ私が作りました！ Article Theme テーマ別カテゴリ プレスリリース イベント レッジのAI開発・コンサルティング AI・データ活用研修 AI（人工知能）ニュース インタビュー イベントレポート AI活用事例 やってみた 文系大学生がAI講座受けてみた ナレッジ AI本書評 ツール紹介 サービス紹介 マーケティング マーケティングオートメーション（MA） PR TIMES イベント告知 AI TALK NIGHT Ledge.ai Webinar 海外AIニュース速報 AI（人工知能）ニュースまとめ Technology 技術別カテゴリ ノーコード データサイエンス DX プログラミング エッジAI 自動運転 AI（人工知能） 注目テクノロジー 自然言語処理 画像認識・生成 チャットボット 音声認識・合成 予測 About Contact TOP > Article Theme > インタビュー > 日本語でBERTが動くイメージを知ってほしい',\n",
       " '『BERTによる自然言語処理入門』の著者に聞く 2021 08 25 Wed インタビュー 日本語でBERTが動くイメージを知ってほしい']"
      ]
     },
     "execution_count": 2,
     "metadata": {},
     "output_type": "execute_result"
    }
   ],
   "source": [
    "import re\n",
    "\n",
    "def clean_text(text: str):\n",
    "    contents = []\n",
    "    for txt in re.split(r\"(。|\\n)\", text):\n",
    "        txt = txt.strip().replace(\"\\u200b\", \"\").replace(\"\\u3000\", \" \")\n",
    "        txt = re.sub(r\"\\n+\", \"\\n\", txt)\n",
    "        txt = re.sub(r\"([\\W])\\1+\", \" \", txt)\n",
    "        if not txt:\n",
    "            continue\n",
    "        if txt == \"。\":\n",
    "            continue\n",
    "        # contents.append(txt)\n",
    "        # contents.append(txt.split(\"\\n\")[-1])\n",
    "        contents.extend(txt.split(\"\\n\"))\n",
    "    return contents\n",
    "\n",
    "text = soup.get_text()\n",
    "contents = clean_text(text)\n",
    "contents[:5]"
   ]
  },
  {
   "cell_type": "code",
   "execution_count": 3,
   "metadata": {},
   "outputs": [],
   "source": [
    "# # pickup wiki data to analyze topic\n",
    "# wdb = WikiDb(mode=\"train\")\n",
    "# records = wdb.select_by_document_id(document_ids=[\n",
    "#     \"Doc01GN7P2K02Y2FC8BXHMZ5V1A34\",    # 南部煎餅\n",
    "#     \"Doc01GN7P3C1ZPVGB8AXJC75M9ZQ9\",    # 龍が如く OF THE END\n",
    "#     \"Doc01GN7P3C0YPAWH4KT16P7NNQBK\",    # 自動運転車\n",
    "#     \"Doc01GN7P3BS2JNYS3HYV0RM1TT7T\",    # デュケイン大学\n",
    "#     \"Doc01GN7P3BK88YCXKS64H6G2HK0Y\",    # 深蒸し茶\n",
    "#     ])\n",
    "# X: TextSequences = [WikiRecord(*rec).paragraph.splitlines() for rec in records]\n",
    "# pipe_topic.fit(X)"
   ]
  },
  {
   "attachments": {},
   "cell_type": "markdown",
   "metadata": {},
   "source": [
    "## トピックモデルのパイプラインを構築"
   ]
  },
  {
   "cell_type": "code",
   "execution_count": 4,
   "metadata": {},
   "outputs": [],
   "source": [
    "import joblib\n",
    "\n",
    "from app.component.models.model import TextSequences\n",
    "from app.component.models.pipeline import Pipeline\n",
    "from app.component.models.vectorizer import VectorizerBoW, VectorizerWord2vec\n",
    "from app.domain.models.tokenizer import TokenizerWord\n",
    "from app.domain.models.topic_model import TopicModel\n",
    "from app.infra.wikidb import WikiDb, WikiRecord"
   ]
  },
  {
   "cell_type": "code",
   "execution_count": 5,
   "metadata": {},
   "outputs": [],
   "source": [
    "pipe_topic = Pipeline(\n",
    "    steps=[\n",
    "        (TokenizerWord(use_stoppoes=True), None),\n",
    "        (VectorizerBoW(), None),\n",
    "        (TopicModel(n_topics=10, n_epoch=2000), None),\n",
    "    ],\n",
    "    name=\"pipe_topic_sample\",\n",
    "    do_print=True,\n",
    ")\n"
   ]
  },
  {
   "cell_type": "code",
   "execution_count": 6,
   "metadata": {},
   "outputs": [
    {
     "name": "stdout",
     "output_type": "stream",
     "text": [
      "2023/02/13 23:00:35 INFO Start to fit n_step=0 model=JpTokenizerMeCab(use_stoppoes=True, filterpos=[], use_orgform=False)\n",
      "2023/02/13 23:00:35 INFO End to fit n_step=0 model=JpTokenizerMeCab(use_stoppoes=True, filterpos=[], use_orgform=False)\n",
      "2023/02/13 23:00:35 INFO Start to transform n_step=0 model=JpTokenizerMeCab(use_stoppoes=True, filterpos=[], use_orgform=False)\n",
      "2023/02/13 23:00:35 INFO End to transform n_step=0 model=JpTokenizerMeCab(use_stoppoes=True, filterpos=[], use_orgform=False)\n",
      "2023/02/13 23:00:35 INFO Start to fit n_step=1 model=VectorizerBoW()\n",
      "2023/02/13 23:00:35 INFO End to fit n_step=1 model=VectorizerBoW()\n",
      "2023/02/13 23:00:35 INFO Start to transform n_step=1 model=VectorizerBoW()\n",
      "2023/02/13 23:00:35 INFO End to transform n_step=1 model=VectorizerBoW()\n",
      "2023/02/13 23:00:35 INFO Start to fit n_step=2 model=TopicModel(n_topics=10, n_epoch=2000, random_state=RandomState(MT19937))\n",
      "2023/02/13 23:00:35 INFO End to fit n_step=2 model=TopicModel(n_topics=10, n_epoch=2000, random_state=RandomState(MT19937))\n",
      "2023/02/13 23:00:35 INFO Start to transform n_step=2 model=TopicModel(n_topics=10, n_epoch=2000, random_state=RandomState(MT19937))\n",
      "2023/02/13 23:00:35 INFO End to transform n_step=2 model=TopicModel(n_topics=10, n_epoch=2000, random_state=RandomState(MT19937))\n"
     ]
    },
    {
     "data": {
      "text/plain": [
       "Pipeline(steps=[(JpTokenizerMeCab(use_stoppoes=True, filterpos=[], use_orgform=False), None), (VectorizerBoW(), None), (TopicModel(n_topics=10, n_epoch=2000, random_state=RandomState(MT19937)), None)], name=pipe_topic_sample, do_print=True, args=(), kwargs={})"
      ]
     },
     "execution_count": 6,
     "metadata": {},
     "output_type": "execute_result"
    }
   ],
   "source": [
    "# X: TextSequences = [[snt] for snt in contents]\n",
    "X: TextSequences = [contents]\n",
    "# pipe_topic[:1].fit(X).transform(X)        # for debugging\n",
    "pipe_topic.fit(X)"
   ]
  },
  {
   "cell_type": "code",
   "execution_count": 7,
   "metadata": {},
   "outputs": [
    {
     "data": {
      "text/plain": [
       "(VectorizerBoW(),\n",
       " TopicModel(n_topics=10, n_epoch=2000, random_state=RandomState(MT19937)))"
      ]
     },
     "execution_count": 7,
     "metadata": {},
     "output_type": "execute_result"
    }
   ],
   "source": [
    "model_bow: VectorizerBoW = pipe_topic.get_model(1)\n",
    "model_topic: TopicModel = pipe_topic.get_model(-1)\n",
    "model_bow, model_topic\n"
   ]
  },
  {
   "attachments": {},
   "cell_type": "markdown",
   "metadata": {},
   "source": [
    "## Word2Vec モデルをロード"
   ]
  },
  {
   "cell_type": "code",
   "execution_count": 8,
   "metadata": {},
   "outputs": [],
   "source": [
    "# use original pretrained wikivec model (with only noun and verb tokens)\n",
    "# pipe_wikivec = joblib.load(\"data/pipe_wikivec.gz\")        # Wikipedia trainset\n",
    "pipe_wikivec = joblib.load(\"data/pipe_wikivec.retrained.gz\")    # Wikipedia trainset + recent news\n",
    "pipe_wikivec\n",
    "model_vectorizer: VectorizerWord2vec = pipe_wikivec.get_model(-1)\n",
    "model_vectorizer\n",
    "w2v = model_vectorizer.model"
   ]
  },
  {
   "cell_type": "code",
   "execution_count": 9,
   "metadata": {},
   "outputs": [],
   "source": [
    "# # use shiroyagi's word2vec pretrained model\n",
    "# from gensim.models.word2vec import Word2Vec\n",
    "# w2v = Word2Vec.load(\"data/word2vec.gensim.model\")\n",
    "# w2v"
   ]
  },
  {
   "cell_type": "code",
   "execution_count": 10,
   "metadata": {},
   "outputs": [
    {
     "data": {
      "text/plain": [
       "2455730"
      ]
     },
     "execution_count": 10,
     "metadata": {},
     "output_type": "execute_result"
    }
   ],
   "source": [
    "len(w2v.wv.key_to_index)"
   ]
  },
  {
   "cell_type": "code",
   "execution_count": 11,
   "metadata": {},
   "outputs": [
    {
     "data": {
      "text/plain": [
       "array([1.0000001 , 1.0000001 , 1.0000001 , 1.0000001 , 1.0000001 ,\n",
       "       1.0000001 , 1.0000001 , 1.        , 1.0000001 , 0.99999994],\n",
       "      dtype=float32)"
      ]
     },
     "execution_count": 11,
     "metadata": {},
     "output_type": "execute_result"
    }
   ],
   "source": [
    "# 各トピックの確率の合計が 1 になることを確認しておく\n",
    "model_topic.get_topic_probabilities().sum(-1)"
   ]
  },
  {
   "cell_type": "code",
   "execution_count": 12,
   "metadata": {},
   "outputs": [],
   "source": [
    "def pickup_topic_words(model_topic: TopicModel, model_bow: VectorizerBoW, topn: int = -1):\n",
    "    # topn: 各トピックの上位の単語の数\n",
    "    topics = []\n",
    "    for topic_probs in model_topic.get_topic_probabilities():\n",
    "        indices = topic_probs.argsort()[::-1][:topn]\n",
    "        topic = [(model_bow.vocab[idx], topic_probs[idx]) for idx in indices]\n",
    "        topics.append(topic)\n",
    "    return topics\n"
   ]
  },
  {
   "cell_type": "code",
   "execution_count": 13,
   "metadata": {},
   "outputs": [
    {
     "data": {
      "text/plain": [
       "[('BERT', 0.0013851284),\n",
       " ('自然言語処理', 0.0013851111),\n",
       " ('AI', 0.0013851059),\n",
       " ('し', 0.0013851032),\n",
       " ('できる', 0.0013850913)]"
      ]
     },
     "execution_count": 13,
     "metadata": {},
     "output_type": "execute_result"
    }
   ],
   "source": [
    "pickup_topic_words(model_topic, model_bow, topn=30)[0][:5]\n"
   ]
  },
  {
   "cell_type": "code",
   "execution_count": 14,
   "metadata": {},
   "outputs": [],
   "source": [
    "def parse_topic(topics: list):\n",
    "    words = []\n",
    "    numbs = []\n",
    "    for w, p in topics:\n",
    "        do_skip: bool = False\n",
    "        do_skip |= bool(re.search(r\"^[あ-ん]\", w))    # です、ます などは、スキップ\n",
    "        do_skip |= bool(re.search(r\"[あ-ん]$\", w))    # 動名詞 などは、スキップ\n",
    "        do_skip |= w[0].isnumeric()                  # 数字から始まるラベルはスキップ\n",
    "        if do_skip:\n",
    "            continue\n",
    "        words.append(w)\n",
    "        numbs.append(p)\n",
    "    return words, numbs\n"
   ]
  },
  {
   "cell_type": "code",
   "execution_count": 15,
   "metadata": {},
   "outputs": [],
   "source": [
    "import numpy\n",
    "import re\n",
    "\n",
    "\n",
    "def estimate_topic_label(w2v, topics: list):\n",
    "    proper_topics = {}\n",
    "    topic_labels = []\n",
    "\n",
    "    for idx_tpc, tpc in enumerate(topics):\n",
    "        # トピック情報を、単語リストとその確率リストに分解する\n",
    "        _words, _probs = parse_topic(tpc)\n",
    "\n",
    "        # word2vec モデルに含まれる単語のみに絞る\n",
    "        words = [w for w in _words if w in w2v.wv]\n",
    "        probs = [p for w, p in zip(_words, _probs) if w in w2v.wv]\n",
    "\n",
    "        # 単語リストからベクトルに変換し、期待値ベクトルを算出\n",
    "        vectors = w2v.wv[words]\n",
    "        probs = numpy.array(probs).reshape(-1, 1)\n",
    "        topic_vector = (vectors * probs).sum(axis=0)    # 期待値ベクトル\n",
    "\n",
    "        # トピックに対する期待値ベクトルに類似するベクトルを十分な数(topn=100) を取得しておく\n",
    "        estimated_topic_labels = w2v.wv.similar_by_vector(topic_vector, topn=100)\n",
    "\n",
    "        # ラベルと類似度を取得し、最も類似度が高い最初のインデックスの要素を保持\n",
    "        labels, similarities = parse_topic(estimated_topic_labels)\n",
    "        topic_label = labels[0]\n",
    "        similarity = similarities[0]\n",
    "\n",
    "        # 重複しないトピックラベル集合(proper_topics)として記録しておく\n",
    "        if topic_label not in proper_topics:\n",
    "            proper_topics[topic_label] = (idx_tpc, similarity, words, probs)\n",
    "\n",
    "        # 重複を許すトピックラベル(topic_labels)として記録しておく\n",
    "        topic_labels.append((topic_label, similarity))\n",
    "\n",
    "    return topic_labels, proper_topics\n"
   ]
  },
  {
   "cell_type": "code",
   "execution_count": 16,
   "metadata": {},
   "outputs": [],
   "source": [
    "# トピック数を自動で特定するサンプル\n",
    "# # トピック数が proper_topics と一致するまで、減らしていくことで、トピック数を特定する\n",
    "\n",
    "# w2v : is already loaded\n",
    "topic_label_counter = {}\n",
    "\n",
    "n_topic_words = 7       # to calculate the average over\n",
    "n_topics = 15           # default topic numbers\n",
    "\n",
    "\n",
    "rs = numpy.random.RandomState(12345)\n",
    "\n",
    "while True:\n",
    "    # トピックモデルのパイプラインを構築\n",
    "    pipe_topic = Pipeline(\n",
    "        steps=[\n",
    "            (TokenizerWord(use_stoppoes=True, use_orgform=True), None),\n",
    "            (VectorizerBoW(), None),\n",
    "            (TopicModel(n_topics=n_topics, n_epoch=2000, random_state=rs), None),\n",
    "        ],\n",
    "        name=\"pipe_topic\",\n",
    "        do_print=False,\n",
    "    )\n",
    "\n",
    "    # トピックモデルを学習\n",
    "    X: TextSequences = [contents]\n",
    "    pipe_topic.fit(X)\n",
    "\n",
    "    model_bow: VectorizerBoW = pipe_topic.get_model(1)\n",
    "    model_topic: TopicModel = pipe_topic.get_model(-1)\n",
    "    topics = pickup_topic_words(model_topic, model_bow, topn=n_topic_words)\n",
    "    topic_labels, proper_topics = estimate_topic_label(w2v, topics)\n",
    "\n",
    "    # トピックラベルをカウント\n",
    "    for tpc in proper_topics:\n",
    "        cnt = topic_label_counter.get(tpc, 0) + 1\n",
    "        topic_label_counter[tpc] = cnt\n",
    "    \n",
    "    # ループの終了条件\n",
    "    if len(proper_topics) >= n_topics:\n",
    "        break\n",
    "\n",
    "    # 状態/処理文脈としてトピック数を更新・保持\n",
    "    n_topics = len(proper_topics)"
   ]
  },
  {
   "cell_type": "code",
   "execution_count": 17,
   "metadata": {},
   "outputs": [
    {
     "name": "stdout",
     "output_type": "stream",
     "text": [
      "----------------------------------------------------------------------------------------------------\n",
      "topic[0]: BERT : 3 (0.915)\n",
      "     ... ['BERT', 'する', '自然言語処理', 'AI', 'の', 'いる', 'できる']\n",
      "----------------------------------------------------------------------------------------------------\n",
      "topic[1]: ユニモーダルモデル : 1 (0.850)\n",
      "     ... ['する', '自然言語処理', 'BERT', 'AI', 'いる', 'できる', 'データセット']\n",
      "----------------------------------------------------------------------------------------------------\n",
      "topic[2]: 自然言語処理 : 3 (0.882)\n",
      "     ... ['する', '自然言語処理', 'いる', 'BERT', 'AI', 'できる', 'の']\n"
     ]
    }
   ],
   "source": [
    "# トピックの出力\n",
    "# # 自動付与したラベルと、各トピックの上位単語の表示\n",
    "# # 理想的には、この出力結果に違和感がないこと\n",
    "\n",
    "for idx_tpc, (lbl, sim) in enumerate(topic_labels):\n",
    "    print(\"-\" * 100)\n",
    "    print(f\"topic[{idx_tpc}]: {lbl} : {topic_label_counter[lbl]} ({sim:0.3f})\")\n",
    "    print(\" \" * 4 + f\" ... {[_t for _t, _s in topics[idx_tpc][:20]]}\")\n"
   ]
  },
  {
   "cell_type": "code",
   "execution_count": 18,
   "metadata": {},
   "outputs": [
    {
     "name": "stdout",
     "output_type": "stream",
     "text": [
      "estimated n_topic: 3\n",
      "[00]: BERT: ['BERT', '自然言語処理', 'AI']\n",
      "[01]: ユニモーダルモデル: ['自然言語処理', 'BERT', 'AI', 'データセット']\n",
      "[02]: 自然言語処理: ['自然言語処理', 'BERT', 'AI']\n"
     ]
    }
   ],
   "source": [
    "# 実際に期待値ベクトルを算出するときに使った単語を表示\n",
    "# # 上記の自動付与ラベルと上位単語の関係性に違和感があるときに確認すると良いだろう\n",
    "print(\"estimated n_topic:\", len(proper_topics))\n",
    "\n",
    "for lbl, v in proper_topics.items():\n",
    "    tpc_idx, sim, words, probs = v\n",
    "    print(f\"[{tpc_idx:02d}]: {lbl}: {words}\")\n"
   ]
  },
  {
   "cell_type": "code",
   "execution_count": 19,
   "metadata": {},
   "outputs": [
    {
     "name": "stdout",
     "output_type": "stream",
     "text": [
      "スーパーマーケットニュースカスミ : 1\n",
      "BERT : 3\n",
      "ビデオクリッパー : 1\n",
      "Photobycislander : 1\n",
      "gooAIxDESIGN : 1\n",
      "自然言語処理 : 3\n",
      "Bybee : 1\n",
      "ユニモーダルモデル : 1\n"
     ]
    }
   ],
   "source": [
    "for lbl, cnt in topic_label_counter.items():\n",
    "    print(f\"{lbl} : {cnt}\")"
   ]
  },
  {
   "cell_type": "code",
   "execution_count": 20,
   "metadata": {},
   "outputs": [
    {
     "name": "stdout",
     "output_type": "stream",
     "text": [
      "日本語でBERTが動くイメージを知ってほしい 『BERTによる自然言語処理入門』の著者に聞く | Ledge.ai AI（人工知能）関連メディア メールマガジン登録 情報提供はこちら About Contact Hot Topics 注目のキーワード Fore- 見えない変化を可視化する 見えている世界が動き出す Dataiku DATAFLUCT キカガク AI開発の現場 DataRobot J\n"
     ]
    }
   ],
   "source": [
    "print(\" \".join(contents)[:200])"
   ]
  },
  {
   "attachments": {},
   "cell_type": "markdown",
   "metadata": {},
   "source": [
    "## LDA の可視化"
   ]
  },
  {
   "cell_type": "code",
   "execution_count": null,
   "metadata": {},
   "outputs": [],
   "source": []
  },
  {
   "cell_type": "code",
   "execution_count": 21,
   "metadata": {},
   "outputs": [
    {
     "name": "stderr",
     "output_type": "stream",
     "text": [
      "/usr/local/lib/python3.10/dist-packages/past/builtins/misc.py:45: DeprecationWarning: the imp module is deprecated in favour of importlib and slated for removal in Python 3.12; see the module's documentation for alternative uses\n",
      "  from imp import reload\n"
     ]
    }
   ],
   "source": [
    "import pyLDAvis\n",
    "import pyLDAvis.gensim_models\n",
    "\n",
    "pyLDAvis.enable_notebook()\n"
   ]
  },
  {
   "cell_type": "code",
   "execution_count": 22,
   "metadata": {},
   "outputs": [
    {
     "name": "stderr",
     "output_type": "stream",
     "text": [
      "/usr/local/lib/python3.10/dist-packages/pyLDAvis/_prepare.py:247: FutureWarning: In a future version of pandas all arguments of DataFrame.drop except for the argument 'labels' will be keyword-only\n",
      "  by='saliency', ascending=False).head(R).drop('saliency', 1)\n",
      "/usr/local/lib/python3.10/dist-packages/past/builtins/misc.py:45: DeprecationWarning: the imp module is deprecated in favour of importlib and slated for removal in Python 3.12; see the module's documentation for alternative uses\n",
      "  from imp import reload\n",
      "/usr/local/lib/python3.10/dist-packages/past/builtins/misc.py:45: DeprecationWarning: the imp module is deprecated in favour of importlib and slated for removal in Python 3.12; see the module's documentation for alternative uses\n",
      "  from imp import reload\n",
      "/usr/local/lib/python3.10/dist-packages/past/builtins/misc.py:45: DeprecationWarning: the imp module is deprecated in favour of importlib and slated for removal in Python 3.12; see the module's documentation for alternative uses\n",
      "  from imp import reload\n",
      "/usr/local/lib/python3.10/dist-packages/past/builtins/misc.py:45: DeprecationWarning: the imp module is deprecated in favour of importlib and slated for removal in Python 3.12; see the module's documentation for alternative uses\n",
      "  from imp import reload\n",
      "/usr/local/lib/python3.10/dist-packages/past/builtins/misc.py:45: DeprecationWarning: the imp module is deprecated in favour of importlib and slated for removal in Python 3.12; see the module's documentation for alternative uses\n",
      "  from imp import reload\n",
      "/usr/local/lib/python3.10/dist-packages/past/builtins/misc.py:45: DeprecationWarning: the imp module is deprecated in favour of importlib and slated for removal in Python 3.12; see the module's documentation for alternative uses\n",
      "  from imp import reload\n",
      "/usr/local/lib/python3.10/dist-packages/past/builtins/misc.py:45: DeprecationWarning: the imp module is deprecated in favour of importlib and slated for removal in Python 3.12; see the module's documentation for alternative uses\n",
      "  from imp import reload\n",
      "/usr/local/lib/python3.10/dist-packages/past/builtins/misc.py:45: DeprecationWarning: the imp module is deprecated in favour of importlib and slated for removal in Python 3.12; see the module's documentation for alternative uses\n",
      "  from imp import reload\n"
     ]
    },
    {
     "data": {
      "text/html": [
       "\n",
       "<link rel=\"stylesheet\" type=\"text/css\" href=\"https://cdn.jsdelivr.net/gh/bmabey/pyLDAvis@3.3.1/pyLDAvis/js/ldavis.v1.0.0.css\">\n",
       "\n",
       "\n",
       "<div id=\"ldavis_el7903121398128381982887675575030\"></div>\n",
       "<script type=\"text/javascript\">\n",
       "\n",
       "var ldavis_el7903121398128381982887675575030_data = {\"mdsDat\": {\"x\": [-0.02665589815343291, -0.018061276980847113, 0.04471717513428], \"y\": [0.0, 0.0, 0.0], \"topics\": [1, 2, 3], \"cluster\": [1, 1, 1], \"Freq\": [53.11126708984375, 39.65505361557007, 7.233679294586182]}, \"tinfo\": {\"Term\": [\"BERT\", \"\\u3059\\u308b\", \"\\u30da\\u30fc\\u30b8\", \"\\u4e8b\\u524d\\u767b\\u9332\", \"\\u9593\", \"\\u30c1\\u30e3\\u30c3\\u30c8\\u30dc\\u30c3\\u30c8\", \"\\u7d71\\u4e00\", \"\\u30de\\u30b7\\u30f3\", \"\\u5165\\u529b\", \"\\u4e00\\u8cab\", \"13\", \"\\u3055\\u304f\", \"\\u6d77\\u5916\", \"\\u623b\\u308b\", \"\\u7d10\\u89e3\\u304f\", \"\\u76ee\\u6b21\", \"\\u30cb\\u30e5\\u30fc\\u30b9\\u901f\\u5831\", \"\\u7d44\\u307f\\u5408\\u308f\\u305b\", \"\\u8a00\\u8449\", \"\\u6700\\u4f4e\\u9650\", \"2023\\u5e74\", \"Ohmsha\", \"\\u3056\\u3063\\u304f\\u308a\", \"\\u52c9\\u5f37\", \"\\u4f1d\\u3048\\u308b\", \"\\u3046\\u304b\\u304c\\u3046\", \"\\u518a\", \"livedoor \\u30cb\\u30e5\\u30fc\\u30b9\", \"inc\", \"\\u60c5\\u5831\\u63d0\\u4f9b\", \"\\u77e5\\u308b\", \"\\u805e\\u304f\", \"\\u3044\\u308b\", \"\\u4e2d\", \"\\u6587\\u7ae0\", \"02\", \"\\u52d5\\u304b\\u3059\", \"AI\", \"\\u81ea\\u7136\\u8a00\\u8a9e\\u51e6\\u7406\", \"\\u601d\\u3046\", \"\\u30c9\\u30ad\\u30e5\\u30e1\\u30f3\\u30c8\", \"\\u52d5\\u304f\", \"\\u7528\\u3044\\u308b\", \"\\u958b\\u767a\", \"\\u898b\\u308b\", \"\\u306a\\u3044\", \"\\u6821\\u6b63\", \"\\u5b66\\u3073\", \"\\u56fa\\u6709\\u8868\\u73fe\\u62bd\\u51fa\", \"\\u3059\\u308b\", \"\\u5b09\\u3057\\u3044\", \"\\u3067\\u304d\\u308b\", \"\\u9032\\u3081\\u308b\", \"\\u8fd1\\u6c5f\", \"\\u3053\\u306e\", \"\\u30a4\\u30d9\\u30f3\\u30c8\", \"DX\", \"\\u3068\\u304d\", \"\\u672a\\u7d4c\\u9a13\", \"\\u6a5f\\u68b0\\u5b66\\u7fd2\", \"\\u5165\\u9580\", \"\\u65b9\", \"\\u4f7f\\u3046\", \"\\u672c\\u66f8\", \"\\u89e3\\u8aac\", \"\\u3053\\u3068\", \"Transformers\", \"\\u30c7\\u30fc\\u30bf\\u30bb\\u30c3\\u30c8\", \"\\u306e\", \"\\u7ae0\", \"\\u65e5\\u672c\\u8a9e\", \"\\u30a4\\u30e1\\u30fc\\u30b8\", \"BERT\", \"\\u3042\\u308b\", \"\\u307f\\u308b\", \"\\u30bf\\u30b9\\u30af\", \"\\u6c0f\", \"\\u307b\\u3057\\u3044\", \"\\u8005\", \"BERT\", \"\\u30de\\u30fc\\u30af\", \"\\u591a\\u3044\", \"\\u63b4\\u3080\", \"\\u8003\\u3048\\u308b\", \"\\u4eba\", \"\\u696d\\u52d9\", \"\\u6700\\u521d\", \"\\u30e9\\u30b8\\u30aa\", \"\\u4e8b\\u524d\\u767b\\u9332\", \"\\u6301\\u3064\", \"\\u30c6\\u30af\\u30ce\\u30ed\\u30b8\\u30fc\", \"\\u9593\", \"\\u5f37\\u3044\", \"\\u4f55\", \"\\u7c21\\u5358\", \"\\u95a2\\u9023\", \"\\u30c1\\u30e3\\u30c3\\u30c8\\u30dc\\u30c3\\u30c8\", \"\\u79c1\", \"\\u7d71\\u4e00\", \"\\u8aad\\u8005\", \"\\u57f7\\u7b46\", \"\\u4e00\\u822c\", \"Tue\", \"\\u5165\\u529b\", \"\\u305f\\u3081\", \"\\u8a71\", \"\\u3042\\u308b\", \"\\u5206\\u304b\\u308b\", \"\\u30bf\\u30b9\\u30af\", \"\\u6280\\u8853\", \"\\u306e\", \"\\u65e5\\u672c\\u8a9e\", \"\\u30a4\\u30f3\\u30bf\\u30d3\\u30e5\\u30fc\", \"\\u8457\\u8005\", \"\\u30c7\\u30fc\\u30bf\\u30bb\\u30c3\\u30c8\", \"\\u307f\\u308b\", \"\\u3059\\u308b\", \"\\u3053\\u3068\", \"\\u7ae0\", \"\\u3044\\u304f\", \"\\u307b\\u3057\\u3044\", \"\\u672c\\u66f8\", \"\\u3067\\u304d\\u308b\", \"\\u89e3\\u8aac\", \"\\u81ea\\u7136\\u8a00\\u8a9e\\u51e6\\u7406\", \"\\u6c0f\", \"Transformers\", \"AI\", \"\\u8fd1\\u6c5f\", \"\\u4f7f\\u3046\", \"\\u3044\\u308b\", \"\\u5165\\u9580\", \"\\u672c\", \"\\u5b66\\u7fd2\", \"\\u30a4\\u30e1\\u30fc\\u30b8\", \"\\u6587\\u7ae0\", \"\\u52d5\\u304f\", \"\\u65b9\", \"\\u4e8b\\u524d\\u767b\\u9332\", \"\\u9593\", \"\\u7d71\\u4e00\", \"\\u30c1\\u30e3\\u30c3\\u30c8\\u30dc\\u30c3\\u30c8\", \"\\u5165\\u529b\", \"13\", \"\\u3055\\u304f\", \"\\u6d77\\u5916\", \"\\u623b\\u308b\", \"\\u76ee\\u6b21\", \"\\u7d10\\u89e3\\u304f\", \"\\u30cb\\u30e5\\u30fc\\u30b9\\u901f\\u5831\", \"\\u7d44\\u307f\\u5408\\u308f\\u305b\", \"\\u8a00\\u8449\", \"2023\\u5e74\", \"\\u4f1d\\u3048\\u308b\", \"\\u3056\\u3063\\u304f\\u308a\", \"\\u60c5\\u5831\\u63d0\\u4f9b\", \"\\u5909\\u9077\", \"\\u4eba\\u3005\", \"2012\\u5e74\", \"\\u9762\\u767d\\u3044\", \"\\u5c02\\u9580\\u77e5\\u8b58\", \"\\u62c5\\u3046\", \"2021\", \"\\u7406\\u5b66\", \"\\u753b\\u9762\", \"\\u8907\\u96d1\", \"\\u30b3\\u30f3\\u30c6\\u30b9\\u30c8\", \"\\u904e\\u53bb\", \"\\u524d\\u63d0\", \"\\u9069\\u3059\", \"\\u540d\\u524d\", \"\\u7814\\u4fee\", \"\\u306a\\u3093\\u3068\\u304b\", \"\\u308f\\u305a\\u304b\", \"\\u9b45\\u529b\", \"\\u7d9a\\u3051\\u308b\", \"\\u74b0\\u5883\", \"\\u8f1d\\u304f\", \"\\u78ba\\u8a8d\", \"\\u79c1\\u81ea\\u8eab\", \"\\u4f4d\\u7f6e\\u3065\\u3051\", \"\\u30a4\\u30f3\\u30bf\\u30fc\\u30cd\\u30c3\\u30c8\", \"\\u958b\\u50ac\", \"\\u4e00\", \"\\u6771\\u4eac\\u5927\\u5b66\\u751f\\u7523\\u6280\\u8853\\u7814\\u7a76\\u6240\", \"\\u8a8d\\u8b58\", \"inc\", \"\\u4e01\\u5be7\", \"\\u767a\\u58f2\\u65e5\", \"\\u601d\\u3044\", \"\\u3059\\u308b\", \"\\u81ea\\u7136\\u8a00\\u8a9e\\u51e6\\u7406\", \"BERT\", \"AI\", \"\\u3044\\u308b\", \"\\u3067\\u304d\\u308b\", \"\\u30c7\\u30fc\\u30bf\\u30bb\\u30c3\\u30c8\", \"\\u306e\", \"\\u3042\\u308b\", \"\\u8fd1\\u6c5f\", \"\\u65e5\\u672c\\u8a9e\", \"\\u77e5\\u308b\", \"\\u672c\\u66f8\", \"\\u7ae0\", \"\\u6587\\u7ae0\", \"\\u3053\\u3068\", \"\\u30bf\\u30b9\\u30af\", \"\\u89e3\\u8aac\", \"\\u307b\\u3057\\u3044\", \"Transformers\", \"\\u5b66\\u7fd2\", \"\\u4f7f\\u3046\", \"\\u52d5\\u304b\\u3059\", \"\\u958b\\u767a\", \"\\u5165\\u9580\", \"\\u307f\\u308b\", \"\\u82f1\\u8a9e\", \"02\", \"\\u6301\\u3064\", \"\\u5206\\u304b\\u308b\"], \"Freq\": [29.0, 38.0, 1.0, 1.0, 1.0, 1.0, 1.0, 1.0, 1.0, 1.0, 1.0, 1.0, 1.0, 1.0, 1.0, 1.0, 1.0, 1.0, 1.0, 1.0, 1.0, 1.0, 1.0, 1.0, 1.0, 1.0, 1.0, 1.0, 1.0, 1.0, 5.139826939978846, 3.4024850044525436, 14.061191823804336, 2.8482937890497624, 6.126789617890054, 3.2376133310328896, 3.1902948499071826, 12.820687535658891, 14.176930552481053, 3.598830194393585, 1.2983037771859323, 4.3879392935807005, 1.7295030932865743, 3.5014177203104424, 2.1530609576948265, 3.4639213545848406, 2.148292040306586, 1.271293581161821, 2.579343480776849, 23.06759809956452, 1.6994341562821802, 9.098738022302342, 2.5365832396706978, 6.397425536289731, 2.1034603933114155, 2.0982162091912784, 2.096224906584908, 1.6626571906821326, 1.2350681620306077, 2.085056138385333, 5.037354003146987, 3.770938692780746, 5.429234173692876, 6.642344668590738, 5.817990889747321, 6.5022606596619426, 4.900222153861776, 6.793519254209315, 8.632838212688739, 5.177325599831875, 6.192658222210724, 3.6745165170367926, 13.937593414563764, 5.985663310400398, 3.835714527737167, 3.70626074059453, 3.496316345622617, 3.483215348597909, 1.4500202855850048, 15.05984448232526, 1.376401567908136, 1.365537850019172, 1.3618066051353552, 1.705547183204934, 2.048894367590511, 1.3505653377927684, 0.985883112127565, 0.9811808728549891, 0.633986395303631, 2.642416240025873, 0.9672472996449155, 0.6318806828121978, 0.9658395897350378, 1.963258015282491, 0.9618698963210599, 1.6259170788778334, 0.628035958981073, 1.6242294542312625, 0.6271413309279237, 1.952414709329961, 2.9456217098945476, 1.288422696097885, 1.2881937398318697, 0.6241899504826202, 1.2827981370542005, 1.2784633840078445, 5.22180441708623, 2.591221105077903, 3.2097987008564544, 2.2409558443901427, 6.88833882287396, 5.027369160546053, 1.9038765518979577, 1.9006885785530776, 5.15458662574161, 3.088045639511022, 14.784000713653565, 4.736023453967997, 3.9037391643208785, 2.7639366338441196, 2.726880547508299, 4.604363609152158, 5.756828391777105, 3.9941012367654145, 7.9064884960568715, 2.7146716401860873, 3.47220256542407, 7.104349068002474, 4.1415787621686775, 3.6674043401366303, 6.630676808154868, 3.3433218842611736, 2.4298917255807098, 2.3731426882920963, 2.547044250483701, 3.0109727368707455, 2.5686646306509613, 2.4562739393104844, 0.1641894241195556, 0.16418021965993457, 0.16419347304026582, 0.16417775906181806, 0.16418624747436814, 0.1641896975193463, 0.16418744522583226, 0.16418494557060279, 0.16418274535323935, 0.1641863125695564, 0.16417826680428654, 0.16417106727646416, 0.16417469958796949, 0.16418223761077086, 0.16418061023106417, 0.1641982119699717, 0.16417632696767617, 0.1641795687080519, 0.1641820032680931, 0.1641907390423586, 0.16418960638608274, 0.16417193955198695, 0.1641831489434066, 0.16419066092813267, 0.164193954744659, 0.16417674357688108, 0.16418212043943198, 0.164182419877298, 0.16418935902436732, 0.16418649483608355, 0.1641967017616039, 0.1641902312998901, 0.16419970915930185, 0.16419416304926146, 0.16419309548817387, 0.16420116729151904, 0.1641904005473796, 0.1641905958329444, 0.16419213207938751, 0.1642006725680882, 0.16419420210637442, 0.16419477494403117, 0.1641971183708088, 0.16420270353796215, 0.16419741780867483, 0.1642009850249919, 0.16419157226076841, 0.16419791253210567, 0.16420349769925902, 0.16419430625867565, 0.1641918847176721, 0.16419386361139543, 0.16512963298081565, 0.1650873471465171, 0.16504635019694625, 0.16502596238398087, 0.1648342179974202, 0.16471886932381025, 0.1646587474079264, 0.16464055981232448, 0.1646355735209032, 0.16462931136379186, 0.1645331657707208, 0.1645236228161208, 0.1645091456462501, 0.16450100874771667, 0.16448004809709454, 0.16445330699375427, 0.16443237238120745, 0.1644307059443878, 0.1644121147586186, 0.16441165909230074, 0.16440078819586007, 0.16439878326406143, 0.16439836665485652, 0.16439487755276538, 0.16438127265841748, 0.16437218537013534, 0.16437176876093043, 0.16436820154461337, 0.1643666262410573, 0.16436445206176917], \"Total\": [29.0, 38.0, 1.0, 1.0, 1.0, 1.0, 1.0, 1.0, 1.0, 1.0, 1.0, 1.0, 1.0, 1.0, 1.0, 1.0, 1.0, 1.0, 1.0, 1.0, 1.0, 1.0, 1.0, 1.0, 1.0, 1.0, 1.0, 1.0, 1.0, 1.0, 7.165244144268892, 4.984088480977257, 20.856702849956623, 4.258662667397711, 9.302242402857894, 4.974421907332809, 4.9713788187615595, 20.090062566045347, 22.248506395684444, 5.688692162197583, 2.0884882168968857, 7.1209595233478264, 2.806811597479862, 5.682796399989047, 3.524665214306228, 5.680600172878528, 3.5243434043635435, 2.0869048478816, 4.242724551887783, 38.016728446198904, 2.8050877763462374, 15.020285283403258, 4.240023715903529, 10.7036336098222, 3.5218041189048614, 3.5214202613432457, 3.5213035915337696, 2.8027322339302607, 2.084721872649279, 3.520650014669329, 8.545057160066579, 6.391561239984176, 9.26103729709357, 11.411217423389147, 9.976522832457125, 11.402737420623694, 8.536836378378146, 12.112764627358851, 15.685817595375024, 9.24556577290047, 11.384560548527498, 6.385902605513858, 29.16248424708597, 11.37210330100753, 7.088132352618325, 7.080491813832192, 6.375342504344744, 6.374508010864828, 2.772931540137602, 29.16248424708597, 2.7775940870418996, 2.7783119606257785, 2.7785790393260306, 3.493297290691132, 4.207848496440132, 2.7791870221940633, 2.0658320411049638, 2.06614110522952, 1.3515878917986768, 5.643385973127545, 2.067003974792146, 1.3517350322846644, 2.0671063527920337, 4.213451160412897, 2.0673432341636664, 3.498130459871357, 1.3519966300766322, 3.4984360332735793, 1.351994932976713, 4.214005514402267, 6.360703393486992, 2.783155397617937, 2.7831678046381194, 1.3522322854425033, 2.7835157984525334, 2.783820156251244, 11.37210330100753, 5.646519910314827, 7.080491813832192, 4.9323915635053925, 15.685817595375024, 11.384560548527498, 4.217075988497261, 4.217212596319027, 12.112764627358851, 7.088132352618325, 38.016728446198904, 11.402737420623694, 9.24556577290047, 6.372201110986937, 6.374508010864828, 11.411217423389147, 15.020285283403258, 9.976522832457125, 22.248506395684444, 6.375342504344744, 8.536836378378146, 20.090062566045347, 10.7036336098222, 9.26103729709357, 20.856702849956623, 8.545057160066579, 5.65690215804286, 5.660238229399172, 6.385902605513858, 9.302242402857894, 7.1209595233478264, 6.391561239984176, 1.3515878917986768, 1.3517350322846644, 1.351994932976713, 1.3519966300766322, 1.3522322854425033, 1.3524552791084776, 1.3525693466320166, 1.3526519812290885, 1.3526825325967926, 1.3528048104462327, 1.352752960407063, 1.352828254060327, 1.3532018447735976, 1.3532670612746742, 1.353366125794538, 1.3537167317503789, 1.3535777099353494, 1.3539595739672752, 1.3540253382028375, 1.3541083518544133, 1.3540990869160359, 1.3539824564848653, 1.3540909566728836, 1.3541938345626776, 1.3542426519644706, 1.3541114087792614, 1.3541689027330683, 1.354244721048926, 1.3543179609171017, 1.3543539433285705, 1.3547980493831244, 1.3546229585422271, 1.3551709693139762, 1.3550300270330156, 1.3549769209979978, 1.3565620755575036, 1.3551556734787593, 1.3552050337071502, 1.3555864118734096, 1.3571568409264543, 1.3561302895037368, 1.356292893159283, 1.3571226493783333, 1.359026674475155, 1.3576954965160457, 1.3592471034126923, 1.3558594120647247, 1.3589434105176177, 1.363694544637598, 1.3576624287522545, 1.3560996482470444, 1.357999860482067, 38.016728446198904, 22.248506395684444, 29.16248424708597, 20.090062566045347, 20.856702849956623, 15.020285283403258, 12.112764627358851, 15.685817595375024, 11.37210330100753, 10.7036336098222, 11.384560548527498, 7.165244144268892, 11.411217423389147, 9.24556577290047, 9.302242402857894, 11.402737420623694, 7.080491813832192, 9.976522832457125, 6.374508010864828, 8.536836378378146, 5.660238229399172, 9.26103729709357, 4.9713788187615595, 5.682796399989047, 8.545057160066579, 7.088132352618325, 5.661514972443922, 4.974421907332809, 5.643385973127545, 5.646519910314827], \"Category\": [\"Default\", \"Default\", \"Default\", \"Default\", \"Default\", \"Default\", \"Default\", \"Default\", \"Default\", \"Default\", \"Default\", \"Default\", \"Default\", \"Default\", \"Default\", \"Default\", \"Default\", \"Default\", \"Default\", \"Default\", \"Default\", \"Default\", \"Default\", \"Default\", \"Default\", \"Default\", \"Default\", \"Default\", \"Default\", \"Default\", \"Topic1\", \"Topic1\", \"Topic1\", \"Topic1\", \"Topic1\", \"Topic1\", \"Topic1\", \"Topic1\", \"Topic1\", \"Topic1\", \"Topic1\", \"Topic1\", \"Topic1\", \"Topic1\", \"Topic1\", \"Topic1\", \"Topic1\", \"Topic1\", \"Topic1\", \"Topic1\", \"Topic1\", \"Topic1\", \"Topic1\", \"Topic1\", \"Topic1\", \"Topic1\", \"Topic1\", \"Topic1\", \"Topic1\", \"Topic1\", \"Topic1\", \"Topic1\", \"Topic1\", \"Topic1\", \"Topic1\", \"Topic1\", \"Topic1\", \"Topic1\", \"Topic1\", \"Topic1\", \"Topic1\", \"Topic1\", \"Topic1\", \"Topic1\", \"Topic1\", \"Topic1\", \"Topic1\", \"Topic1\", \"Topic2\", \"Topic2\", \"Topic2\", \"Topic2\", \"Topic2\", \"Topic2\", \"Topic2\", \"Topic2\", \"Topic2\", \"Topic2\", \"Topic2\", \"Topic2\", \"Topic2\", \"Topic2\", \"Topic2\", \"Topic2\", \"Topic2\", \"Topic2\", \"Topic2\", \"Topic2\", \"Topic2\", \"Topic2\", \"Topic2\", \"Topic2\", \"Topic2\", \"Topic2\", \"Topic2\", \"Topic2\", \"Topic2\", \"Topic2\", \"Topic2\", \"Topic2\", \"Topic2\", \"Topic2\", \"Topic2\", \"Topic2\", \"Topic2\", \"Topic2\", \"Topic2\", \"Topic2\", \"Topic2\", \"Topic2\", \"Topic2\", \"Topic2\", \"Topic2\", \"Topic2\", \"Topic2\", \"Topic2\", \"Topic2\", \"Topic2\", \"Topic2\", \"Topic2\", \"Topic2\", \"Topic2\", \"Topic2\", \"Topic2\", \"Topic2\", \"Topic2\", \"Topic2\", \"Topic2\", \"Topic3\", \"Topic3\", \"Topic3\", \"Topic3\", \"Topic3\", \"Topic3\", \"Topic3\", \"Topic3\", \"Topic3\", \"Topic3\", \"Topic3\", \"Topic3\", \"Topic3\", \"Topic3\", \"Topic3\", \"Topic3\", \"Topic3\", \"Topic3\", \"Topic3\", \"Topic3\", \"Topic3\", \"Topic3\", \"Topic3\", \"Topic3\", \"Topic3\", \"Topic3\", \"Topic3\", \"Topic3\", \"Topic3\", \"Topic3\", \"Topic3\", \"Topic3\", \"Topic3\", \"Topic3\", \"Topic3\", \"Topic3\", \"Topic3\", \"Topic3\", \"Topic3\", \"Topic3\", \"Topic3\", \"Topic3\", \"Topic3\", \"Topic3\", \"Topic3\", \"Topic3\", \"Topic3\", \"Topic3\", \"Topic3\", \"Topic3\", \"Topic3\", \"Topic3\", \"Topic3\", \"Topic3\", \"Topic3\", \"Topic3\", \"Topic3\", \"Topic3\", \"Topic3\", \"Topic3\", \"Topic3\", \"Topic3\", \"Topic3\", \"Topic3\", \"Topic3\", \"Topic3\", \"Topic3\", \"Topic3\", \"Topic3\", \"Topic3\", \"Topic3\", \"Topic3\", \"Topic3\", \"Topic3\", \"Topic3\", \"Topic3\", \"Topic3\", \"Topic3\", \"Topic3\", \"Topic3\", \"Topic3\", \"Topic3\"], \"logprob\": [30.0, 29.0, 28.0, 27.0, 26.0, 25.0, 24.0, 23.0, 22.0, 21.0, 20.0, 19.0, 18.0, 17.0, 16.0, 15.0, 14.0, 13.0, 12.0, 11.0, 10.0, 9.0, 8.0, 7.0, 6.0, 5.0, 4.0, 3.0, 2.0, 1.0, -5.0736, -5.4861, -4.0672, -5.6639, -4.898, -5.5358, -5.5505, -4.1596, -4.059, -5.43, -6.4496, -5.2318, -6.1628, -5.4575, -5.9438, -5.4682, -5.946, -6.4706, -5.7631, -3.5722, -6.1803, -4.5025, -5.7798, -4.8547, -5.9671, -5.9696, -5.9705, -6.2022, -6.4995, -5.9758, -5.0938, -5.3833, -5.0188, -4.8172, -4.9497, -4.8385, -5.1214, -4.7947, -4.5551, -5.0664, -4.8873, -5.4092, -4.0761, -4.9213, -5.3663, -5.4006, -5.4589, -5.4627, -6.0469, -3.7064, -6.099, -6.1069, -6.1097, -5.8846, -5.7012, -6.118, -6.4327, -6.4375, -6.8742, -5.4468, -6.4518, -6.8775, -6.4532, -5.7439, -6.4574, -5.9324, -6.8836, -5.9334, -6.8851, -5.7494, -5.3382, -6.1651, -6.1652, -6.8898, -6.1694, -6.1728, -4.7656, -5.4663, -5.2523, -5.6116, -4.4886, -4.8036, -5.7746, -5.7763, -4.7786, -5.2909, -3.7249, -4.8633, -5.0565, -5.4018, -5.4153, -4.8915, -4.6681, -5.0337, -4.3508, -5.4198, -5.1737, -4.4578, -4.9974, -5.119, -4.5268, -5.2115, -5.5306, -5.5543, -5.4835, -5.3162, -5.4751, -5.5198, -6.5237, -6.5238, -6.5237, -6.5238, -6.5238, -6.5237, -6.5238, -6.5238, -6.5238, -6.5238, -6.5238, -6.5239, -6.5238, -6.5238, -6.5238, -6.5237, -6.5238, -6.5238, -6.5238, -6.5237, -6.5237, -6.5238, -6.5238, -6.5237, -6.5237, -6.5238, -6.5238, -6.5238, -6.5237, -6.5238, -6.5237, -6.5237, -6.5237, -6.5237, -6.5237, -6.5237, -6.5237, -6.5237, -6.5237, -6.5237, -6.5237, -6.5237, -6.5237, -6.5237, -6.5237, -6.5237, -6.5237, -6.5237, -6.5237, -6.5237, -6.5237, -6.5237, -6.518, -6.5183, -6.5185, -6.5187, -6.5198, -6.5205, -6.5209, -6.521, -6.521, -6.5211, -6.5216, -6.5217, -6.5218, -6.5218, -6.522, -6.5221, -6.5223, -6.5223, -6.5224, -6.5224, -6.5225, -6.5225, -6.5225, -6.5225, -6.5226, -6.5226, -6.5226, -6.5227, -6.5227, -6.5227], \"loglift\": [30.0, 29.0, 28.0, 27.0, 26.0, 25.0, 24.0, 23.0, 22.0, 21.0, 20.0, 19.0, 18.0, 17.0, 16.0, 15.0, 14.0, 13.0, 12.0, 11.0, 10.0, 9.0, 8.0, 7.0, 6.0, 5.0, 4.0, 3.0, 2.0, 1.0, 0.3006, 0.251, 0.2385, 0.2305, 0.2152, 0.2033, 0.1892, 0.1836, 0.1821, 0.1749, 0.1574, 0.1486, 0.1486, 0.1485, 0.1399, 0.1381, 0.1378, 0.1371, 0.1351, 0.1332, 0.1316, 0.1315, 0.119, 0.1181, 0.1174, 0.115, 0.1141, 0.1106, 0.1093, 0.1089, 0.1043, 0.1051, 0.0988, 0.0916, 0.0935, 0.0711, 0.0777, 0.0545, 0.0356, 0.0529, 0.0239, 0.0801, -0.1055, -0.009, 0.0187, -0.0145, 0.0321, 0.0284, 0.2766, 0.2641, 0.2228, 0.2147, 0.2118, 0.208, 0.2053, 0.2033, 0.1852, 0.1803, 0.1679, 0.1662, 0.1656, 0.1645, 0.164, 0.1613, 0.1598, 0.1588, 0.1582, 0.1577, 0.1568, 0.1556, 0.1551, 0.1548, 0.1546, 0.1519, 0.1503, 0.1468, 0.1466, 0.146, 0.1338, 0.136, 0.102, 0.1076, 0.1297, 0.128, 0.0706, 0.0941, -0.0195, 0.0463, 0.0627, 0.0897, 0.0758, 0.0174, -0.0341, 0.0095, -0.1096, 0.0712, 0.0254, -0.1146, -0.0246, -0.0014, -0.221, -0.0134, 0.0799, 0.0557, 0.0058, -0.203, -0.0947, -0.0314, 0.5184, 0.5182, 0.5181, 0.518, 0.5179, 0.5178, 0.5177, 0.5176, 0.5176, 0.5175, 0.5175, 0.5174, 0.5171, 0.5171, 0.517, 0.5169, 0.5169, 0.5166, 0.5166, 0.5166, 0.5166, 0.5165, 0.5165, 0.5165, 0.5165, 0.5165, 0.5165, 0.5164, 0.5164, 0.5163, 0.5161, 0.5162, 0.5158, 0.5159, 0.5159, 0.5148, 0.5158, 0.5157, 0.5155, 0.5144, 0.5151, 0.515, 0.5144, 0.513, 0.5139, 0.5128, 0.5153, 0.513, 0.5096, 0.514, 0.5151, 0.5137, -2.8126, -2.2771, -2.548, -2.1755, -2.2141, -1.8865, -1.6717, -1.9303, -1.6088, -1.5482, -1.6105, -1.1475, -1.613, -1.4026, -1.4088, -1.6126, -1.1362, -1.4791, -1.0313, -1.3233, -0.9125, -1.4049, -0.7827, -0.9165, -1.3245, -1.1376, -0.9129, -0.7835, -0.9097, -0.9103]}, \"token.table\": {\"Topic\": [1, 2, 1, 2, 1, 2, 1, 2, 1, 2, 1, 2, 1, 2, 1, 2, 1, 1, 2, 1, 2, 1, 1, 1, 2, 1, 2, 1, 2, 1, 1, 2, 1, 2, 1, 2, 1, 2, 1, 2, 1, 2, 1, 2, 1, 2, 1, 2, 1, 2, 1, 2, 1, 2, 1, 2, 1, 2, 1, 2, 1, 2, 1, 2, 1, 2, 1, 2, 1, 2, 1, 2, 1, 2, 1, 2, 1, 2, 1, 2, 1, 1, 1, 2, 1, 2, 1, 2, 1, 2, 1, 1, 2, 1, 2, 1, 2, 1, 2, 1, 2, 1, 2, 1, 2, 1, 2, 1, 2, 1, 2, 1, 2, 1, 1, 2, 1, 2, 1, 1, 2, 1, 2, 1, 2, 1, 2, 1, 2, 1, 2, 1, 2, 1, 2, 1, 2, 1, 2, 1, 2, 1, 2, 1, 2, 1, 2, 1, 2, 1, 2, 1, 2, 1, 2, 1, 2, 1, 2, 1, 2, 1, 2, 1, 2, 1, 1, 2, 1, 2, 1, 2, 1, 2, 1, 2, 1, 2, 1, 2, 1, 2, 1, 2, 1, 2, 1, 2, 1, 2, 1, 2, 1, 2, 1, 2, 1, 2, 1, 2, 1, 2, 1, 2, 1, 2, 1, 2, 1, 2, 1, 2, 1, 2, 1, 2, 1, 2, 1, 2, 1, 2, 1, 2, 1, 2, 1, 2, 1, 2, 1, 2, 1, 2, 1, 2, 1, 2, 1, 2, 1, 2, 1, 2, 1, 2, 1, 2, 1, 2, 1, 2, 1, 2, 1, 2, 1, 2, 1, 2, 1, 2, 1, 2, 1, 2, 1, 2], \"Freq\": [0.603085153588941, 0.402056769059294, 0.7393959825859736, 0.7393959825859736, 0.7384983932582826, 0.7384983932582826, 0.7384201040702679, 0.7384201040702679, 0.738898351998368, 0.738898351998368, 0.6470860883216752, 0.3484309706347482, 0.4800688405480728, 0.5143594720157924, 0.5679714764749558, 0.2839857382374779, 0.733018093725303, 0.5856970636878852, 0.3514182382127311, 0.35930280536211673, 0.35930280536211673, 0.7333020462186788, 0.7332505944784772, 0.5276068851281381, 0.43967240427344845, 0.47079493376745524, 0.47079493376745524, 0.6712470374975457, 0.33562351874877283, 0.7332094853355062, 0.6138876781762393, 0.43849119869731384, 0.567890754986657, 0.2839453774933285, 0.7393336263978356, 0.7393336263978356, 0.7387828512984029, 0.7387828512984029, 0.6049968248201444, 0.39456314662183334, 0.35925788549716137, 0.35925788549716137, 0.5991896844958462, 0.3994597896638975, 0.7135893953006733, 0.35679469765033667, 0.5281132114038245, 0.35207547426921637, 0.7380199503792712, 0.7380199503792712, 0.5737667128459825, 0.44626299888020854, 0.47062455563421446, 0.47062455563421446, 0.5643235482930025, 0.4232426612197518, 0.7371575676616435, 0.7371575676616435, 0.5679526587482915, 0.28397632937414574, 0.6263797378535386, 0.469784803390154, 0.47426226263299853, 0.47426226263299853, 0.7358207302194358, 0.7358207302194358, 0.7383790430740735, 0.7383790430740735, 0.564932508245507, 0.42369938118413025, 0.7396468140185521, 0.7396468140185521, 0.4837920063025318, 0.4837920063025318, 0.57790275096977, 0.41278767926412135, 0.4788152463152598, 0.4788152463152598, 0.7391921310030585, 0.7391921310030585, 0.7319813034871036, 0.7323470542349164, 0.36002380789375404, 0.36002380789375404, 0.48399404932651663, 0.48399404932651663, 0.7357014022610587, 0.7357014022610587, 0.3593044070970258, 0.3593044070970258, 0.7325510941253722, 0.7365601189384312, 0.7365601189384312, 0.7044464974806689, 0.23481549916022296, 0.7398704931199199, 0.7398704931199199, 0.4753022837423955, 0.4753022837423955, 0.7384933403819038, 0.7384933403819038, 0.7387069809700756, 0.7387069809700756, 0.7368530769551868, 0.7368530769551868, 0.4746702700130527, 0.4746702700130527, 0.5398963247420644, 0.4319170597936515, 0.7395179147588248, 0.7395179147588248, 0.5851335931802055, 0.35108015590812336, 0.7332156049044294, 0.5313007033800988, 0.5313007033800988, 0.738117389861409, 0.738117389861409, 0.7331580378301175, 0.6034543150641138, 0.4023028767094092, 0.5617220526089232, 0.42129153945669234, 0.7379142725483758, 0.7379142725483758, 0.7070928040014198, 0.2356976013338066, 0.47164595083490823, 0.47164595083490823, 0.7385386165130956, 0.7385386165130956, 0.3599307832136903, 0.3599307832136903, 0.7129901662489495, 0.35649508312447475, 0.47917853131401356, 0.47917853131401356, 0.5300130274407985, 0.35334201829386563, 0.7385028273559148, 0.7385028273559148, 0.48376804543670593, 0.48376804543670593, 0.7363771006905825, 0.7363771006905825, 0.7031493155106447, 0.3515746577553224, 0.7385744886532113, 0.7385744886532113, 0.7392717625178944, 0.7392717625178944, 0.6082242176790877, 0.4054828117860585, 0.7384467234138157, 0.7384467234138157, 0.5315957501906272, 0.5315957501906272, 0.3598961864487969, 0.3598961864487969, 0.6450057674434114, 0.3225028837217057, 0.6258251857115747, 0.3129125928557874, 0.5270295655615844, 0.43919130463465367, 0.7329691763138325, 0.4840664585031434, 0.4840664585031434, 0.47968029362554393, 0.47968029362554393, 0.5303255945013412, 0.35355039633422747, 0.6134314806457338, 0.4381653433183813, 0.7375395937822077, 0.7375395937822077, 0.5674815903364494, 0.2837407951682247, 0.35981745453407366, 0.35981745453407366, 0.5680769152476652, 0.2840384576238326, 0.4705629537480574, 0.4705629537480574, 0.7392884599121713, 0.7392884599121713, 0.7384916732231843, 0.7384916732231843, 0.7376881261431413, 0.7376881261431413, 0.712552278819045, 0.3562761394095225, 0.7384603190796492, 0.7384603190796492, 0.7374089369410611, 0.7374089369410611, 0.7392049409331584, 0.7392049409331584, 0.6978129285377165, 0.2791251714150866, 0.7379910260657528, 0.7379910260657528, 0.7373922754619253, 0.7373922754619253, 0.5716840270846819, 0.5716840270846819, 0.737303870752171, 0.737303870752171, 0.5407997869265524, 0.4326398295412419, 0.4837126140810116, 0.4837126140810116, 0.7392332741220433, 0.7392332741220433, 0.7389880555234601, 0.7389880555234601, 0.7396477424647451, 0.7396477424647451, 0.7378957243573024, 0.7378957243573024, 0.572524991024829, 0.572524991024829, 0.360629170076942, 0.360629170076942, 0.6019154779153868, 0.20063849263846228, 0.6292557240029195, 0.35957469943023973, 0.5298935028171411, 0.3532623352114274, 0.4742468998944208, 0.4742468998944208, 0.7384189758742077, 0.7384189758742077, 0.5674297779778403, 0.28371488898892017, 0.6014119448992686, 0.40094129659951244, 0.7389524422903462, 0.7389524422903462, 0.3592186074788046, 0.3592186074788046, 0.7358658147649451, 0.7358658147649451, 0.4746078269628674, 0.4746078269628674, 0.7368345130378273, 0.7368345130378273, 0.5605573040629954, 0.37370486937533026, 0.7075432122578857, 0.4716954748385905, 0.7383594258546023, 0.7383594258546023, 0.7382127947072051, 0.7382127947072051, 0.7365421794254156, 0.7365421794254156, 0.7038788157196182, 0.3519394078598091, 0.7397899559574396, 0.7397899559574396, 0.5717339655975979, 0.5717339655975979, 0.7385620066275784, 0.7385620066275784, 0.737922601491934, 0.737922601491934], \"Term\": [\"02\", \"02\", \"13\", \"13\", \"2012\\u5e74\", \"2012\\u5e74\", \"2021\", \"2021\", \"2023\\u5e74\", \"2023\\u5e74\", \"AI\", \"AI\", \"BERT\", \"BERT\", \"DX\", \"DX\", \"Ohmsha\", \"Transformers\", \"Transformers\", \"Tue\", \"Tue\", \"inc\", \"livedoor \\u30cb\\u30e5\\u30fc\\u30b9\", \"\\u3042\\u308b\", \"\\u3042\\u308b\", \"\\u3044\\u304f\", \"\\u3044\\u304f\", \"\\u3044\\u308b\", \"\\u3044\\u308b\", \"\\u3046\\u304b\\u304c\\u3046\", \"\\u3053\\u3068\", \"\\u3053\\u3068\", \"\\u3053\\u306e\", \"\\u3053\\u306e\", \"\\u3055\\u304f\", \"\\u3055\\u304f\", \"\\u3056\\u3063\\u304f\\u308a\", \"\\u3056\\u3063\\u304f\\u308a\", \"\\u3059\\u308b\", \"\\u3059\\u308b\", \"\\u305f\\u3081\", \"\\u305f\\u3081\", \"\\u3067\\u304d\\u308b\", \"\\u3067\\u304d\\u308b\", \"\\u3068\\u304d\", \"\\u3068\\u304d\", \"\\u306a\\u3044\", \"\\u306a\\u3044\", \"\\u306a\\u3093\\u3068\\u304b\", \"\\u306a\\u3093\\u3068\\u304b\", \"\\u306e\", \"\\u306e\", \"\\u307b\\u3057\\u3044\", \"\\u307b\\u3057\\u3044\", \"\\u307f\\u308b\", \"\\u307f\\u308b\", \"\\u308f\\u305a\\u304b\", \"\\u308f\\u305a\\u304b\", \"\\u30a4\\u30d9\\u30f3\\u30c8\", \"\\u30a4\\u30d9\\u30f3\\u30c8\", \"\\u30a4\\u30e1\\u30fc\\u30b8\", \"\\u30a4\\u30e1\\u30fc\\u30b8\", \"\\u30a4\\u30f3\\u30bf\\u30d3\\u30e5\\u30fc\", \"\\u30a4\\u30f3\\u30bf\\u30d3\\u30e5\\u30fc\", \"\\u30a4\\u30f3\\u30bf\\u30fc\\u30cd\\u30c3\\u30c8\", \"\\u30a4\\u30f3\\u30bf\\u30fc\\u30cd\\u30c3\\u30c8\", \"\\u30b3\\u30f3\\u30c6\\u30b9\\u30c8\", \"\\u30b3\\u30f3\\u30c6\\u30b9\\u30c8\", \"\\u30bf\\u30b9\\u30af\", \"\\u30bf\\u30b9\\u30af\", \"\\u30c1\\u30e3\\u30c3\\u30c8\\u30dc\\u30c3\\u30c8\", \"\\u30c1\\u30e3\\u30c3\\u30c8\\u30dc\\u30c3\\u30c8\", \"\\u30c6\\u30af\\u30ce\\u30ed\\u30b8\\u30fc\", \"\\u30c6\\u30af\\u30ce\\u30ed\\u30b8\\u30fc\", \"\\u30c7\\u30fc\\u30bf\\u30bb\\u30c3\\u30c8\", \"\\u30c7\\u30fc\\u30bf\\u30bb\\u30c3\\u30c8\", \"\\u30c9\\u30ad\\u30e5\\u30e1\\u30f3\\u30c8\", \"\\u30c9\\u30ad\\u30e5\\u30e1\\u30f3\\u30c8\", \"\\u30cb\\u30e5\\u30fc\\u30b9\\u901f\\u5831\", \"\\u30cb\\u30e5\\u30fc\\u30b9\\u901f\\u5831\", \"\\u30da\\u30fc\\u30b8\", \"\\u30de\\u30b7\\u30f3\", \"\\u30de\\u30fc\\u30af\", \"\\u30de\\u30fc\\u30af\", \"\\u30e9\\u30b8\\u30aa\", \"\\u30e9\\u30b8\\u30aa\", \"\\u4e00\", \"\\u4e00\", \"\\u4e00\\u822c\", \"\\u4e00\\u822c\", \"\\u4e00\\u8cab\", \"\\u4e01\\u5be7\", \"\\u4e01\\u5be7\", \"\\u4e2d\", \"\\u4e2d\", \"\\u4e8b\\u524d\\u767b\\u9332\", \"\\u4e8b\\u524d\\u767b\\u9332\", \"\\u4eba\", \"\\u4eba\", \"\\u4eba\\u3005\", \"\\u4eba\\u3005\", \"\\u4f1d\\u3048\\u308b\", \"\\u4f1d\\u3048\\u308b\", \"\\u4f4d\\u7f6e\\u3065\\u3051\", \"\\u4f4d\\u7f6e\\u3065\\u3051\", \"\\u4f55\", \"\\u4f55\", \"\\u4f7f\\u3046\", \"\\u4f7f\\u3046\", \"\\u5165\\u529b\", \"\\u5165\\u529b\", \"\\u5165\\u9580\", \"\\u5165\\u9580\", \"\\u518a\", \"\\u5206\\u304b\\u308b\", \"\\u5206\\u304b\\u308b\", \"\\u524d\\u63d0\", \"\\u524d\\u63d0\", \"\\u52c9\\u5f37\", \"\\u52d5\\u304b\\u3059\", \"\\u52d5\\u304b\\u3059\", \"\\u52d5\\u304f\", \"\\u52d5\\u304f\", \"\\u540d\\u524d\", \"\\u540d\\u524d\", \"\\u56fa\\u6709\\u8868\\u73fe\\u62bd\\u51fa\", \"\\u56fa\\u6709\\u8868\\u73fe\\u62bd\\u51fa\", \"\\u57f7\\u7b46\", \"\\u57f7\\u7b46\", \"\\u5909\\u9077\", \"\\u5909\\u9077\", \"\\u591a\\u3044\", \"\\u591a\\u3044\", \"\\u5b09\\u3057\\u3044\", \"\\u5b09\\u3057\\u3044\", \"\\u5b66\\u3073\", \"\\u5b66\\u3073\", \"\\u5b66\\u7fd2\", \"\\u5b66\\u7fd2\", \"\\u5c02\\u9580\\u77e5\\u8b58\", \"\\u5c02\\u9580\\u77e5\\u8b58\", \"\\u5f37\\u3044\", \"\\u5f37\\u3044\", \"\\u601d\\u3044\", \"\\u601d\\u3044\", \"\\u601d\\u3046\", \"\\u601d\\u3046\", \"\\u60c5\\u5831\\u63d0\\u4f9b\", \"\\u60c5\\u5831\\u63d0\\u4f9b\", \"\\u623b\\u308b\", \"\\u623b\\u308b\", \"\\u6280\\u8853\", \"\\u6280\\u8853\", \"\\u62c5\\u3046\", \"\\u62c5\\u3046\", \"\\u6301\\u3064\", \"\\u6301\\u3064\", \"\\u63b4\\u3080\", \"\\u63b4\\u3080\", \"\\u6587\\u7ae0\", \"\\u6587\\u7ae0\", \"\\u65b9\", \"\\u65b9\", \"\\u65e5\\u672c\\u8a9e\", \"\\u65e5\\u672c\\u8a9e\", \"\\u6700\\u4f4e\\u9650\", \"\\u6700\\u521d\", \"\\u6700\\u521d\", \"\\u672a\\u7d4c\\u9a13\", \"\\u672a\\u7d4c\\u9a13\", \"\\u672c\", \"\\u672c\", \"\\u672c\\u66f8\", \"\\u672c\\u66f8\", \"\\u6771\\u4eac\\u5927\\u5b66\\u751f\\u7523\\u6280\\u8853\\u7814\\u7a76\\u6240\", \"\\u6771\\u4eac\\u5927\\u5b66\\u751f\\u7523\\u6280\\u8853\\u7814\\u7a76\\u6240\", \"\\u6821\\u6b63\", \"\\u6821\\u6b63\", \"\\u696d\\u52d9\", \"\\u696d\\u52d9\", \"\\u6a5f\\u68b0\\u5b66\\u7fd2\", \"\\u6a5f\\u68b0\\u5b66\\u7fd2\", \"\\u6c0f\", \"\\u6c0f\", \"\\u6d77\\u5916\", \"\\u6d77\\u5916\", \"\\u7406\\u5b66\", \"\\u7406\\u5b66\", \"\\u74b0\\u5883\", \"\\u74b0\\u5883\", \"\\u7528\\u3044\\u308b\", \"\\u7528\\u3044\\u308b\", \"\\u753b\\u9762\", \"\\u753b\\u9762\", \"\\u767a\\u58f2\\u65e5\", \"\\u767a\\u58f2\\u65e5\", \"\\u76ee\\u6b21\", \"\\u76ee\\u6b21\", \"\\u77e5\\u308b\", \"\\u77e5\\u308b\", \"\\u7814\\u4fee\", \"\\u7814\\u4fee\", \"\\u78ba\\u8a8d\", \"\\u78ba\\u8a8d\", \"\\u79c1\", \"\\u79c1\", \"\\u79c1\\u81ea\\u8eab\", \"\\u79c1\\u81ea\\u8eab\", \"\\u7ae0\", \"\\u7ae0\", \"\\u7c21\\u5358\", \"\\u7c21\\u5358\", \"\\u7d10\\u89e3\\u304f\", \"\\u7d10\\u89e3\\u304f\", \"\\u7d44\\u307f\\u5408\\u308f\\u305b\", \"\\u7d44\\u307f\\u5408\\u308f\\u305b\", \"\\u7d71\\u4e00\", \"\\u7d71\\u4e00\", \"\\u7d9a\\u3051\\u308b\", \"\\u7d9a\\u3051\\u308b\", \"\\u8003\\u3048\\u308b\", \"\\u8003\\u3048\\u308b\", \"\\u8005\", \"\\u8005\", \"\\u805e\\u304f\", \"\\u805e\\u304f\", \"\\u81ea\\u7136\\u8a00\\u8a9e\\u51e6\\u7406\", \"\\u81ea\\u7136\\u8a00\\u8a9e\\u51e6\\u7406\", \"\\u82f1\\u8a9e\", \"\\u82f1\\u8a9e\", \"\\u8457\\u8005\", \"\\u8457\\u8005\", \"\\u8907\\u96d1\", \"\\u8907\\u96d1\", \"\\u898b\\u308b\", \"\\u898b\\u308b\", \"\\u89e3\\u8aac\", \"\\u89e3\\u8aac\", \"\\u8a00\\u8449\", \"\\u8a00\\u8449\", \"\\u8a71\", \"\\u8a71\", \"\\u8a8d\\u8b58\", \"\\u8a8d\\u8b58\", \"\\u8aad\\u8005\", \"\\u8aad\\u8005\", \"\\u8f1d\\u304f\", \"\\u8f1d\\u304f\", \"\\u8fd1\\u6c5f\", \"\\u8fd1\\u6c5f\", \"\\u9032\\u3081\\u308b\", \"\\u9032\\u3081\\u308b\", \"\\u904e\\u53bb\", \"\\u904e\\u53bb\", \"\\u9069\\u3059\", \"\\u9069\\u3059\", \"\\u958b\\u50ac\", \"\\u958b\\u50ac\", \"\\u958b\\u767a\", \"\\u958b\\u767a\", \"\\u9593\", \"\\u9593\", \"\\u95a2\\u9023\", \"\\u95a2\\u9023\", \"\\u9762\\u767d\\u3044\", \"\\u9762\\u767d\\u3044\", \"\\u9b45\\u529b\", \"\\u9b45\\u529b\"]}, \"R\": 30, \"lambda.step\": 0.01, \"plot.opts\": {\"xlab\": \"PC1\", \"ylab\": \"PC2\"}, \"topic.order\": [3, 1, 2]};\n",
       "\n",
       "function LDAvis_load_lib(url, callback){\n",
       "  var s = document.createElement('script');\n",
       "  s.src = url;\n",
       "  s.async = true;\n",
       "  s.onreadystatechange = s.onload = callback;\n",
       "  s.onerror = function(){console.warn(\"failed to load library \" + url);};\n",
       "  document.getElementsByTagName(\"head\")[0].appendChild(s);\n",
       "}\n",
       "\n",
       "if(typeof(LDAvis) !== \"undefined\"){\n",
       "   // already loaded: just create the visualization\n",
       "   !function(LDAvis){\n",
       "       new LDAvis(\"#\" + \"ldavis_el7903121398128381982887675575030\", ldavis_el7903121398128381982887675575030_data);\n",
       "   }(LDAvis);\n",
       "}else if(typeof define === \"function\" && define.amd){\n",
       "   // require.js is available: use it to load d3/LDAvis\n",
       "   require.config({paths: {d3: \"https://d3js.org/d3.v5\"}});\n",
       "   require([\"d3\"], function(d3){\n",
       "      window.d3 = d3;\n",
       "      LDAvis_load_lib(\"https://cdn.jsdelivr.net/gh/bmabey/pyLDAvis@3.3.1/pyLDAvis/js/ldavis.v3.0.0.js\", function(){\n",
       "        new LDAvis(\"#\" + \"ldavis_el7903121398128381982887675575030\", ldavis_el7903121398128381982887675575030_data);\n",
       "      });\n",
       "    });\n",
       "}else{\n",
       "    // require.js not available: dynamically load d3 & LDAvis\n",
       "    LDAvis_load_lib(\"https://d3js.org/d3.v5.js\", function(){\n",
       "         LDAvis_load_lib(\"https://cdn.jsdelivr.net/gh/bmabey/pyLDAvis@3.3.1/pyLDAvis/js/ldavis.v3.0.0.js\", function(){\n",
       "                 new LDAvis(\"#\" + \"ldavis_el7903121398128381982887675575030\", ldavis_el7903121398128381982887675575030_data);\n",
       "            })\n",
       "         });\n",
       "}\n",
       "</script>"
      ],
      "text/plain": [
       "<IPython.core.display.HTML object>"
      ]
     },
     "execution_count": 22,
     "metadata": {},
     "output_type": "execute_result"
    }
   ],
   "source": [
    "model_bow: VectorizerBoW = pipe_topic.get_model(1)\n",
    "model_topic: TopicModel = pipe_topic.get_model(-1)\n",
    "\n",
    "lda = model_topic.model\n",
    "bow = pipe_topic[:-1](X)\n",
    "\n",
    "vis = pyLDAvis.gensim_models.prepare(lda, corpus=bow, dictionary=model_bow.vocab)\n",
    "pyLDAvis.display(vis)\n"
   ]
  },
  {
   "cell_type": "code",
   "execution_count": 23,
   "metadata": {},
   "outputs": [
    {
     "data": {
      "text/plain": [
       "681"
      ]
     },
     "execution_count": 23,
     "metadata": {},
     "output_type": "execute_result"
    }
   ],
   "source": [
    "len(model_bow.vocab)"
   ]
  },
  {
   "cell_type": "code",
   "execution_count": 24,
   "metadata": {},
   "outputs": [
    {
     "data": {
      "text/plain": [
       "(1, 681, 2)"
      ]
     },
     "execution_count": 24,
     "metadata": {},
     "output_type": "execute_result"
    }
   ],
   "source": [
    "numpy.array(bow).shape"
   ]
  },
  {
   "cell_type": "code",
   "execution_count": null,
   "metadata": {},
   "outputs": [],
   "source": []
  }
 ],
 "metadata": {
  "kernelspec": {
   "display_name": "Python 3",
   "language": "python",
   "name": "python3"
  },
  "language_info": {
   "codemirror_mode": {
    "name": "ipython",
    "version": 3
   },
   "file_extension": ".py",
   "mimetype": "text/x-python",
   "name": "python",
   "nbconvert_exporter": "python",
   "pygments_lexer": "ipython3",
   "version": "3.10.6"
  },
  "orig_nbformat": 4,
  "vscode": {
   "interpreter": {
    "hash": "767d51c1340bd893661ea55ea3124f6de3c7a262a8b4abca0554b478b1e2ff90"
   }
  }
 },
 "nbformat": 4,
 "nbformat_minor": 2
}
